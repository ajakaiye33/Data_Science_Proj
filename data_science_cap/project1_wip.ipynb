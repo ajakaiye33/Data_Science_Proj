{
 "cells": [
  {
   "cell_type": "markdown",
   "metadata": {
    "collapsed": true
   },
   "source": [
    "# Counterfeit Medicine Sales Prediction"
   ]
  },
  {
   "cell_type": "markdown",
   "metadata": {},
   "source": [
    "**By:** Hedgar Ajakaiye, \n",
    "** September 2019 **\n",
    "\n",
    "## Introduction\n",
    "\n",
    "Counterfeit medicines are fake medicines which are either contaminated or contain wrong or no active ingredient. They could have the right active ingredient but at the wrong dose. Counterfeit drugs are illegal and are harmful to health. `10%` of the world's medicine is counterfeit and the problem is even worse in developing countries. Up to `30%` of medicines in developing countries are counterfeit.\n",
    "\n",
    "Millions of pills, bottles and sachets of counterfeit and illegal medicines are being traded across the world. The World Health Organization (WHO) is working with International Criminal Police Organization (Interpol) to dislodge the criminal networks raking in billions of dollars from this cynical trade.\n",
    "\n",
    "Despite all these efforts, counterfeit medicine selling rackets don’t seem to stop popping here and there. It has become a challenge to deploy resources to counter these; without spreading them too thin and eventually rendering them ineffective. Government has decided that they should focus on illegal operations of high networth first instead of trying to control all of them. In order to do that they have collected data which will help them to predict sales figures given an illegal operation's characteristics\n"
   ]
  },
  {
   "cell_type": "markdown",
   "metadata": {},
   "source": [
    "## Formal Problem Statement\n",
    "\n",
    "We would like to make example out a few of these counterfeiters but the challenge is what yardstick can we employ to determine the 'big fish(es)' that we can use as scape goat to send a strong message to these clandestine communities and equally serve as deterrent. After considering numerous features and attributes of these counterfeiters, we resolved to zero in on their sales figures. To this end we shall put to use the power of machine learning to scientifically predict current and future counterfeiters and stop them in their tracks for good!\n",
    "\n",
    "We would train a model on  data we have collected secretly over the years on their operations. The data dictionary of the data is as follows:\n",
    "\n",
    "| Variable                   |        Description & Values                                                              |                            |\n",
    "|----------------------------|----------------------------------------------------------------------------|\n",
    "|Medicine_ID                 |Alphanumeric identification number;Norminal Integer                         |\n",
    "|Counterfeit_weight          |weighted percentage attached to each medicine;continuous                    |\n",
    "|District_ID                 |District identification number; alphanumeric                                |\n",
    "|Active since                |year monitoring started;Integer                                             |\n",
    "|Medicine MRP                |Medicine price list;continuous                                              |  \n",
    "|Medicine type               |the form of the medicine;categorical                                        |\n",
    "|Side effect level           |the severity of the side effect associated with the medicine,categorical    |\n",
    "|Availability rating         |the rate at which the medicine is available,continuous                      |\n",
    "|Area type                   |the level of development of an area,                                        |\n",
    "|Area city type              |the rating of the city;categorical                                          |\n",
    "|Area district level         |the level of the area district;categorical                                  |\n",
    "|Counterfeit sales           |value of sales,continuous                                                   |\n",
    "                           \n",
    "                           \n",
    "\n",
    "\n",
    "\n"
   ]
  },
  {
   "cell_type": "markdown",
   "metadata": {},
   "source": [
    "## Load Library, Packages, Modules"
   ]
  },
  {
   "cell_type": "code",
   "execution_count": 701,
   "metadata": {
    "collapsed": true
   },
   "outputs": [],
   "source": [
    "import os\n",
    "import pandas as pd\n",
    "import numpy as np\n",
    "import matplotlib.pyplot as plt\n",
    "import seaborn as sns\n",
    "from sklearn.metrics import  mean_absolute_error\n",
    "from sklearn.model_selection import train_test_split\n",
    "from sklearn.linear_model import LinearRegression\n",
    "from sklearn.tree import DecisionTreeRegressor\n",
    "from sklearn.model_selection import GridSearchCV\n",
    "from sklearn.ensemble import RandomForestRegressor\n",
    "from sklearn.neighbors import KNeighborsRegressor\n",
    "from sklearn.naive_bayes import GaussianNB\n",
    "from sklearn.ensemble import GradientBoostingRegressor \n",
    "from sklearn.preprocessing import StandardScaler\n",
    "from sklearn.decomposition import PCA\n",
    "\n",
    "%matplotlib inline\n"
   ]
  },
  {
   "cell_type": "code",
   "execution_count": 702,
   "metadata": {
    "collapsed": true
   },
   "outputs": [],
   "source": [
    "plt.rcParams['figure.figsize'] = (20.0, 10.0)\n",
    "#plt.rcParams.update({'font.size':25})"
   ]
  },
  {
   "cell_type": "markdown",
   "metadata": {},
   "source": [
    "## Load Data"
   ]
  },
  {
   "cell_type": "code",
   "execution_count": 703,
   "metadata": {},
   "outputs": [],
   "source": [
    "# change directory\n",
    "# point to the directory that house the data\n",
    "os.chdir('../data')"
   ]
  },
  {
   "cell_type": "code",
   "execution_count": 704,
   "metadata": {
    "collapsed": true
   },
   "outputs": [],
   "source": [
    "# read data into pandas\n",
    "train_data = pd.read_csv('counterfeit_train.csv')\n",
    "test_data = pd.read_csv('counterfeit_test.csv')"
   ]
  },
  {
   "cell_type": "code",
   "execution_count": 705,
   "metadata": {},
   "outputs": [
    {
     "data": {
      "text/plain": [
       "((6818, 12), (1705, 11))"
      ]
     },
     "execution_count": 705,
     "metadata": {},
     "output_type": "execute_result"
    }
   ],
   "source": [
    "#shape of test and train data\n",
    "train_data.shape, test_data.shape"
   ]
  },
  {
   "cell_type": "code",
   "execution_count": 706,
   "metadata": {},
   "outputs": [
    {
     "data": {
      "text/plain": [
       "Index(['Medicine_ID', 'Counterfeit_Weight', 'DistArea_ID', 'Active_Since',\n",
       "       'Medicine_MRP', 'Medicine_Type', 'SidEffect_Level',\n",
       "       'Availability_rating', 'Area_Type', 'Area_City_Type', 'Area_dist_level',\n",
       "       'Counterfeit_Sales'],\n",
       "      dtype='object')"
      ]
     },
     "execution_count": 706,
     "metadata": {},
     "output_type": "execute_result"
    }
   ],
   "source": [
    "train_data.columns"
   ]
  },
  {
   "cell_type": "code",
   "execution_count": 707,
   "metadata": {
    "collapsed": true
   },
   "outputs": [],
   "source": [
    "# combine test and train data to ensure uniform preprocessing\n",
    "# to combine test and train data successfully, the value of the columns of test and train data must equal\n",
    "test_data['Counterfeit_Sales'] =np.nan\n",
    "test_data['data'] = 'test'\n",
    "train_data['data'] = 'train'\n",
    "test_data = test_data[train_data.columns]\n",
    "all_data = pd.concat([test_data, train_data], axis=0)\n",
    "\n"
   ]
  },
  {
   "cell_type": "code",
   "execution_count": 708,
   "metadata": {},
   "outputs": [
    {
     "data": {
      "text/html": [
       "<div>\n",
       "<style>\n",
       "    .dataframe thead tr:only-child th {\n",
       "        text-align: right;\n",
       "    }\n",
       "\n",
       "    .dataframe thead th {\n",
       "        text-align: left;\n",
       "    }\n",
       "\n",
       "    .dataframe tbody tr th {\n",
       "        vertical-align: top;\n",
       "    }\n",
       "</style>\n",
       "<table border=\"1\" class=\"dataframe\">\n",
       "  <thead>\n",
       "    <tr style=\"text-align: right;\">\n",
       "      <th></th>\n",
       "      <th>Medicine_ID</th>\n",
       "      <th>Counterfeit_Weight</th>\n",
       "      <th>DistArea_ID</th>\n",
       "      <th>Active_Since</th>\n",
       "      <th>Medicine_MRP</th>\n",
       "      <th>Medicine_Type</th>\n",
       "      <th>SidEffect_Level</th>\n",
       "      <th>Availability_rating</th>\n",
       "      <th>Area_Type</th>\n",
       "      <th>Area_City_Type</th>\n",
       "      <th>Area_dist_level</th>\n",
       "      <th>Counterfeit_Sales</th>\n",
       "      <th>data</th>\n",
       "    </tr>\n",
       "  </thead>\n",
       "  <tbody>\n",
       "    <tr>\n",
       "      <th>0</th>\n",
       "      <td>HLZ81</td>\n",
       "      <td>NaN</td>\n",
       "      <td>Area027</td>\n",
       "      <td>1983</td>\n",
       "      <td>85.5328</td>\n",
       "      <td>Antibiotics</td>\n",
       "      <td>mild</td>\n",
       "      <td>0.112747</td>\n",
       "      <td>CityLimits</td>\n",
       "      <td>Tier 3</td>\n",
       "      <td>Medium</td>\n",
       "      <td>NaN</td>\n",
       "      <td>test</td>\n",
       "    </tr>\n",
       "    <tr>\n",
       "      <th>1</th>\n",
       "      <td>ECE94</td>\n",
       "      <td>13.45</td>\n",
       "      <td>Area045</td>\n",
       "      <td>2000</td>\n",
       "      <td>257.1460</td>\n",
       "      <td>OralContraceptives</td>\n",
       "      <td>mild</td>\n",
       "      <td>0.144446</td>\n",
       "      <td>DownTown</td>\n",
       "      <td>Tier 2</td>\n",
       "      <td>Unknown</td>\n",
       "      <td>NaN</td>\n",
       "      <td>test</td>\n",
       "    </tr>\n",
       "    <tr>\n",
       "      <th>2</th>\n",
       "      <td>SAD14</td>\n",
       "      <td>7.10</td>\n",
       "      <td>Area045</td>\n",
       "      <td>2000</td>\n",
       "      <td>98.1172</td>\n",
       "      <td>Antipyretics</td>\n",
       "      <td>mild</td>\n",
       "      <td>0.144221</td>\n",
       "      <td>DownTown</td>\n",
       "      <td>Tier 2</td>\n",
       "      <td>Unknown</td>\n",
       "      <td>NaN</td>\n",
       "      <td>test</td>\n",
       "    </tr>\n",
       "    <tr>\n",
       "      <th>3</th>\n",
       "      <td>EQV63</td>\n",
       "      <td>18.30</td>\n",
       "      <td>Area010</td>\n",
       "      <td>1996</td>\n",
       "      <td>135.3730</td>\n",
       "      <td>Tranquilizers</td>\n",
       "      <td>mild</td>\n",
       "      <td>0.100388</td>\n",
       "      <td>MidTownResidential</td>\n",
       "      <td>Tier 3</td>\n",
       "      <td>Unknown</td>\n",
       "      <td>NaN</td>\n",
       "      <td>test</td>\n",
       "    </tr>\n",
       "    <tr>\n",
       "      <th>4</th>\n",
       "      <td>AIR10</td>\n",
       "      <td>NaN</td>\n",
       "      <td>Area019</td>\n",
       "      <td>1983</td>\n",
       "      <td>112.8016</td>\n",
       "      <td>OralContraceptives</td>\n",
       "      <td>mild</td>\n",
       "      <td>0.022585</td>\n",
       "      <td>MidTownResidential</td>\n",
       "      <td>Tier 1</td>\n",
       "      <td>Small</td>\n",
       "      <td>NaN</td>\n",
       "      <td>test</td>\n",
       "    </tr>\n",
       "  </tbody>\n",
       "</table>\n",
       "</div>"
      ],
      "text/plain": [
       "  Medicine_ID  Counterfeit_Weight DistArea_ID  Active_Since  Medicine_MRP  \\\n",
       "0       HLZ81                 NaN     Area027          1983       85.5328   \n",
       "1       ECE94               13.45     Area045          2000      257.1460   \n",
       "2       SAD14                7.10     Area045          2000       98.1172   \n",
       "3       EQV63               18.30     Area010          1996      135.3730   \n",
       "4       AIR10                 NaN     Area019          1983      112.8016   \n",
       "\n",
       "        Medicine_Type SidEffect_Level  Availability_rating  \\\n",
       "0         Antibiotics            mild             0.112747   \n",
       "1  OralContraceptives            mild             0.144446   \n",
       "2        Antipyretics            mild             0.144221   \n",
       "3       Tranquilizers            mild             0.100388   \n",
       "4  OralContraceptives            mild             0.022585   \n",
       "\n",
       "            Area_Type Area_City_Type Area_dist_level  Counterfeit_Sales  data  \n",
       "0          CityLimits         Tier 3          Medium                NaN  test  \n",
       "1            DownTown         Tier 2         Unknown                NaN  test  \n",
       "2            DownTown         Tier 2         Unknown                NaN  test  \n",
       "3  MidTownResidential         Tier 3         Unknown                NaN  test  \n",
       "4  MidTownResidential         Tier 1           Small                NaN  test  "
      ]
     },
     "execution_count": 708,
     "metadata": {},
     "output_type": "execute_result"
    }
   ],
   "source": [
    "all_data.head()"
   ]
  },
  {
   "cell_type": "code",
   "execution_count": 709,
   "metadata": {},
   "outputs": [
    {
     "data": {
      "text/plain": [
       "(8523, 13)"
      ]
     },
     "execution_count": 709,
     "metadata": {},
     "output_type": "execute_result"
    }
   ],
   "source": [
    "#check the dimension\n",
    "all_data.shape"
   ]
  },
  {
   "cell_type": "code",
   "execution_count": 710,
   "metadata": {},
   "outputs": [
    {
     "name": "stdout",
     "output_type": "stream",
     "text": [
      "<class 'pandas.core.frame.DataFrame'>\n",
      "Int64Index: 8523 entries, 0 to 6817\n",
      "Data columns (total 13 columns):\n",
      "Medicine_ID            8523 non-null object\n",
      "Counterfeit_Weight     7060 non-null float64\n",
      "DistArea_ID            8523 non-null object\n",
      "Active_Since           8523 non-null int64\n",
      "Medicine_MRP           8523 non-null float64\n",
      "Medicine_Type          8523 non-null object\n",
      "SidEffect_Level        8523 non-null object\n",
      "Availability_rating    8523 non-null float64\n",
      "Area_Type              8523 non-null object\n",
      "Area_City_Type         8523 non-null object\n",
      "Area_dist_level        8523 non-null object\n",
      "Counterfeit_Sales      6818 non-null float64\n",
      "data                   8523 non-null object\n",
      "dtypes: float64(4), int64(1), object(8)\n",
      "memory usage: 932.2+ KB\n"
     ]
    }
   ],
   "source": [
    "all_data.info()"
   ]
  },
  {
   "cell_type": "code",
   "execution_count": 711,
   "metadata": {},
   "outputs": [
    {
     "data": {
      "text/html": [
       "<div>\n",
       "<style>\n",
       "    .dataframe thead tr:only-child th {\n",
       "        text-align: right;\n",
       "    }\n",
       "\n",
       "    .dataframe thead th {\n",
       "        text-align: left;\n",
       "    }\n",
       "\n",
       "    .dataframe tbody tr th {\n",
       "        vertical-align: top;\n",
       "    }\n",
       "</style>\n",
       "<table border=\"1\" class=\"dataframe\">\n",
       "  <thead>\n",
       "    <tr style=\"text-align: right;\">\n",
       "      <th></th>\n",
       "      <th>medicine_id</th>\n",
       "      <th>counterfeit_weight</th>\n",
       "      <th>distarea_id</th>\n",
       "      <th>active_since</th>\n",
       "      <th>medicine_mrp</th>\n",
       "      <th>medicine_type</th>\n",
       "      <th>sideffect_level</th>\n",
       "      <th>availability_rating</th>\n",
       "      <th>area_type</th>\n",
       "      <th>area_city_type</th>\n",
       "      <th>area_dist_level</th>\n",
       "      <th>counterfeit_sales</th>\n",
       "      <th>data</th>\n",
       "    </tr>\n",
       "  </thead>\n",
       "  <tbody>\n",
       "    <tr>\n",
       "      <th>0</th>\n",
       "      <td>HLZ81</td>\n",
       "      <td>NaN</td>\n",
       "      <td>Area027</td>\n",
       "      <td>1983</td>\n",
       "      <td>85.5328</td>\n",
       "      <td>Antibiotics</td>\n",
       "      <td>mild</td>\n",
       "      <td>0.112747</td>\n",
       "      <td>CityLimits</td>\n",
       "      <td>Tier 3</td>\n",
       "      <td>Medium</td>\n",
       "      <td>NaN</td>\n",
       "      <td>test</td>\n",
       "    </tr>\n",
       "    <tr>\n",
       "      <th>1</th>\n",
       "      <td>ECE94</td>\n",
       "      <td>13.45</td>\n",
       "      <td>Area045</td>\n",
       "      <td>2000</td>\n",
       "      <td>257.1460</td>\n",
       "      <td>OralContraceptives</td>\n",
       "      <td>mild</td>\n",
       "      <td>0.144446</td>\n",
       "      <td>DownTown</td>\n",
       "      <td>Tier 2</td>\n",
       "      <td>Unknown</td>\n",
       "      <td>NaN</td>\n",
       "      <td>test</td>\n",
       "    </tr>\n",
       "    <tr>\n",
       "      <th>2</th>\n",
       "      <td>SAD14</td>\n",
       "      <td>7.10</td>\n",
       "      <td>Area045</td>\n",
       "      <td>2000</td>\n",
       "      <td>98.1172</td>\n",
       "      <td>Antipyretics</td>\n",
       "      <td>mild</td>\n",
       "      <td>0.144221</td>\n",
       "      <td>DownTown</td>\n",
       "      <td>Tier 2</td>\n",
       "      <td>Unknown</td>\n",
       "      <td>NaN</td>\n",
       "      <td>test</td>\n",
       "    </tr>\n",
       "    <tr>\n",
       "      <th>3</th>\n",
       "      <td>EQV63</td>\n",
       "      <td>18.30</td>\n",
       "      <td>Area010</td>\n",
       "      <td>1996</td>\n",
       "      <td>135.3730</td>\n",
       "      <td>Tranquilizers</td>\n",
       "      <td>mild</td>\n",
       "      <td>0.100388</td>\n",
       "      <td>MidTownResidential</td>\n",
       "      <td>Tier 3</td>\n",
       "      <td>Unknown</td>\n",
       "      <td>NaN</td>\n",
       "      <td>test</td>\n",
       "    </tr>\n",
       "    <tr>\n",
       "      <th>4</th>\n",
       "      <td>AIR10</td>\n",
       "      <td>NaN</td>\n",
       "      <td>Area019</td>\n",
       "      <td>1983</td>\n",
       "      <td>112.8016</td>\n",
       "      <td>OralContraceptives</td>\n",
       "      <td>mild</td>\n",
       "      <td>0.022585</td>\n",
       "      <td>MidTownResidential</td>\n",
       "      <td>Tier 1</td>\n",
       "      <td>Small</td>\n",
       "      <td>NaN</td>\n",
       "      <td>test</td>\n",
       "    </tr>\n",
       "  </tbody>\n",
       "</table>\n",
       "</div>"
      ],
      "text/plain": [
       "  medicine_id  counterfeit_weight distarea_id  active_since  medicine_mrp  \\\n",
       "0       HLZ81                 NaN     Area027          1983       85.5328   \n",
       "1       ECE94               13.45     Area045          2000      257.1460   \n",
       "2       SAD14                7.10     Area045          2000       98.1172   \n",
       "3       EQV63               18.30     Area010          1996      135.3730   \n",
       "4       AIR10                 NaN     Area019          1983      112.8016   \n",
       "\n",
       "        medicine_type sideffect_level  availability_rating  \\\n",
       "0         Antibiotics            mild             0.112747   \n",
       "1  OralContraceptives            mild             0.144446   \n",
       "2        Antipyretics            mild             0.144221   \n",
       "3       Tranquilizers            mild             0.100388   \n",
       "4  OralContraceptives            mild             0.022585   \n",
       "\n",
       "            area_type area_city_type area_dist_level  counterfeit_sales  data  \n",
       "0          CityLimits         Tier 3          Medium                NaN  test  \n",
       "1            DownTown         Tier 2         Unknown                NaN  test  \n",
       "2            DownTown         Tier 2         Unknown                NaN  test  \n",
       "3  MidTownResidential         Tier 3         Unknown                NaN  test  \n",
       "4  MidTownResidential         Tier 1           Small                NaN  test  "
      ]
     },
     "execution_count": 711,
     "metadata": {},
     "output_type": "execute_result"
    }
   ],
   "source": [
    "#make the column names uniform\n",
    "def clean_colname(name):\n",
    "    name = name.strip().lower()\n",
    "    return name\n",
    "all_data = all_data.rename(columns= clean_colname)\n",
    "all_data.head()"
   ]
  },
  {
   "cell_type": "code",
   "execution_count": 712,
   "metadata": {},
   "outputs": [
    {
     "data": {
      "text/plain": [
       "medicine_id             0.000000\n",
       "counterfeit_weight     17.165317\n",
       "distarea_id             0.000000\n",
       "active_since            0.000000\n",
       "medicine_mrp            0.000000\n",
       "medicine_type           0.000000\n",
       "sideffect_level         0.000000\n",
       "availability_rating     0.000000\n",
       "area_type               0.000000\n",
       "area_city_type          0.000000\n",
       "area_dist_level         0.000000\n",
       "counterfeit_sales      20.004693\n",
       "data                    0.000000\n",
       "dtype: float64"
      ]
     },
     "execution_count": 712,
     "metadata": {},
     "output_type": "execute_result"
    }
   ],
   "source": [
    "#check and treat missing value. This value should exlude the counterfeit sale column as the na there is intentional\n",
    "all_data.isnull().mean() * 100"
   ]
  },
  {
   "cell_type": "code",
   "execution_count": 713,
   "metadata": {},
   "outputs": [
    {
     "name": "stdout",
     "output_type": "stream",
     "text": [
      "Total number of missing values after treatment: 0\n"
     ]
    }
   ],
   "source": [
    "# fill missing values in counterfeit_weight columns with the mean weight\n",
    "# the counterfeit_weight column portion of the training data set and not the combined portion shall be used to calculate the mean\n",
    "# all_data['counterfeit_weight'].mean() # 14.158\n",
    "# all_data['counterfeit_weight'].fillna(14.158, inplace = True)\n",
    "# print('current number of missing value ', all_data['counterfeit_weight'].isnull().sum())\n",
    "filt = all_data['data'] == 'train'\n",
    "all_data.loc[filt, 'counterfeit_weight'].mean() # 14.115\n",
    "all_data['counterfeit_weight'].fillna(14.115, inplace= True)\n",
    "print('Total number of missing values after treatment:', all_data['counterfeit_weight'].isnull().sum())\n",
    "\n",
    "\n"
   ]
  },
  {
   "cell_type": "code",
   "execution_count": 714,
   "metadata": {},
   "outputs": [
    {
     "data": {
      "text/html": [
       "<div>\n",
       "<style>\n",
       "    .dataframe thead tr:only-child th {\n",
       "        text-align: right;\n",
       "    }\n",
       "\n",
       "    .dataframe thead th {\n",
       "        text-align: left;\n",
       "    }\n",
       "\n",
       "    .dataframe tbody tr th {\n",
       "        vertical-align: top;\n",
       "    }\n",
       "</style>\n",
       "<table border=\"1\" class=\"dataframe\">\n",
       "  <thead>\n",
       "    <tr style=\"text-align: right;\">\n",
       "      <th></th>\n",
       "      <th>count</th>\n",
       "      <th>mean</th>\n",
       "      <th>std</th>\n",
       "      <th>min</th>\n",
       "      <th>25%</th>\n",
       "      <th>50%</th>\n",
       "      <th>75%</th>\n",
       "      <th>max</th>\n",
       "    </tr>\n",
       "  </thead>\n",
       "  <tbody>\n",
       "    <tr>\n",
       "      <th>counterfeit_weight</th>\n",
       "      <td>8523.0</td>\n",
       "      <td>14.150325</td>\n",
       "      <td>4.226154</td>\n",
       "      <td>5.855</td>\n",
       "      <td>10.610000</td>\n",
       "      <td>14.115000</td>\n",
       "      <td>17.300000</td>\n",
       "      <td>22.650000</td>\n",
       "    </tr>\n",
       "    <tr>\n",
       "      <th>active_since</th>\n",
       "      <td>8523.0</td>\n",
       "      <td>1995.831867</td>\n",
       "      <td>8.371760</td>\n",
       "      <td>1983.000</td>\n",
       "      <td>1985.000000</td>\n",
       "      <td>1997.000000</td>\n",
       "      <td>2002.000000</td>\n",
       "      <td>2007.000000</td>\n",
       "    </tr>\n",
       "    <tr>\n",
       "      <th>medicine_mrp</th>\n",
       "      <td>8523.0</td>\n",
       "      <td>151.292782</td>\n",
       "      <td>62.275067</td>\n",
       "      <td>41.590</td>\n",
       "      <td>104.126500</td>\n",
       "      <td>153.312800</td>\n",
       "      <td>195.943700</td>\n",
       "      <td>277.188400</td>\n",
       "    </tr>\n",
       "    <tr>\n",
       "      <th>availability_rating</th>\n",
       "      <td>8523.0</td>\n",
       "      <td>0.079132</td>\n",
       "      <td>0.051598</td>\n",
       "      <td>0.013</td>\n",
       "      <td>0.039989</td>\n",
       "      <td>0.066931</td>\n",
       "      <td>0.107585</td>\n",
       "      <td>0.341391</td>\n",
       "    </tr>\n",
       "    <tr>\n",
       "      <th>counterfeit_sales</th>\n",
       "      <td>6818.0</td>\n",
       "      <td>2280.583480</td>\n",
       "      <td>1693.354404</td>\n",
       "      <td>146.290</td>\n",
       "      <td>933.265600</td>\n",
       "      <td>1902.670400</td>\n",
       "      <td>3207.638400</td>\n",
       "      <td>13199.964800</td>\n",
       "    </tr>\n",
       "  </tbody>\n",
       "</table>\n",
       "</div>"
      ],
      "text/plain": [
       "                      count         mean          std       min          25%  \\\n",
       "counterfeit_weight   8523.0    14.150325     4.226154     5.855    10.610000   \n",
       "active_since         8523.0  1995.831867     8.371760  1983.000  1985.000000   \n",
       "medicine_mrp         8523.0   151.292782    62.275067    41.590   104.126500   \n",
       "availability_rating  8523.0     0.079132     0.051598     0.013     0.039989   \n",
       "counterfeit_sales    6818.0  2280.583480  1693.354404   146.290   933.265600   \n",
       "\n",
       "                             50%          75%           max  \n",
       "counterfeit_weight     14.115000    17.300000     22.650000  \n",
       "active_since         1997.000000  2002.000000   2007.000000  \n",
       "medicine_mrp          153.312800   195.943700    277.188400  \n",
       "availability_rating     0.066931     0.107585      0.341391  \n",
       "counterfeit_sales    1902.670400  3207.638400  13199.964800  "
      ]
     },
     "execution_count": 714,
     "metadata": {},
     "output_type": "execute_result"
    }
   ],
   "source": [
    "# display descriptive stats\n",
    "all_data.describe().T"
   ]
  },
  {
   "cell_type": "code",
   "execution_count": 715,
   "metadata": {},
   "outputs": [],
   "source": [
    "# columns with float type\n",
    "cont_features = all_data.select_dtypes(include=['float64']).columns"
   ]
  },
  {
   "cell_type": "code",
   "execution_count": 716,
   "metadata": {},
   "outputs": [],
   "source": [
    "#column with integer data type\n",
    "integer_features = all_data.select_dtypes(include=['int64']).columns"
   ]
  },
  {
   "cell_type": "code",
   "execution_count": 717,
   "metadata": {},
   "outputs": [
    {
     "data": {
      "text/plain": [
       "Index(['medicine_id', 'distarea_id', 'medicine_type', 'sideffect_level',\n",
       "       'area_type', 'area_city_type', 'area_dist_level', 'data'],\n",
       "      dtype='object')"
      ]
     },
     "execution_count": 717,
     "metadata": {},
     "output_type": "execute_result"
    }
   ],
   "source": [
    "#columns with categorical type. This does not include the 'data' which serves the purpose of a separator\n",
    "all_data.select_dtypes(include=['object']).columns"
   ]
  },
  {
   "cell_type": "markdown",
   "metadata": {},
   "source": [
    "## Data Exploration"
   ]
  },
  {
   "cell_type": "markdown",
   "metadata": {},
   "source": [
    "#### How many unique medicine type are present?"
   ]
  },
  {
   "cell_type": "code",
   "execution_count": 718,
   "metadata": {},
   "outputs": [
    {
     "data": {
      "text/plain": [
       "16"
      ]
     },
     "execution_count": 718,
     "metadata": {},
     "output_type": "execute_result"
    }
   ],
   "source": [
    "# Number of unique medicine type\n",
    "train_data['Medicine_Type'].nunique()"
   ]
  },
  {
   "cell_type": "markdown",
   "metadata": {},
   "source": [
    "#### which area type has the highest counterfeit drug?\n",
    "Down Town, Area has the highest number of counterfeited drugs and medicine"
   ]
  },
  {
   "cell_type": "code",
   "execution_count": 719,
   "metadata": {},
   "outputs": [
    {
     "data": {
      "image/png": "[encoded data removed]",
      "text/plain": [
       "<matplotlib.figure.Figure at 0x162671860>"
      ]
     },
     "metadata": {},
     "output_type": "display_data"
    }
   ],
   "source": [
    "#which area type has the highest counterfeit drug\n",
    "\n",
    "# train_data['Area_Type'].value_counts().plot(kind = 'bar')\n",
    "# plt.xlabel('Area Type')\n",
    "# plt.ylabel('count')\n",
    "# plt.title('Counterfeit Drug Area Type Count');\n",
    "sns.countplot(x ='area_type', data=all_data, palette='Blues');"
   ]
  },
  {
   "cell_type": "markdown",
   "metadata": {},
   "source": [
    "### Which medicine type has the lowest count and their respective level of side effects?\n",
    "Antiviral appears to be the least counterfeited medicine whereas Antibiotics are the third most counterfeited drug but with the most critical side effect level"
   ]
  },
  {
   "cell_type": "code",
   "execution_count": 720,
   "metadata": {},
   "outputs": [
    {
     "data": {
      "image/png": "[encoded data removed]",
      "text/plain": [
       "<matplotlib.figure.Figure at 0x16267c518>"
      ]
     },
     "metadata": {},
     "output_type": "display_data"
    }
   ],
   "source": [
    "#which medicine type has the lowest count\n",
    "#train_data['Medicine_Type'].value_counts(ascending=True)\n",
    "sns.countplot(y='medicine_type', hue='sideffect_level', data=all_data, palette='Blues_d');"
   ]
  },
  {
   "cell_type": "markdown",
   "metadata": {},
   "source": [
    "## How does the distribution of the counterfeit sale looks like\n",
    "The distribution is not normal rather skewed to the right. This means that a handful of medicine have very high sales figures. This could also mean that there are alot of outliers in the counterfeit sale figure. lets check it out!"
   ]
  },
  {
   "cell_type": "code",
   "execution_count": 721,
   "metadata": {},
   "outputs": [
    {
     "data": {
      "image/png": "[encoded data removed]",
      "text/plain": [
       "<matplotlib.figure.Figure at 0x1b07abba8>"
      ]
     },
     "metadata": {},
     "output_type": "display_data"
    }
   ],
   "source": [
    "all_data['counterfeit_sales'].plot(kind = 'hist');"
   ]
  },
  {
   "cell_type": "code",
   "execution_count": 722,
   "metadata": {},
   "outputs": [
    {
     "data": {
      "image/png": "[encoded data removed]",
      "text/plain": [
       "<matplotlib.figure.Figure at 0x1b091b860>"
      ]
     },
     "metadata": {},
     "output_type": "display_data"
    }
   ],
   "source": [
    "# checking the level of outlier of medicine type with respect to counterfeit sales\n",
    "sns.boxplot(x = 'medicine_type', y = 'counterfeit_sales', data=all_data);"
   ]
  },
  {
   "cell_type": "markdown",
   "metadata": {},
   "source": [
    "### What is the average sales figure of counterfeited medicine by medicine type\n",
    "On average all the medicine type sale figure are above 2000 while **Antiviral** medicine type appears to command the highest average counterfeit sale. However this result should be taken with a pinch of salt until the outliers observed are treated appropriately!\n"
   ]
  },
  {
   "cell_type": "code",
   "execution_count": 723,
   "metadata": {},
   "outputs": [
    {
     "data": {
      "image/png": "[encoded data removed]",
      "text/plain": [
       "<matplotlib.figure.Figure at 0x1b17a94e0>"
      ]
     },
     "metadata": {},
     "output_type": "display_data"
    }
   ],
   "source": [
    "#average sales figure of counterfeited drugs \n",
    "filt = all_data['data'] == 'train'\n",
    "adj_dat = all_data.loc[filt]\n",
    "avg_sales = adj_dat.groupby('medicine_type').agg({'counterfeit_sales':'mean'}).reset_index()\n",
    "sns.barplot(x = 'medicine_type', y='counterfeit_sales', data=avg_sales)\n",
    "plt.xticks(rotation=90);\n"
   ]
  },
  {
   "cell_type": "markdown",
   "metadata": {},
   "source": [
    "### Which medicine type has the highest counterfeit sales\n",
    "While it appears that the **Antiviral** drug has the highest sales figure,this figure is suspect until the outliers observed are treated"
   ]
  },
  {
   "cell_type": "code",
   "execution_count": 724,
   "metadata": {},
   "outputs": [
    {
     "name": "stdout",
     "output_type": "stream",
     "text": [
      "The medicine with the highest sales figure is: ['Antiseptics']\n"
     ]
    }
   ],
   "source": [
    "filt = all_data['data'] == 'train'\n",
    "highestsales = all_data.loc[filt]['counterfeit_sales']>= 13199.9648\n",
    "print('The medicine with the highest sales figure is:',all_data.loc[filt]['medicine_type'][highestsales].values)"
   ]
  },
  {
   "cell_type": "code",
   "execution_count": 725,
   "metadata": {},
   "outputs": [
    {
     "data": {
      "image/png": "[encoded data removed]",
      "text/plain": [
       "<matplotlib.figure.Figure at 0x1b0971dd8>"
      ]
     },
     "metadata": {},
     "output_type": "display_data"
    }
   ],
   "source": [
    "sns.barplot(x = 'medicine_type', y = 'counterfeit_sales', data=all_data);"
   ]
  },
  {
   "cell_type": "code",
   "execution_count": 726,
   "metadata": {},
   "outputs": [
    {
     "data": {
      "text/plain": [
       "Index(['medicine_id', 'counterfeit_weight', 'distarea_id', 'active_since',\n",
       "       'medicine_mrp', 'medicine_type', 'sideffect_level',\n",
       "       'availability_rating', 'area_type', 'area_city_type', 'area_dist_level',\n",
       "       'counterfeit_sales', 'data'],\n",
       "      dtype='object')"
      ]
     },
     "execution_count": 726,
     "metadata": {},
     "output_type": "execute_result"
    }
   ],
   "source": [
    "all_data.columns"
   ]
  },
  {
   "cell_type": "markdown",
   "metadata": {},
   "source": [
    "### Data Preprocessing:Feature Engineering"
   ]
  },
  {
   "cell_type": "code",
   "execution_count": 727,
   "metadata": {},
   "outputs": [
    {
     "name": "stdout",
     "output_type": "stream",
     "text": [
      "The number of columns after dropping the active_since column: 13\n"
     ]
    }
   ],
   "source": [
    "# determine the period from the year since active till date\n",
    "all_data['period_active'] =  2019 - all_data['active_since']\n",
    "\n",
    "all_data = all_data.drop('active_since',1)\n",
    "print('The number of columns after dropping the active_since column:',all_data.shape[1])\n"
   ]
  },
  {
   "cell_type": "code",
   "execution_count": 728,
   "metadata": {},
   "outputs": [
    {
     "data": {
      "text/plain": [
       "Antibiotics           1232\n",
       "Hreplacements         1200\n",
       "Antiseptics            910\n",
       "OralContraceptives     856\n",
       "Antipyretics           682\n",
       "Cardiac                649\n",
       "Mstablizers            648\n",
       "Tranquilizers          520\n",
       "Analgesics             445\n",
       "Antimalarial           425\n",
       "Antacids               251\n",
       "Statins                214\n",
       "MuscleRelaxants        169\n",
       "Antifungal             148\n",
       "Stimulants             110\n",
       "Antiviral               64\n",
       "Name: medicine_type, dtype: int64"
      ]
     },
     "execution_count": 728,
     "metadata": {},
     "output_type": "execute_result"
    }
   ],
   "source": [
    "#check frequency of column\n",
    "all_data['medicine_type'].value_counts()\n"
   ]
  },
  {
   "cell_type": "markdown",
   "metadata": {},
   "source": [
    "#### Treatment/transformation  of  categorical variable"
   ]
  },
  {
   "cell_type": "code",
   "execution_count": 729,
   "metadata": {
    "collapsed": true
   },
   "outputs": [],
   "source": [
    "# get dummy and drop Antiviral medicine for low frequency\n",
    "medtypedummy = all_data['medicine_type'].str.get_dummies()\n"
   ]
  },
  {
   "cell_type": "code",
   "execution_count": 730,
   "metadata": {
    "collapsed": true
   },
   "outputs": [],
   "source": [
    "#add to the data frame accordingly\n",
    "all_data = pd.concat([all_data, medtypedummy],1)\n",
    "all_data = all_data.drop(['Antiviral','medicine_type'], 1)"
   ]
  },
  {
   "cell_type": "code",
   "execution_count": 731,
   "metadata": {},
   "outputs": [
    {
     "data": {
      "text/plain": [
       "DownTown              5577\n",
       "MidTownResidential    1083\n",
       "CityLimits             935\n",
       "Industrial             928\n",
       "Name: area_type, dtype: int64"
      ]
     },
     "execution_count": 731,
     "metadata": {},
     "output_type": "execute_result"
    }
   ],
   "source": [
    "all_data['area_type'].value_counts()"
   ]
  },
  {
   "cell_type": "code",
   "execution_count": 732,
   "metadata": {
    "collapsed": true
   },
   "outputs": [],
   "source": [
    "#create dummy of area_type\n",
    "areatype_dummy = all_data['area_type'].str.get_dummies()\n"
   ]
  },
  {
   "cell_type": "code",
   "execution_count": 733,
   "metadata": {
    "collapsed": true
   },
   "outputs": [],
   "source": [
    "#drop industrial area type and add other area to data frame\n",
    "all_data = pd.concat([all_data, areatype_dummy],1)\n",
    "all_data = all_data.drop(['area_type', 'Industrial'],1)"
   ]
  },
  {
   "cell_type": "code",
   "execution_count": 734,
   "metadata": {},
   "outputs": [
    {
     "data": {
      "text/html": [
       "<div>\n",
       "<style>\n",
       "    .dataframe thead tr:only-child th {\n",
       "        text-align: right;\n",
       "    }\n",
       "\n",
       "    .dataframe thead th {\n",
       "        text-align: left;\n",
       "    }\n",
       "\n",
       "    .dataframe tbody tr th {\n",
       "        vertical-align: top;\n",
       "    }\n",
       "</style>\n",
       "<table border=\"1\" class=\"dataframe\">\n",
       "  <thead>\n",
       "    <tr style=\"text-align: right;\">\n",
       "      <th></th>\n",
       "      <th>medicine_id</th>\n",
       "      <th>counterfeit_weight</th>\n",
       "      <th>distarea_id</th>\n",
       "      <th>medicine_mrp</th>\n",
       "      <th>sideffect_level</th>\n",
       "      <th>availability_rating</th>\n",
       "      <th>area_city_type</th>\n",
       "      <th>area_dist_level</th>\n",
       "      <th>counterfeit_sales</th>\n",
       "      <th>data</th>\n",
       "      <th>period_active</th>\n",
       "      <th>Analgesics</th>\n",
       "      <th>Antacids</th>\n",
       "      <th>Antibiotics</th>\n",
       "      <th>Antifungal</th>\n",
       "      <th>Antimalarial</th>\n",
       "      <th>Antipyretics</th>\n",
       "      <th>Antiseptics</th>\n",
       "      <th>Cardiac</th>\n",
       "      <th>Hreplacements</th>\n",
       "      <th>Mstablizers</th>\n",
       "      <th>MuscleRelaxants</th>\n",
       "      <th>OralContraceptives</th>\n",
       "      <th>Statins</th>\n",
       "      <th>Stimulants</th>\n",
       "      <th>Tranquilizers</th>\n",
       "      <th>CityLimits</th>\n",
       "      <th>DownTown</th>\n",
       "      <th>MidTownResidential</th>\n",
       "    </tr>\n",
       "  </thead>\n",
       "  <tbody>\n",
       "    <tr>\n",
       "      <th>0</th>\n",
       "      <td>HLZ81</td>\n",
       "      <td>14.115</td>\n",
       "      <td>Area027</td>\n",
       "      <td>85.5328</td>\n",
       "      <td>mild</td>\n",
       "      <td>0.112747</td>\n",
       "      <td>Tier 3</td>\n",
       "      <td>Medium</td>\n",
       "      <td>NaN</td>\n",
       "      <td>test</td>\n",
       "      <td>36</td>\n",
       "      <td>0</td>\n",
       "      <td>0</td>\n",
       "      <td>1</td>\n",
       "      <td>0</td>\n",
       "      <td>0</td>\n",
       "      <td>0</td>\n",
       "      <td>0</td>\n",
       "      <td>0</td>\n",
       "      <td>0</td>\n",
       "      <td>0</td>\n",
       "      <td>0</td>\n",
       "      <td>0</td>\n",
       "      <td>0</td>\n",
       "      <td>0</td>\n",
       "      <td>0</td>\n",
       "      <td>1</td>\n",
       "      <td>0</td>\n",
       "      <td>0</td>\n",
       "    </tr>\n",
       "    <tr>\n",
       "      <th>1</th>\n",
       "      <td>ECE94</td>\n",
       "      <td>13.450</td>\n",
       "      <td>Area045</td>\n",
       "      <td>257.1460</td>\n",
       "      <td>mild</td>\n",
       "      <td>0.144446</td>\n",
       "      <td>Tier 2</td>\n",
       "      <td>Unknown</td>\n",
       "      <td>NaN</td>\n",
       "      <td>test</td>\n",
       "      <td>19</td>\n",
       "      <td>0</td>\n",
       "      <td>0</td>\n",
       "      <td>0</td>\n",
       "      <td>0</td>\n",
       "      <td>0</td>\n",
       "      <td>0</td>\n",
       "      <td>0</td>\n",
       "      <td>0</td>\n",
       "      <td>0</td>\n",
       "      <td>0</td>\n",
       "      <td>0</td>\n",
       "      <td>1</td>\n",
       "      <td>0</td>\n",
       "      <td>0</td>\n",
       "      <td>0</td>\n",
       "      <td>0</td>\n",
       "      <td>1</td>\n",
       "      <td>0</td>\n",
       "    </tr>\n",
       "    <tr>\n",
       "      <th>2</th>\n",
       "      <td>SAD14</td>\n",
       "      <td>7.100</td>\n",
       "      <td>Area045</td>\n",
       "      <td>98.1172</td>\n",
       "      <td>mild</td>\n",
       "      <td>0.144221</td>\n",
       "      <td>Tier 2</td>\n",
       "      <td>Unknown</td>\n",
       "      <td>NaN</td>\n",
       "      <td>test</td>\n",
       "      <td>19</td>\n",
       "      <td>0</td>\n",
       "      <td>0</td>\n",
       "      <td>0</td>\n",
       "      <td>0</td>\n",
       "      <td>0</td>\n",
       "      <td>1</td>\n",
       "      <td>0</td>\n",
       "      <td>0</td>\n",
       "      <td>0</td>\n",
       "      <td>0</td>\n",
       "      <td>0</td>\n",
       "      <td>0</td>\n",
       "      <td>0</td>\n",
       "      <td>0</td>\n",
       "      <td>0</td>\n",
       "      <td>0</td>\n",
       "      <td>1</td>\n",
       "      <td>0</td>\n",
       "    </tr>\n",
       "    <tr>\n",
       "      <th>3</th>\n",
       "      <td>EQV63</td>\n",
       "      <td>18.300</td>\n",
       "      <td>Area010</td>\n",
       "      <td>135.3730</td>\n",
       "      <td>mild</td>\n",
       "      <td>0.100388</td>\n",
       "      <td>Tier 3</td>\n",
       "      <td>Unknown</td>\n",
       "      <td>NaN</td>\n",
       "      <td>test</td>\n",
       "      <td>23</td>\n",
       "      <td>0</td>\n",
       "      <td>0</td>\n",
       "      <td>0</td>\n",
       "      <td>0</td>\n",
       "      <td>0</td>\n",
       "      <td>0</td>\n",
       "      <td>0</td>\n",
       "      <td>0</td>\n",
       "      <td>0</td>\n",
       "      <td>0</td>\n",
       "      <td>0</td>\n",
       "      <td>0</td>\n",
       "      <td>0</td>\n",
       "      <td>0</td>\n",
       "      <td>1</td>\n",
       "      <td>0</td>\n",
       "      <td>0</td>\n",
       "      <td>1</td>\n",
       "    </tr>\n",
       "    <tr>\n",
       "      <th>4</th>\n",
       "      <td>AIR10</td>\n",
       "      <td>14.115</td>\n",
       "      <td>Area019</td>\n",
       "      <td>112.8016</td>\n",
       "      <td>mild</td>\n",
       "      <td>0.022585</td>\n",
       "      <td>Tier 1</td>\n",
       "      <td>Small</td>\n",
       "      <td>NaN</td>\n",
       "      <td>test</td>\n",
       "      <td>36</td>\n",
       "      <td>0</td>\n",
       "      <td>0</td>\n",
       "      <td>0</td>\n",
       "      <td>0</td>\n",
       "      <td>0</td>\n",
       "      <td>0</td>\n",
       "      <td>0</td>\n",
       "      <td>0</td>\n",
       "      <td>0</td>\n",
       "      <td>0</td>\n",
       "      <td>0</td>\n",
       "      <td>1</td>\n",
       "      <td>0</td>\n",
       "      <td>0</td>\n",
       "      <td>0</td>\n",
       "      <td>0</td>\n",
       "      <td>0</td>\n",
       "      <td>1</td>\n",
       "    </tr>\n",
       "  </tbody>\n",
       "</table>\n",
       "</div>"
      ],
      "text/plain": [
       "  medicine_id  counterfeit_weight distarea_id  medicine_mrp sideffect_level  \\\n",
       "0       HLZ81              14.115     Area027       85.5328            mild   \n",
       "1       ECE94              13.450     Area045      257.1460            mild   \n",
       "2       SAD14               7.100     Area045       98.1172            mild   \n",
       "3       EQV63              18.300     Area010      135.3730            mild   \n",
       "4       AIR10              14.115     Area019      112.8016            mild   \n",
       "\n",
       "   availability_rating area_city_type area_dist_level  counterfeit_sales  \\\n",
       "0             0.112747         Tier 3          Medium                NaN   \n",
       "1             0.144446         Tier 2         Unknown                NaN   \n",
       "2             0.144221         Tier 2         Unknown                NaN   \n",
       "3             0.100388         Tier 3         Unknown                NaN   \n",
       "4             0.022585         Tier 1           Small                NaN   \n",
       "\n",
       "   data  period_active  Analgesics  Antacids  Antibiotics  Antifungal  \\\n",
       "0  test             36           0         0            1           0   \n",
       "1  test             19           0         0            0           0   \n",
       "2  test             19           0         0            0           0   \n",
       "3  test             23           0         0            0           0   \n",
       "4  test             36           0         0            0           0   \n",
       "\n",
       "   Antimalarial  Antipyretics  Antiseptics  Cardiac  Hreplacements  \\\n",
       "0             0             0            0        0              0   \n",
       "1             0             0            0        0              0   \n",
       "2             0             1            0        0              0   \n",
       "3             0             0            0        0              0   \n",
       "4             0             0            0        0              0   \n",
       "\n",
       "   Mstablizers  MuscleRelaxants  OralContraceptives  Statins  Stimulants  \\\n",
       "0            0                0                   0        0           0   \n",
       "1            0                0                   1        0           0   \n",
       "2            0                0                   0        0           0   \n",
       "3            0                0                   0        0           0   \n",
       "4            0                0                   1        0           0   \n",
       "\n",
       "   Tranquilizers  CityLimits  DownTown  MidTownResidential  \n",
       "0              0           1         0                   0  \n",
       "1              0           0         1                   0  \n",
       "2              0           0         1                   0  \n",
       "3              1           0         0                   1  \n",
       "4              0           0         0                   1  "
      ]
     },
     "execution_count": 734,
     "metadata": {},
     "output_type": "execute_result"
    }
   ],
   "source": [
    "pd.set_option('display.max_columns', 50)\n",
    "all_data.head()"
   ]
  },
  {
   "cell_type": "code",
   "execution_count": 735,
   "metadata": {},
   "outputs": [
    {
     "data": {
      "text/plain": [
       "mild        5517\n",
       "critical    3006\n",
       "Name: sideffect_level, dtype: int64"
      ]
     },
     "execution_count": 735,
     "metadata": {},
     "output_type": "execute_result"
    }
   ],
   "source": [
    "#create dummy for sideffect level columns of data frame\n",
    "all_data['sideffect_level'].value_counts()"
   ]
  },
  {
   "cell_type": "code",
   "execution_count": 736,
   "metadata": {
    "collapsed": true
   },
   "outputs": [],
   "source": [
    "#create dummy of sideffect column\n",
    "all_data['sideffect_mc'] = np.where(all_data['sideffect_level'] == 'mild',1,0)\n",
    "all_data = all_data.drop(['sideffect_level'], 1)"
   ]
  },
  {
   "cell_type": "code",
   "execution_count": 737,
   "metadata": {},
   "outputs": [
    {
     "data": {
      "text/plain": [
       "Tier 3    3350\n",
       "Tier 2    2785\n",
       "Tier 1    2388\n",
       "Name: area_city_type, dtype: int64"
      ]
     },
     "execution_count": 737,
     "metadata": {},
     "output_type": "execute_result"
    }
   ],
   "source": [
    "all_data['area_city_type'].value_counts()"
   ]
  },
  {
   "cell_type": "code",
   "execution_count": 738,
   "metadata": {
    "collapsed": true
   },
   "outputs": [],
   "source": [
    "#create dummy for area city type\n",
    "actype_dummy = all_data['area_city_type'].str.get_dummies()\n"
   ]
  },
  {
   "cell_type": "code",
   "execution_count": 739,
   "metadata": {
    "collapsed": true
   },
   "outputs": [],
   "source": [
    "#concat dummy with data frame and drop Tier one\n",
    "all_data = pd.concat([all_data, actype_dummy],1)\n",
    "all_data = all_data.drop(['Tier 1','area_city_type'], 1)"
   ]
  },
  {
   "cell_type": "code",
   "execution_count": 740,
   "metadata": {},
   "outputs": [
    {
     "data": {
      "text/plain": [
       "Area027    935\n",
       "Area013    932\n",
       "Area049    930\n",
       "Area046    930\n",
       "Area035    930\n",
       "Area045    929\n",
       "Area018    928\n",
       "Area017    926\n",
       "Area010    555\n",
       "Area019    528\n",
       "Name: distarea_id, dtype: int64"
      ]
     },
     "execution_count": 740,
     "metadata": {},
     "output_type": "execute_result"
    }
   ],
   "source": [
    "all_data['distarea_id'].value_counts()"
   ]
  },
  {
   "cell_type": "code",
   "execution_count": 741,
   "metadata": {
    "collapsed": true
   },
   "outputs": [],
   "source": [
    "# create dumy for district area id drop area019 and concatenate with data frame accordingly\n",
    "distarea_dummy =  all_data['distarea_id'].str.get_dummies()\n"
   ]
  },
  {
   "cell_type": "code",
   "execution_count": 742,
   "metadata": {
    "collapsed": true
   },
   "outputs": [],
   "source": [
    "all_data = pd.concat([all_data, distarea_dummy],1)\n",
    "all_data = all_data.drop(['Area019', 'distarea_id'],1)"
   ]
  },
  {
   "cell_type": "code",
   "execution_count": 743,
   "metadata": {},
   "outputs": [
    {
     "data": {
      "text/plain": [
       "Medium     2793\n",
       "Unknown    2410\n",
       "Small      2388\n",
       "High        932\n",
       "Name: area_dist_level, dtype: int64"
      ]
     },
     "execution_count": 743,
     "metadata": {},
     "output_type": "execute_result"
    }
   ],
   "source": [
    "all_data['area_dist_level'].value_counts()"
   ]
  },
  {
   "cell_type": "code",
   "execution_count": 744,
   "metadata": {
    "collapsed": true
   },
   "outputs": [],
   "source": [
    "#create dummy of area distance level\n",
    "ad_leve_dummy = all_data['area_dist_level'].str.get_dummies()\n"
   ]
  },
  {
   "cell_type": "code",
   "execution_count": 745,
   "metadata": {
    "collapsed": true
   },
   "outputs": [],
   "source": [
    "#concatenate dummy with data frame and drop high area distance\n",
    "all_data = pd.concat([all_data, ad_leve_dummy],1)\n",
    "all_data = all_data.drop(['High', 'area_dist_level'],1)"
   ]
  },
  {
   "cell_type": "code",
   "execution_count": 746,
   "metadata": {},
   "outputs": [
    {
     "data": {
      "text/plain": [
       "(8523, 40)"
      ]
     },
     "execution_count": 746,
     "metadata": {},
     "output_type": "execute_result"
    }
   ],
   "source": [
    "#dimemsion of combined data\n",
    "all_data.shape"
   ]
  },
  {
   "cell_type": "markdown",
   "metadata": {
    "collapsed": true
   },
   "source": [
    "### Separate data into train and  test"
   ]
  },
  {
   "cell_type": "code",
   "execution_count": null,
   "metadata": {},
   "outputs": [],
   "source": [
    "#separate train data set from data frame and delete useless columns\n",
    "counter_train = all_data[all_data['data'] == 'train']\n",
    "del counter_train['data']\n"
   ]
  },
  {
   "cell_type": "code",
   "execution_count": null,
   "metadata": {
    "scrolled": true
   },
   "outputs": [],
   "source": [
    "#separate test data from data frame and delete/drop useless columns\n",
    "counter_test = all_data[all_data['data'] == 'test']\n",
    "counter_test.drop(['data', 'counterfeit_sales'],axis = 1, inplace = True )\n",
    "\n"
   ]
  },
  {
   "cell_type": "code",
   "execution_count": null,
   "metadata": {},
   "outputs": [],
   "source": [
    "#dimension of test and train data set\n",
    "print('Our training data set has {} rows and {} columns'.format(counter_train.shape[0],counter_train.shape[1]))\n",
    "print('Our testing data set has {} rows and {} columns'.format(counter_test.shape[0],counter_test.shape[1]))\n",
    "\n"
   ]
  },
  {
   "cell_type": "code",
   "execution_count": null,
   "metadata": {},
   "outputs": [],
   "source": [
    "#check for missing values in test and train\n",
    "print('Are there missing values in test data set:', counter_test.isnull().any().any())\n",
    "print('Are there missing values in train data set:',counter_train.isnull().any().any())"
   ]
  },
  {
   "cell_type": "markdown",
   "metadata": {},
   "source": [
    "### Feature Scaling and P.C.A\n",
    "In order to train our data on many algorithm as possible and subsequently evaluate performance  we would create three copies of our training and test data set as follows:\n",
    "* Training/testing data set that is scaled only\n",
    "* Training/testing data set that is scaled and P.C.A applied with a cumulative explained ratio of at least 80%\n",
    "* Training/testing data set free from the above operations"
   ]
  },
  {
   "cell_type": "markdown",
   "metadata": {},
   "source": [
    "##### scaled Training and Test data set "
   ]
  },
  {
   "cell_type": "code",
   "execution_count": null,
   "metadata": {},
   "outputs": [],
   "source": [
    "# before we proceed we would want to drop the medicine id from both data set as it does not have a predictive value\n",
    "#we would also remove the target variable from the train set\n",
    "sales_figures = counter_train[['counterfeit_sales']]\n",
    "train_counter_w_o_spca = counter_train.drop(['medicine_id','counterfeit_sales'],axis =1)\n",
    "test_counter_w_o_spca = counter_test.drop(['medicine_id'],axis =1)"
   ]
  },
  {
   "cell_type": "code",
   "execution_count": null,
   "metadata": {},
   "outputs": [],
   "source": [
    "train_counter_w_o_spca.head(2)"
   ]
  },
  {
   "cell_type": "code",
   "execution_count": null,
   "metadata": {},
   "outputs": [],
   "source": [
    "test_counter_w_o_spca.head(2)"
   ]
  },
  {
   "cell_type": "code",
   "execution_count": null,
   "metadata": {},
   "outputs": [],
   "source": [
    "sales_figures.head(2)"
   ]
  },
  {
   "cell_type": "code",
   "execution_count": null,
   "metadata": {},
   "outputs": [],
   "source": [
    "train_counter_w_o_spca.shape, test_counter_w_o_spca.shape"
   ]
  },
  {
   "cell_type": "code",
   "execution_count": null,
   "metadata": {
    "collapsed": true
   },
   "outputs": [],
   "source": [
    "#scaled train and test data frame\n",
    "scaled_counter_train = pd.DataFrame(StandardScaler().fit_transform(train_counter_w_o_spca), columns=train_counter_w_o_spca.columns)\n",
    "scaled_counter_test = pd.DataFrame(StandardScaler().fit_transform(test_counter_w_o_spca),columns=test_counter_w_o_spca.columns)"
   ]
  },
  {
   "cell_type": "code",
   "execution_count": null,
   "metadata": {},
   "outputs": [],
   "source": [
    "#lets have a peak of our scled data frame\n",
    "scaled_counter_train.head()"
   ]
  },
  {
   "cell_type": "code",
   "execution_count": null,
   "metadata": {},
   "outputs": [],
   "source": [
    "# the evidence of a scaled data set is that the mean must 0 and the stardard diviation must be 1\n",
    "scaled_counter_train.describe().T"
   ]
  },
  {
   "cell_type": "code",
   "execution_count": null,
   "metadata": {
    "collapsed": true
   },
   "outputs": [],
   "source": [
    "#pca and sclaed version of test and train set; Apply Principal Component Analysis, \n",
    "#a fancy name for reducing the number colums without loosing data. PCA uses scaled data only\n",
    "pca = PCA(n_components=37)\n",
    "pca_scaled_counter_test = pd.DataFrame(pca.fit_transform(scaled_counter_test), columns=scaled_counter_test.columns)\n",
    "pca_scaled_counter_train = pd.DataFrame(pca.fit_transform(scaled_counter_train), columns=scaled_counter_train.columns)\n"
   ]
  },
  {
   "cell_type": "code",
   "execution_count": null,
   "metadata": {},
   "outputs": [],
   "source": [
    "#Let see the critical attributes of PCA: Explained Variance & Explained variance ratio\n",
    "#expalined variance\n",
    "pca.explained_variance_"
   ]
  },
  {
   "cell_type": "code",
   "execution_count": null,
   "metadata": {},
   "outputs": [],
   "source": [
    "#explaned variance ratio\n",
    "pca.explained_variance_ratio_"
   ]
  },
  {
   "cell_type": "markdown",
   "metadata": {},
   "source": [
    "#### P.C.A  Variance Report"
   ]
  },
  {
   "cell_type": "code",
   "execution_count": null,
   "metadata": {},
   "outputs": [],
   "source": [
    "#To make sense of of this bunch of numbers we would create a data frame that depict the cummulated explained variance ratio\n",
    "data = {'Variance': pca.explained_variance_, '%Variance_ratio':pca.explained_variance_ratio_*100}\n",
    "var_report = pd.DataFrame(data)\n",
    "var_report['CumSum'] = var_report['%Variance_ratio'].cumsum()\n",
    "print('Number of obervation n = {}'.format(pca.n_samples_))\n",
    "var_report"
   ]
  },
  {
   "cell_type": "markdown",
   "metadata": {},
   "source": [
    "#### decision time:how many component should we settle for?\n",
    "from the scree diagram, we may settle for 26 components with 99% of  \n"
   ]
  },
  {
   "cell_type": "code",
   "execution_count": null,
   "metadata": {},
   "outputs": [],
   "source": [
    "plt.plot(var_report['CumSum']);"
   ]
  },
  {
   "cell_type": "code",
   "execution_count": null,
   "metadata": {},
   "outputs": [],
   "source": [
    "# let see it from another perspective\n",
    "plt.plot(pca.explained_variance_ratio_)"
   ]
  },
  {
   "cell_type": "code",
   "execution_count": null,
   "metadata": {},
   "outputs": [],
   "source": [
    "#keep 21 components\n",
    "pca_scaled_train = pca_scaled_counter_train.iloc[:,0:22]\n",
    "pca_scaled_test = pca_scaled_counter_test.iloc[:,0:22]"
   ]
  },
  {
   "cell_type": "code",
   "execution_count": null,
   "metadata": {},
   "outputs": [],
   "source": [
    "pca_scaled_test.shape, pca_scaled_train.shape"
   ]
  },
  {
   "cell_type": "markdown",
   "metadata": {},
   "source": [
    "### Some exploration of train data set after standardizing data"
   ]
  },
  {
   "cell_type": "code",
   "execution_count": null,
   "metadata": {},
   "outputs": [],
   "source": [
    "#Distribution of training data\n",
    "fig, axs = plt.subplots(8, 4, figsize=(24,24))\n",
    "for ix, col in enumerate(scaled_counter_train.columns):\n",
    "    p0 = ix // 4\n",
    "    p1 = ix % 4\n",
    "    sns.distplot(scaled_counter_train[col], ax = axs[p0, p1])\n",
    "    axs[p0, p1].set(xlabel=col)"
   ]
  },
  {
   "cell_type": "code",
   "execution_count": null,
   "metadata": {},
   "outputs": [],
   "source": [
    "#features relationship with target: counterfeit sales figures\n",
    "#\n",
    "fig, axs = plt.subplots(4, 8, figsize=(20, 20))\n",
    "for ix, feature in enumerate(scaled_counter_train.columns):\n",
    "    p0 = ix // 8\n",
    "    p1 = ix % 8\n",
    "    axs[p0, p1].scatter(scaled_counter_train[feature], sales_figures)\n",
    "    axs[p0, p1].set(xlabel=feature )\n"
   ]
  },
  {
   "cell_type": "markdown",
   "metadata": {},
   "source": [
    "There is not much features relationship with the sales figure other than medicine_mrp which is somewhat positive. That is the rise in medicine mrp leads to increase in sales figures of counterfeit drugs. This should be further investigated"
   ]
  },
  {
   "cell_type": "markdown",
   "metadata": {},
   "source": [
    "## Modeling\n",
    "Under model building, we would adopt the iterative approach. We would build a basic model with a simple algorithm and evaluate performance therefrom accordingly. Then we would build a couple of 'out of the box models',evaluate the performance of these model and subsequently pick the two models with highest performance  metrics. We would then carryout hyper-parameter tuning of the two models to improve performance to satisfaction. This is further broken down below:\n",
    "\n",
    "Basic  Model:\n",
    "* Linear Regression\n",
    "\n",
    "Out of the box model:\n",
    "* Support Vector Machine\n",
    "* Naive Bayes\n",
    "* KN-Neighbor\n",
    "* Decision Tree\n",
    "* Random Forest\n",
    "\n",
    "* Xgboost\n"
   ]
  },
  {
   "cell_type": "markdown",
   "metadata": {},
   "source": [
    "#### Basic Model\n",
    "**Linear Regression**\n",
    "* Linear regression, simply put is about extracting a mathematical equation from the data,which explains how the variable of interest, in our current case, the counterfeit sales figure, is affected by other variables in the data.\n",
    "\n",
    "Mathematic foundation\n",
    "* Multiple Linear regression: \n",
    "$\\displaystyle Y = \\beta_0 + \\beta_1 X_1 + \\beta_2 X_2 + \\cdots + \\beta_n X_n$\n",
    "\n",
    "$\\displaystyle\\beta_1 = \\frac {\\Sigma( x - \\bar{x})(y - \\bar{y})}{\\Sigma( x  -\\bar{x})^2}$ $\\to$ $\\displaystyle\\beta_1 = \n",
    "\\frac{\\Sigma xy -\\frac{\\Sigma x\\Sigma y}{n}}{\\Sigma x^2 - \\frac{(\\Sigma x)^2}{n}}$  \n",
    "$\\beta_0 = \\bar{y}-\\beta_1\\bar{x}$\n",
    "\n",
    "The ultimate goal is to minimize the error : $\\displaystyle\\sum_{i = 0}^n(Y - \\beta_0 - \\beta_1 X)^2$"
   ]
  },
  {
   "cell_type": "code",
   "execution_count": null,
   "metadata": {
    "collapsed": true
   },
   "outputs": [],
   "source": [
    "# create a function that would save predicted in a csv file\n",
    "def save_in_file(X,Y,model, X_test, fit=True):\n",
    "    if fit:\n",
    "        model.fit(X,Y)\n",
    "    yhat = model.predict(X_test)\n",
    "    yhat = np.round(yhat)\n",
    "    \n",
    "    submit = submit_raw.copy()\n",
    "    submit['sales_figures'] = yhat\n",
    "    submit.to_csv('submit.csv', index=False)"
   ]
  },
  {
   "cell_type": "code",
   "execution_count": null,
   "metadata": {
    "collapsed": true
   },
   "outputs": [],
   "source": [
    "X = "
   ]
  }
 ],
 "metadata": {
  "kernelspec": {
   "display_name": "Python 3",
   "language": "python",
   "name": "python3"
  },
  "language_info": {
   "codemirror_mode": {
    "name": "ipython",
    "version": 3
   },
   "file_extension": ".py",
   "mimetype": "text/x-python",
   "name": "python",
   "nbconvert_exporter": "python",
   "pygments_lexer": "ipython3",
   "version": "3.6.1"
  }
 },
 "nbformat": 4,
 "nbformat_minor": 2
}
