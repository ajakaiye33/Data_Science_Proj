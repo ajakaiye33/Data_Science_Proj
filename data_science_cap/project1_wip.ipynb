{
 "cells": [
  {
   "cell_type": "markdown",
   "metadata": {
    "collapsed": true
   },
   "source": [
    "# Counterfeit Medicine Sales Prediction"
   ]
  },
  {
   "cell_type": "markdown",
   "metadata": {},
   "source": [
    "**By:** Hedgar Ajakaiye, \n",
    "** September 2019 **\n",
    "\n",
    "## Introduction\n",
    "\n",
    "Counterfeit medicines are fake medicines which are either contaminated or contain wrong or no active ingredient. They could have the right active ingredient but at the wrong dose. Counterfeit drugs are illegal and are harmful to health. `10%` of the world's medicine is counterfeit and the problem is even worse in developing countries. Up to `30%` of medicines in developing countries are counterfeit.\n",
    "\n",
    "Millions of pills, bottles and sachets of counterfeit and illegal medicines are being traded across the world. The World Health Organization (WHO) is working with International Criminal Police Organization (Interpol) to dislodge the criminal networks raking in billions of dollars from this cynical trade.\n",
    "\n",
    "Despite all these efforts, counterfeit medicine selling rackets don’t seem to stop popping here and there. It has become a challenge to deploy resources to counter these; without spreading them too thin and eventually rendering them ineffective. Government has decided that they should focus on illegal operations of high networth first instead of trying to control all of them. In order to do that they have collected data which will help them to predict sales figures given an illegal operation's characteristics\n"
   ]
  },
  {
   "cell_type": "markdown",
   "metadata": {},
   "source": [
    "## Formal Problem Statement\n",
    "\n",
    "We would like to make example out a few of these counterfeiters but the challenge is what yardstick can we employ to determine the 'big fish(es)' that we can use as scape goat to send a strong message to these clandestine communities and equally serve as deterrent. After considering numerous features and attributes of these counterfeiters, we resolved to zero in on their sales figures. To this end we shall put to use the power of machine learning to scientifically predict current and future counterfeiters and stop them in their tracks for good!\n",
    "\n",
    "We would train a model on  data we have collected secretly over the years on their operations. The data dictionary of the data is as follows:\n",
    "\n",
    "| Variable                   |        Description & Values                                                              |                            |\n",
    "|----------------------------|----------------------------------------------------------------------------|\n",
    "|Medicine_ID                 |Alphanumeric identification number;Norminal Integer                         |\n",
    "|Counterfeit_weight          |weighted percentage attached to each medicine;continuous                    |\n",
    "|District_ID                 |District identification number; alphanumeric                                |\n",
    "|Active since                |year monitoring started;Integer                                             |\n",
    "|Medicine MRP                |Medicine price list;continuous                                              |  \n",
    "|Medicine type               |the form of the medicine;categorical                                        |\n",
    "|Side effect level           |the severity of the side effect associated with the medicine,categorical    |\n",
    "|Availability rating         |the rate at which the medicine is available,continuous                      |\n",
    "|Area type                   |the level of development of an area,                                        |\n",
    "|Area city type              |the rating of the city;categorical                                          |\n",
    "|Area district level         |the level of the area district;categorical                                  |\n",
    "|Counterfeit sales           |value of sales,continuous                                                   |\n",
    "                           \n",
    "                           \n",
    "\n",
    "\n",
    "\n"
   ]
  },
  {
   "cell_type": "markdown",
   "metadata": {},
   "source": [
    "## Load Library, Packages, Modules"
   ]
  },
  {
   "cell_type": "code",
   "execution_count": 991,
   "metadata": {
    "collapsed": true
   },
   "outputs": [],
   "source": [
    "import os\n",
    "import pandas as pd\n",
    "import numpy as np\n",
    "import matplotlib.pyplot as plt\n",
    "import seaborn as sns\n",
    "from sklearn.metrics import  mean_absolute_error\n",
    "from sklearn.metrics import  r2_score\n",
    "from sklearn.metrics import  mean_squared_error\n",
    "from sklearn.model_selection import train_test_split\n",
    "from sklearn.linear_model import LinearRegression\n",
    "from sklearn.tree import DecisionTreeRegressor\n",
    "from sklearn.model_selection import GridSearchCV\n",
    "from sklearn.model_selection import cross_val_score\n",
    "from sklearn.ensemble import RandomForestRegressor\n",
    "from sklearn.neighbors import KNeighborsRegressor\n",
    "from sklearn.naive_bayes import GaussianNB\n",
    "from sklearn.svm import SVC\n",
    "from sklearn.ensemble import GradientBoostingRegressor \n",
    "from sklearn.preprocessing import StandardScaler\n",
    "from sklearn.decomposition import PCA\n",
    "\n",
    "%matplotlib inline\n"
   ]
  },
  {
   "cell_type": "code",
   "execution_count": 992,
   "metadata": {
    "collapsed": true
   },
   "outputs": [],
   "source": [
    "plt.rcParams['figure.figsize'] = (20.0, 10.0)\n",
    "#plt.rcParams.update({'font.size':25})"
   ]
  },
  {
   "cell_type": "markdown",
   "metadata": {},
   "source": [
    "## Load Data"
   ]
  },
  {
   "cell_type": "code",
   "execution_count": 993,
   "metadata": {
    "collapsed": true
   },
   "outputs": [],
   "source": [
    "# change directory\n",
    "# point to the directory that house the data\n",
    "os.chdir('../data')"
   ]
  },
  {
   "cell_type": "code",
   "execution_count": 994,
   "metadata": {
    "collapsed": true
   },
   "outputs": [],
   "source": [
    "# read data into pandas\n",
    "train_data = pd.read_csv('counterfeit_train.csv')\n",
    "test_data = pd.read_csv('counterfeit_test.csv')"
   ]
  },
  {
   "cell_type": "code",
   "execution_count": 995,
   "metadata": {},
   "outputs": [
    {
     "data": {
      "text/plain": [
       "((6818, 12), (1705, 11))"
      ]
     },
     "execution_count": 995,
     "metadata": {},
     "output_type": "execute_result"
    }
   ],
   "source": [
    "#shape of test and train data\n",
    "train_data.shape, test_data.shape"
   ]
  },
  {
   "cell_type": "code",
   "execution_count": 996,
   "metadata": {},
   "outputs": [
    {
     "data": {
      "text/plain": [
       "Index(['Medicine_ID', 'Counterfeit_Weight', 'DistArea_ID', 'Active_Since',\n",
       "       'Medicine_MRP', 'Medicine_Type', 'SidEffect_Level',\n",
       "       'Availability_rating', 'Area_Type', 'Area_City_Type', 'Area_dist_level',\n",
       "       'Counterfeit_Sales'],\n",
       "      dtype='object')"
      ]
     },
     "execution_count": 996,
     "metadata": {},
     "output_type": "execute_result"
    }
   ],
   "source": [
    "train_data.columns"
   ]
  },
  {
   "cell_type": "code",
   "execution_count": 997,
   "metadata": {
    "collapsed": true
   },
   "outputs": [],
   "source": [
    "# combine test and train data to ensure uniform preprocessing\n",
    "# to combine test and train data successfully, the value of the columns of test and train data must equal\n",
    "test_data['Counterfeit_Sales'] =np.nan\n",
    "test_data['data'] = 'test'\n",
    "train_data['data'] = 'train'\n",
    "test_data = test_data[train_data.columns]\n",
    "all_data = pd.concat([test_data, train_data], axis=0)\n",
    "\n"
   ]
  },
  {
   "cell_type": "code",
   "execution_count": 998,
   "metadata": {},
   "outputs": [
    {
     "data": {
      "text/html": [
       "<div>\n",
       "<style>\n",
       "    .dataframe thead tr:only-child th {\n",
       "        text-align: right;\n",
       "    }\n",
       "\n",
       "    .dataframe thead th {\n",
       "        text-align: left;\n",
       "    }\n",
       "\n",
       "    .dataframe tbody tr th {\n",
       "        vertical-align: top;\n",
       "    }\n",
       "</style>\n",
       "<table border=\"1\" class=\"dataframe\">\n",
       "  <thead>\n",
       "    <tr style=\"text-align: right;\">\n",
       "      <th></th>\n",
       "      <th>Medicine_ID</th>\n",
       "      <th>Counterfeit_Weight</th>\n",
       "      <th>DistArea_ID</th>\n",
       "      <th>Active_Since</th>\n",
       "      <th>Medicine_MRP</th>\n",
       "      <th>Medicine_Type</th>\n",
       "      <th>SidEffect_Level</th>\n",
       "      <th>Availability_rating</th>\n",
       "      <th>Area_Type</th>\n",
       "      <th>Area_City_Type</th>\n",
       "      <th>Area_dist_level</th>\n",
       "      <th>Counterfeit_Sales</th>\n",
       "      <th>data</th>\n",
       "    </tr>\n",
       "  </thead>\n",
       "  <tbody>\n",
       "    <tr>\n",
       "      <th>0</th>\n",
       "      <td>HLZ81</td>\n",
       "      <td>NaN</td>\n",
       "      <td>Area027</td>\n",
       "      <td>1983</td>\n",
       "      <td>85.5328</td>\n",
       "      <td>Antibiotics</td>\n",
       "      <td>mild</td>\n",
       "      <td>0.112747</td>\n",
       "      <td>CityLimits</td>\n",
       "      <td>Tier 3</td>\n",
       "      <td>Medium</td>\n",
       "      <td>NaN</td>\n",
       "      <td>test</td>\n",
       "    </tr>\n",
       "    <tr>\n",
       "      <th>1</th>\n",
       "      <td>ECE94</td>\n",
       "      <td>13.45</td>\n",
       "      <td>Area045</td>\n",
       "      <td>2000</td>\n",
       "      <td>257.1460</td>\n",
       "      <td>OralContraceptives</td>\n",
       "      <td>mild</td>\n",
       "      <td>0.144446</td>\n",
       "      <td>DownTown</td>\n",
       "      <td>Tier 2</td>\n",
       "      <td>Unknown</td>\n",
       "      <td>NaN</td>\n",
       "      <td>test</td>\n",
       "    </tr>\n",
       "    <tr>\n",
       "      <th>2</th>\n",
       "      <td>SAD14</td>\n",
       "      <td>7.10</td>\n",
       "      <td>Area045</td>\n",
       "      <td>2000</td>\n",
       "      <td>98.1172</td>\n",
       "      <td>Antipyretics</td>\n",
       "      <td>mild</td>\n",
       "      <td>0.144221</td>\n",
       "      <td>DownTown</td>\n",
       "      <td>Tier 2</td>\n",
       "      <td>Unknown</td>\n",
       "      <td>NaN</td>\n",
       "      <td>test</td>\n",
       "    </tr>\n",
       "    <tr>\n",
       "      <th>3</th>\n",
       "      <td>EQV63</td>\n",
       "      <td>18.30</td>\n",
       "      <td>Area010</td>\n",
       "      <td>1996</td>\n",
       "      <td>135.3730</td>\n",
       "      <td>Tranquilizers</td>\n",
       "      <td>mild</td>\n",
       "      <td>0.100388</td>\n",
       "      <td>MidTownResidential</td>\n",
       "      <td>Tier 3</td>\n",
       "      <td>Unknown</td>\n",
       "      <td>NaN</td>\n",
       "      <td>test</td>\n",
       "    </tr>\n",
       "    <tr>\n",
       "      <th>4</th>\n",
       "      <td>AIR10</td>\n",
       "      <td>NaN</td>\n",
       "      <td>Area019</td>\n",
       "      <td>1983</td>\n",
       "      <td>112.8016</td>\n",
       "      <td>OralContraceptives</td>\n",
       "      <td>mild</td>\n",
       "      <td>0.022585</td>\n",
       "      <td>MidTownResidential</td>\n",
       "      <td>Tier 1</td>\n",
       "      <td>Small</td>\n",
       "      <td>NaN</td>\n",
       "      <td>test</td>\n",
       "    </tr>\n",
       "  </tbody>\n",
       "</table>\n",
       "</div>"
      ],
      "text/plain": [
       "  Medicine_ID  Counterfeit_Weight DistArea_ID  Active_Since  Medicine_MRP  \\\n",
       "0       HLZ81                 NaN     Area027          1983       85.5328   \n",
       "1       ECE94               13.45     Area045          2000      257.1460   \n",
       "2       SAD14                7.10     Area045          2000       98.1172   \n",
       "3       EQV63               18.30     Area010          1996      135.3730   \n",
       "4       AIR10                 NaN     Area019          1983      112.8016   \n",
       "\n",
       "        Medicine_Type SidEffect_Level  Availability_rating  \\\n",
       "0         Antibiotics            mild             0.112747   \n",
       "1  OralContraceptives            mild             0.144446   \n",
       "2        Antipyretics            mild             0.144221   \n",
       "3       Tranquilizers            mild             0.100388   \n",
       "4  OralContraceptives            mild             0.022585   \n",
       "\n",
       "            Area_Type Area_City_Type Area_dist_level  Counterfeit_Sales  data  \n",
       "0          CityLimits         Tier 3          Medium                NaN  test  \n",
       "1            DownTown         Tier 2         Unknown                NaN  test  \n",
       "2            DownTown         Tier 2         Unknown                NaN  test  \n",
       "3  MidTownResidential         Tier 3         Unknown                NaN  test  \n",
       "4  MidTownResidential         Tier 1           Small                NaN  test  "
      ]
     },
     "execution_count": 998,
     "metadata": {},
     "output_type": "execute_result"
    }
   ],
   "source": [
    "all_data.head()"
   ]
  },
  {
   "cell_type": "code",
   "execution_count": 999,
   "metadata": {},
   "outputs": [
    {
     "data": {
      "text/plain": [
       "(8523, 13)"
      ]
     },
     "execution_count": 999,
     "metadata": {},
     "output_type": "execute_result"
    }
   ],
   "source": [
    "#check the dimension\n",
    "all_data.shape"
   ]
  },
  {
   "cell_type": "code",
   "execution_count": 1000,
   "metadata": {},
   "outputs": [
    {
     "name": "stdout",
     "output_type": "stream",
     "text": [
      "<class 'pandas.core.frame.DataFrame'>\n",
      "Int64Index: 8523 entries, 0 to 6817\n",
      "Data columns (total 13 columns):\n",
      "Medicine_ID            8523 non-null object\n",
      "Counterfeit_Weight     7060 non-null float64\n",
      "DistArea_ID            8523 non-null object\n",
      "Active_Since           8523 non-null int64\n",
      "Medicine_MRP           8523 non-null float64\n",
      "Medicine_Type          8523 non-null object\n",
      "SidEffect_Level        8523 non-null object\n",
      "Availability_rating    8523 non-null float64\n",
      "Area_Type              8523 non-null object\n",
      "Area_City_Type         8523 non-null object\n",
      "Area_dist_level        8523 non-null object\n",
      "Counterfeit_Sales      6818 non-null float64\n",
      "data                   8523 non-null object\n",
      "dtypes: float64(4), int64(1), object(8)\n",
      "memory usage: 932.2+ KB\n"
     ]
    }
   ],
   "source": [
    "all_data.info()"
   ]
  },
  {
   "cell_type": "code",
   "execution_count": 1001,
   "metadata": {},
   "outputs": [
    {
     "data": {
      "text/html": [
       "<div>\n",
       "<style>\n",
       "    .dataframe thead tr:only-child th {\n",
       "        text-align: right;\n",
       "    }\n",
       "\n",
       "    .dataframe thead th {\n",
       "        text-align: left;\n",
       "    }\n",
       "\n",
       "    .dataframe tbody tr th {\n",
       "        vertical-align: top;\n",
       "    }\n",
       "</style>\n",
       "<table border=\"1\" class=\"dataframe\">\n",
       "  <thead>\n",
       "    <tr style=\"text-align: right;\">\n",
       "      <th></th>\n",
       "      <th>medicine_id</th>\n",
       "      <th>counterfeit_weight</th>\n",
       "      <th>distarea_id</th>\n",
       "      <th>active_since</th>\n",
       "      <th>medicine_mrp</th>\n",
       "      <th>medicine_type</th>\n",
       "      <th>sideffect_level</th>\n",
       "      <th>availability_rating</th>\n",
       "      <th>area_type</th>\n",
       "      <th>area_city_type</th>\n",
       "      <th>area_dist_level</th>\n",
       "      <th>counterfeit_sales</th>\n",
       "      <th>data</th>\n",
       "    </tr>\n",
       "  </thead>\n",
       "  <tbody>\n",
       "    <tr>\n",
       "      <th>0</th>\n",
       "      <td>HLZ81</td>\n",
       "      <td>NaN</td>\n",
       "      <td>Area027</td>\n",
       "      <td>1983</td>\n",
       "      <td>85.5328</td>\n",
       "      <td>Antibiotics</td>\n",
       "      <td>mild</td>\n",
       "      <td>0.112747</td>\n",
       "      <td>CityLimits</td>\n",
       "      <td>Tier 3</td>\n",
       "      <td>Medium</td>\n",
       "      <td>NaN</td>\n",
       "      <td>test</td>\n",
       "    </tr>\n",
       "    <tr>\n",
       "      <th>1</th>\n",
       "      <td>ECE94</td>\n",
       "      <td>13.45</td>\n",
       "      <td>Area045</td>\n",
       "      <td>2000</td>\n",
       "      <td>257.1460</td>\n",
       "      <td>OralContraceptives</td>\n",
       "      <td>mild</td>\n",
       "      <td>0.144446</td>\n",
       "      <td>DownTown</td>\n",
       "      <td>Tier 2</td>\n",
       "      <td>Unknown</td>\n",
       "      <td>NaN</td>\n",
       "      <td>test</td>\n",
       "    </tr>\n",
       "    <tr>\n",
       "      <th>2</th>\n",
       "      <td>SAD14</td>\n",
       "      <td>7.10</td>\n",
       "      <td>Area045</td>\n",
       "      <td>2000</td>\n",
       "      <td>98.1172</td>\n",
       "      <td>Antipyretics</td>\n",
       "      <td>mild</td>\n",
       "      <td>0.144221</td>\n",
       "      <td>DownTown</td>\n",
       "      <td>Tier 2</td>\n",
       "      <td>Unknown</td>\n",
       "      <td>NaN</td>\n",
       "      <td>test</td>\n",
       "    </tr>\n",
       "    <tr>\n",
       "      <th>3</th>\n",
       "      <td>EQV63</td>\n",
       "      <td>18.30</td>\n",
       "      <td>Area010</td>\n",
       "      <td>1996</td>\n",
       "      <td>135.3730</td>\n",
       "      <td>Tranquilizers</td>\n",
       "      <td>mild</td>\n",
       "      <td>0.100388</td>\n",
       "      <td>MidTownResidential</td>\n",
       "      <td>Tier 3</td>\n",
       "      <td>Unknown</td>\n",
       "      <td>NaN</td>\n",
       "      <td>test</td>\n",
       "    </tr>\n",
       "    <tr>\n",
       "      <th>4</th>\n",
       "      <td>AIR10</td>\n",
       "      <td>NaN</td>\n",
       "      <td>Area019</td>\n",
       "      <td>1983</td>\n",
       "      <td>112.8016</td>\n",
       "      <td>OralContraceptives</td>\n",
       "      <td>mild</td>\n",
       "      <td>0.022585</td>\n",
       "      <td>MidTownResidential</td>\n",
       "      <td>Tier 1</td>\n",
       "      <td>Small</td>\n",
       "      <td>NaN</td>\n",
       "      <td>test</td>\n",
       "    </tr>\n",
       "  </tbody>\n",
       "</table>\n",
       "</div>"
      ],
      "text/plain": [
       "  medicine_id  counterfeit_weight distarea_id  active_since  medicine_mrp  \\\n",
       "0       HLZ81                 NaN     Area027          1983       85.5328   \n",
       "1       ECE94               13.45     Area045          2000      257.1460   \n",
       "2       SAD14                7.10     Area045          2000       98.1172   \n",
       "3       EQV63               18.30     Area010          1996      135.3730   \n",
       "4       AIR10                 NaN     Area019          1983      112.8016   \n",
       "\n",
       "        medicine_type sideffect_level  availability_rating  \\\n",
       "0         Antibiotics            mild             0.112747   \n",
       "1  OralContraceptives            mild             0.144446   \n",
       "2        Antipyretics            mild             0.144221   \n",
       "3       Tranquilizers            mild             0.100388   \n",
       "4  OralContraceptives            mild             0.022585   \n",
       "\n",
       "            area_type area_city_type area_dist_level  counterfeit_sales  data  \n",
       "0          CityLimits         Tier 3          Medium                NaN  test  \n",
       "1            DownTown         Tier 2         Unknown                NaN  test  \n",
       "2            DownTown         Tier 2         Unknown                NaN  test  \n",
       "3  MidTownResidential         Tier 3         Unknown                NaN  test  \n",
       "4  MidTownResidential         Tier 1           Small                NaN  test  "
      ]
     },
     "execution_count": 1001,
     "metadata": {},
     "output_type": "execute_result"
    }
   ],
   "source": [
    "#make the column names uniform\n",
    "def clean_colname(name):\n",
    "    name = name.strip().lower()\n",
    "    return name\n",
    "all_data = all_data.rename(columns= clean_colname)\n",
    "all_data.head()"
   ]
  },
  {
   "cell_type": "code",
   "execution_count": 1002,
   "metadata": {},
   "outputs": [
    {
     "data": {
      "text/plain": [
       "medicine_id             0.000000\n",
       "counterfeit_weight     17.165317\n",
       "distarea_id             0.000000\n",
       "active_since            0.000000\n",
       "medicine_mrp            0.000000\n",
       "medicine_type           0.000000\n",
       "sideffect_level         0.000000\n",
       "availability_rating     0.000000\n",
       "area_type               0.000000\n",
       "area_city_type          0.000000\n",
       "area_dist_level         0.000000\n",
       "counterfeit_sales      20.004693\n",
       "data                    0.000000\n",
       "dtype: float64"
      ]
     },
     "execution_count": 1002,
     "metadata": {},
     "output_type": "execute_result"
    }
   ],
   "source": [
    "#check and treat missing value. This value should exlude the counterfeit sale column as the na there is intentional\n",
    "all_data.isnull().mean() * 100"
   ]
  },
  {
   "cell_type": "code",
   "execution_count": 1003,
   "metadata": {},
   "outputs": [
    {
     "name": "stdout",
     "output_type": "stream",
     "text": [
      "Total number of missing values after treatment: 0\n"
     ]
    }
   ],
   "source": [
    "# fill missing values in counterfeit_weight columns with the mean weight\n",
    "# the counterfeit_weight column portion of the training data set and not the combined portion shall be used to calculate the mean\n",
    "# all_data['counterfeit_weight'].mean() # 14.158\n",
    "# all_data['counterfeit_weight'].fillna(14.158, inplace = True)\n",
    "# print('current number of missing value ', all_data['counterfeit_weight'].isnull().sum())\n",
    "filt = all_data['data'] == 'train'\n",
    "all_data.loc[filt, 'counterfeit_weight'].mean() # 14.115\n",
    "all_data['counterfeit_weight'].fillna(14.115, inplace= True)\n",
    "print('Total number of missing values after treatment:', all_data['counterfeit_weight'].isnull().sum())\n",
    "\n",
    "\n"
   ]
  },
  {
   "cell_type": "code",
   "execution_count": 1004,
   "metadata": {},
   "outputs": [
    {
     "data": {
      "text/html": [
       "<div>\n",
       "<style>\n",
       "    .dataframe thead tr:only-child th {\n",
       "        text-align: right;\n",
       "    }\n",
       "\n",
       "    .dataframe thead th {\n",
       "        text-align: left;\n",
       "    }\n",
       "\n",
       "    .dataframe tbody tr th {\n",
       "        vertical-align: top;\n",
       "    }\n",
       "</style>\n",
       "<table border=\"1\" class=\"dataframe\">\n",
       "  <thead>\n",
       "    <tr style=\"text-align: right;\">\n",
       "      <th></th>\n",
       "      <th>count</th>\n",
       "      <th>mean</th>\n",
       "      <th>std</th>\n",
       "      <th>min</th>\n",
       "      <th>25%</th>\n",
       "      <th>50%</th>\n",
       "      <th>75%</th>\n",
       "      <th>max</th>\n",
       "    </tr>\n",
       "  </thead>\n",
       "  <tbody>\n",
       "    <tr>\n",
       "      <th>counterfeit_weight</th>\n",
       "      <td>8523.0</td>\n",
       "      <td>14.150325</td>\n",
       "      <td>4.226154</td>\n",
       "      <td>5.855</td>\n",
       "      <td>10.610000</td>\n",
       "      <td>14.115000</td>\n",
       "      <td>17.300000</td>\n",
       "      <td>22.650000</td>\n",
       "    </tr>\n",
       "    <tr>\n",
       "      <th>active_since</th>\n",
       "      <td>8523.0</td>\n",
       "      <td>1995.831867</td>\n",
       "      <td>8.371760</td>\n",
       "      <td>1983.000</td>\n",
       "      <td>1985.000000</td>\n",
       "      <td>1997.000000</td>\n",
       "      <td>2002.000000</td>\n",
       "      <td>2007.000000</td>\n",
       "    </tr>\n",
       "    <tr>\n",
       "      <th>medicine_mrp</th>\n",
       "      <td>8523.0</td>\n",
       "      <td>151.292782</td>\n",
       "      <td>62.275067</td>\n",
       "      <td>41.590</td>\n",
       "      <td>104.126500</td>\n",
       "      <td>153.312800</td>\n",
       "      <td>195.943700</td>\n",
       "      <td>277.188400</td>\n",
       "    </tr>\n",
       "    <tr>\n",
       "      <th>availability_rating</th>\n",
       "      <td>8523.0</td>\n",
       "      <td>0.079132</td>\n",
       "      <td>0.051598</td>\n",
       "      <td>0.013</td>\n",
       "      <td>0.039989</td>\n",
       "      <td>0.066931</td>\n",
       "      <td>0.107585</td>\n",
       "      <td>0.341391</td>\n",
       "    </tr>\n",
       "    <tr>\n",
       "      <th>counterfeit_sales</th>\n",
       "      <td>6818.0</td>\n",
       "      <td>2280.583480</td>\n",
       "      <td>1693.354404</td>\n",
       "      <td>146.290</td>\n",
       "      <td>933.265600</td>\n",
       "      <td>1902.670400</td>\n",
       "      <td>3207.638400</td>\n",
       "      <td>13199.964800</td>\n",
       "    </tr>\n",
       "  </tbody>\n",
       "</table>\n",
       "</div>"
      ],
      "text/plain": [
       "                      count         mean          std       min          25%  \\\n",
       "counterfeit_weight   8523.0    14.150325     4.226154     5.855    10.610000   \n",
       "active_since         8523.0  1995.831867     8.371760  1983.000  1985.000000   \n",
       "medicine_mrp         8523.0   151.292782    62.275067    41.590   104.126500   \n",
       "availability_rating  8523.0     0.079132     0.051598     0.013     0.039989   \n",
       "counterfeit_sales    6818.0  2280.583480  1693.354404   146.290   933.265600   \n",
       "\n",
       "                             50%          75%           max  \n",
       "counterfeit_weight     14.115000    17.300000     22.650000  \n",
       "active_since         1997.000000  2002.000000   2007.000000  \n",
       "medicine_mrp          153.312800   195.943700    277.188400  \n",
       "availability_rating     0.066931     0.107585      0.341391  \n",
       "counterfeit_sales    1902.670400  3207.638400  13199.964800  "
      ]
     },
     "execution_count": 1004,
     "metadata": {},
     "output_type": "execute_result"
    }
   ],
   "source": [
    "# display descriptive stats\n",
    "all_data.describe().T"
   ]
  },
  {
   "cell_type": "code",
   "execution_count": 1005,
   "metadata": {
    "collapsed": true
   },
   "outputs": [],
   "source": [
    "# columns with float type\n",
    "cont_features = all_data.select_dtypes(include=['float64']).columns"
   ]
  },
  {
   "cell_type": "code",
   "execution_count": 1006,
   "metadata": {
    "collapsed": true
   },
   "outputs": [],
   "source": [
    "#column with integer data type\n",
    "integer_features = all_data.select_dtypes(include=['int64']).columns"
   ]
  },
  {
   "cell_type": "code",
   "execution_count": 1007,
   "metadata": {},
   "outputs": [
    {
     "data": {
      "text/plain": [
       "Index(['medicine_id', 'distarea_id', 'medicine_type', 'sideffect_level',\n",
       "       'area_type', 'area_city_type', 'area_dist_level', 'data'],\n",
       "      dtype='object')"
      ]
     },
     "execution_count": 1007,
     "metadata": {},
     "output_type": "execute_result"
    }
   ],
   "source": [
    "#columns with categorical type. This does not include the 'data' which serves the purpose of a separator\n",
    "all_data.select_dtypes(include=['object']).columns"
   ]
  },
  {
   "cell_type": "markdown",
   "metadata": {},
   "source": [
    "## Data Exploration"
   ]
  },
  {
   "cell_type": "markdown",
   "metadata": {},
   "source": [
    "#### How many unique medicine type are present?"
   ]
  },
  {
   "cell_type": "code",
   "execution_count": 1008,
   "metadata": {},
   "outputs": [
    {
     "data": {
      "text/plain": [
       "16"
      ]
     },
     "execution_count": 1008,
     "metadata": {},
     "output_type": "execute_result"
    }
   ],
   "source": [
    "# Number of unique medicine type\n",
    "train_data['Medicine_Type'].nunique()"
   ]
  },
  {
   "cell_type": "markdown",
   "metadata": {},
   "source": [
    "#### which area type has the highest counterfeit drug?\n",
    "Down Town, Area has the highest number of counterfeited drugs and medicine"
   ]
  },
  {
   "cell_type": "code",
   "execution_count": 1009,
   "metadata": {},
   "outputs": [
    {
     "data": {
      "image/png": "[encoded data removed]",
      "text/plain": [
       "<matplotlib.figure.Figure at 0x1b0092278>"
      ]
     },
     "metadata": {},
     "output_type": "display_data"
    }
   ],
   "source": [
    "#which area type has the highest counterfeit drug\n",
    "\n",
    "# train_data['Area_Type'].value_counts().plot(kind = 'bar')\n",
    "# plt.xlabel('Area Type')\n",
    "# plt.ylabel('count')\n",
    "# plt.title('Counterfeit Drug Area Type Count');\n",
    "sns.countplot(x ='area_type', data=all_data, palette='Blues');"
   ]
  },
  {
   "cell_type": "markdown",
   "metadata": {},
   "source": [
    "### Which medicine type has the lowest count and their respective level of side effects?\n",
    "Antiviral appears to be the least counterfeited medicine whereas Antibiotics are the third most counterfeited drug but with the most critical side effect level"
   ]
  },
  {
   "cell_type": "code",
   "execution_count": 1010,
   "metadata": {},
   "outputs": [
    {
     "data": {
      "image/png": "[encoded data removed]",
      "text/plain": [
       "<matplotlib.figure.Figure at 0x1719e0390>"
      ]
     },
     "metadata": {},
     "output_type": "display_data"
    }
   ],
   "source": [
    "#which medicine type has the lowest count\n",
    "#train_data['Medicine_Type'].value_counts(ascending=True)\n",
    "sns.countplot(y='medicine_type', hue='sideffect_level', data=all_data, palette='Blues_d');"
   ]
  },
  {
   "cell_type": "markdown",
   "metadata": {},
   "source": [
    "## How does the distribution of the counterfeit sale looks like\n",
    "The distribution is not normal rather skewed to the right. This means that a handful of medicine have very high sales figures. This could also mean that there are alot of outliers in the counterfeit sale figure. lets check it out!"
   ]
  },
  {
   "cell_type": "code",
   "execution_count": 1011,
   "metadata": {},
   "outputs": [
    {
     "data": {
      "image/png": "[encoded data removed]",
      "text/plain": [
       "<matplotlib.figure.Figure at 0x1b038fa90>"
      ]
     },
     "metadata": {},
     "output_type": "display_data"
    }
   ],
   "source": [
    "all_data['counterfeit_sales'].plot(kind = 'hist');"
   ]
  },
  {
   "cell_type": "code",
   "execution_count": 1012,
   "metadata": {},
   "outputs": [
    {
     "data": {
      "image/png": "[encoded data removed]",
      "text/plain": [
       "<matplotlib.figure.Figure at 0x171a7a518>"
      ]
     },
     "metadata": {},
     "output_type": "display_data"
    }
   ],
   "source": [
    "# checking the level of outlier of medicine type with respect to counterfeit sales\n",
    "sns.boxplot(x = 'medicine_type', y = 'counterfeit_sales', data=all_data);"
   ]
  },
  {
   "cell_type": "markdown",
   "metadata": {},
   "source": [
    "### What is the average sales figure of counterfeited medicine by medicine type\n",
    "On average all the medicine type sale figure are above 2000 while **Antiviral** medicine type appears to command the highest average counterfeit sale. However this result should be taken with a pinch of salt until the outliers observed are treated appropriately!\n"
   ]
  },
  {
   "cell_type": "code",
   "execution_count": 1013,
   "metadata": {},
   "outputs": [
    {
     "data": {
      "image/png": "[encoded data removed]",
      "text/plain": [
       "<matplotlib.figure.Figure at 0x1b4c11c88>"
      ]
     },
     "metadata": {},
     "output_type": "display_data"
    }
   ],
   "source": [
    "#average sales figure of counterfeited drugs \n",
    "filt = all_data['data'] == 'train'\n",
    "adj_dat = all_data.loc[filt]\n",
    "avg_sales = adj_dat.groupby('medicine_type').agg({'counterfeit_sales':'mean'}).reset_index()\n",
    "sns.barplot(x = 'medicine_type', y='counterfeit_sales', data=avg_sales)\n",
    "plt.xticks(rotation=90);\n"
   ]
  },
  {
   "cell_type": "markdown",
   "metadata": {},
   "source": [
    "### Which medicine type has the highest counterfeit sales\n",
    "While it appears that the **Antiviral** drug has the highest sales figure,this figure is suspect until the outliers observed are treated"
   ]
  },
  {
   "cell_type": "code",
   "execution_count": 1014,
   "metadata": {},
   "outputs": [
    {
     "name": "stdout",
     "output_type": "stream",
     "text": [
      "The medicine with the highest sales figure is: ['Antiseptics']\n"
     ]
    }
   ],
   "source": [
    "filt = all_data['data'] == 'train'\n",
    "highestsales = all_data.loc[filt]['counterfeit_sales']>= 13199.9648\n",
    "print('The medicine with the highest sales figure is:',all_data.loc[filt]['medicine_type'][highestsales].values)"
   ]
  },
  {
   "cell_type": "code",
   "execution_count": 1015,
   "metadata": {},
   "outputs": [
    {
     "data": {
      "image/png": "[encoded data removed]",
      "text/plain": [
       "<matplotlib.figure.Figure at 0x19809af98>"
      ]
     },
     "metadata": {},
     "output_type": "display_data"
    }
   ],
   "source": [
    "sns.barplot(x = 'medicine_type', y = 'counterfeit_sales', data=all_data);"
   ]
  },
  {
   "cell_type": "code",
   "execution_count": 1016,
   "metadata": {},
   "outputs": [
    {
     "data": {
      "text/plain": [
       "Index(['medicine_id', 'counterfeit_weight', 'distarea_id', 'active_since',\n",
       "       'medicine_mrp', 'medicine_type', 'sideffect_level',\n",
       "       'availability_rating', 'area_type', 'area_city_type', 'area_dist_level',\n",
       "       'counterfeit_sales', 'data'],\n",
       "      dtype='object')"
      ]
     },
     "execution_count": 1016,
     "metadata": {},
     "output_type": "execute_result"
    }
   ],
   "source": [
    "all_data.columns"
   ]
  },
  {
   "cell_type": "markdown",
   "metadata": {},
   "source": [
    "### Data Preprocessing:Feature Engineering"
   ]
  },
  {
   "cell_type": "code",
   "execution_count": 1017,
   "metadata": {},
   "outputs": [
    {
     "name": "stdout",
     "output_type": "stream",
     "text": [
      "The number of columns after dropping the active_since column: 13\n"
     ]
    }
   ],
   "source": [
    "# determine the period from the year since active till date\n",
    "all_data['period_active'] =  2019 - all_data['active_since']\n",
    "\n",
    "all_data = all_data.drop('active_since',1)\n",
    "print('The number of columns after dropping the active_since column:',all_data.shape[1])\n"
   ]
  },
  {
   "cell_type": "code",
   "execution_count": 1018,
   "metadata": {},
   "outputs": [
    {
     "data": {
      "text/plain": [
       "Antibiotics           1232\n",
       "Hreplacements         1200\n",
       "Antiseptics            910\n",
       "OralContraceptives     856\n",
       "Antipyretics           682\n",
       "Cardiac                649\n",
       "Mstablizers            648\n",
       "Tranquilizers          520\n",
       "Analgesics             445\n",
       "Antimalarial           425\n",
       "Antacids               251\n",
       "Statins                214\n",
       "MuscleRelaxants        169\n",
       "Antifungal             148\n",
       "Stimulants             110\n",
       "Antiviral               64\n",
       "Name: medicine_type, dtype: int64"
      ]
     },
     "execution_count": 1018,
     "metadata": {},
     "output_type": "execute_result"
    }
   ],
   "source": [
    "#check frequency of column\n",
    "all_data['medicine_type'].value_counts()\n"
   ]
  },
  {
   "cell_type": "markdown",
   "metadata": {},
   "source": [
    "#### Treatment/transformation  of  categorical variable"
   ]
  },
  {
   "cell_type": "code",
   "execution_count": 1019,
   "metadata": {
    "collapsed": true
   },
   "outputs": [],
   "source": [
    "# get dummy and drop Antiviral medicine for low frequency\n",
    "medtypedummy = all_data['medicine_type'].str.get_dummies()\n"
   ]
  },
  {
   "cell_type": "code",
   "execution_count": 1020,
   "metadata": {
    "collapsed": true
   },
   "outputs": [],
   "source": [
    "#add to the data frame accordingly\n",
    "all_data = pd.concat([all_data, medtypedummy],1)\n",
    "all_data = all_data.drop(['Antiviral','medicine_type'], 1)"
   ]
  },
  {
   "cell_type": "code",
   "execution_count": 1021,
   "metadata": {},
   "outputs": [
    {
     "data": {
      "text/plain": [
       "DownTown              5577\n",
       "MidTownResidential    1083\n",
       "CityLimits             935\n",
       "Industrial             928\n",
       "Name: area_type, dtype: int64"
      ]
     },
     "execution_count": 1021,
     "metadata": {},
     "output_type": "execute_result"
    }
   ],
   "source": [
    "all_data['area_type'].value_counts()"
   ]
  },
  {
   "cell_type": "code",
   "execution_count": 1022,
   "metadata": {
    "collapsed": true
   },
   "outputs": [],
   "source": [
    "#create dummy of area_type\n",
    "areatype_dummy = all_data['area_type'].str.get_dummies()\n"
   ]
  },
  {
   "cell_type": "code",
   "execution_count": 1023,
   "metadata": {
    "collapsed": true
   },
   "outputs": [],
   "source": [
    "#drop industrial area type and add other area to data frame\n",
    "all_data = pd.concat([all_data, areatype_dummy],1)\n",
    "all_data = all_data.drop(['area_type', 'Industrial'],1)"
   ]
  },
  {
   "cell_type": "code",
   "execution_count": 1024,
   "metadata": {},
   "outputs": [
    {
     "data": {
      "text/html": [
       "<div>\n",
       "<style>\n",
       "    .dataframe thead tr:only-child th {\n",
       "        text-align: right;\n",
       "    }\n",
       "\n",
       "    .dataframe thead th {\n",
       "        text-align: left;\n",
       "    }\n",
       "\n",
       "    .dataframe tbody tr th {\n",
       "        vertical-align: top;\n",
       "    }\n",
       "</style>\n",
       "<table border=\"1\" class=\"dataframe\">\n",
       "  <thead>\n",
       "    <tr style=\"text-align: right;\">\n",
       "      <th></th>\n",
       "      <th>medicine_id</th>\n",
       "      <th>counterfeit_weight</th>\n",
       "      <th>distarea_id</th>\n",
       "      <th>medicine_mrp</th>\n",
       "      <th>sideffect_level</th>\n",
       "      <th>availability_rating</th>\n",
       "      <th>area_city_type</th>\n",
       "      <th>area_dist_level</th>\n",
       "      <th>counterfeit_sales</th>\n",
       "      <th>data</th>\n",
       "      <th>period_active</th>\n",
       "      <th>Analgesics</th>\n",
       "      <th>Antacids</th>\n",
       "      <th>Antibiotics</th>\n",
       "      <th>Antifungal</th>\n",
       "      <th>Antimalarial</th>\n",
       "      <th>Antipyretics</th>\n",
       "      <th>Antiseptics</th>\n",
       "      <th>Cardiac</th>\n",
       "      <th>Hreplacements</th>\n",
       "      <th>Mstablizers</th>\n",
       "      <th>MuscleRelaxants</th>\n",
       "      <th>OralContraceptives</th>\n",
       "      <th>Statins</th>\n",
       "      <th>Stimulants</th>\n",
       "      <th>Tranquilizers</th>\n",
       "      <th>CityLimits</th>\n",
       "      <th>DownTown</th>\n",
       "      <th>MidTownResidential</th>\n",
       "    </tr>\n",
       "  </thead>\n",
       "  <tbody>\n",
       "    <tr>\n",
       "      <th>0</th>\n",
       "      <td>HLZ81</td>\n",
       "      <td>14.115</td>\n",
       "      <td>Area027</td>\n",
       "      <td>85.5328</td>\n",
       "      <td>mild</td>\n",
       "      <td>0.112747</td>\n",
       "      <td>Tier 3</td>\n",
       "      <td>Medium</td>\n",
       "      <td>NaN</td>\n",
       "      <td>test</td>\n",
       "      <td>36</td>\n",
       "      <td>0</td>\n",
       "      <td>0</td>\n",
       "      <td>1</td>\n",
       "      <td>0</td>\n",
       "      <td>0</td>\n",
       "      <td>0</td>\n",
       "      <td>0</td>\n",
       "      <td>0</td>\n",
       "      <td>0</td>\n",
       "      <td>0</td>\n",
       "      <td>0</td>\n",
       "      <td>0</td>\n",
       "      <td>0</td>\n",
       "      <td>0</td>\n",
       "      <td>0</td>\n",
       "      <td>1</td>\n",
       "      <td>0</td>\n",
       "      <td>0</td>\n",
       "    </tr>\n",
       "    <tr>\n",
       "      <th>1</th>\n",
       "      <td>ECE94</td>\n",
       "      <td>13.450</td>\n",
       "      <td>Area045</td>\n",
       "      <td>257.1460</td>\n",
       "      <td>mild</td>\n",
       "      <td>0.144446</td>\n",
       "      <td>Tier 2</td>\n",
       "      <td>Unknown</td>\n",
       "      <td>NaN</td>\n",
       "      <td>test</td>\n",
       "      <td>19</td>\n",
       "      <td>0</td>\n",
       "      <td>0</td>\n",
       "      <td>0</td>\n",
       "      <td>0</td>\n",
       "      <td>0</td>\n",
       "      <td>0</td>\n",
       "      <td>0</td>\n",
       "      <td>0</td>\n",
       "      <td>0</td>\n",
       "      <td>0</td>\n",
       "      <td>0</td>\n",
       "      <td>1</td>\n",
       "      <td>0</td>\n",
       "      <td>0</td>\n",
       "      <td>0</td>\n",
       "      <td>0</td>\n",
       "      <td>1</td>\n",
       "      <td>0</td>\n",
       "    </tr>\n",
       "    <tr>\n",
       "      <th>2</th>\n",
       "      <td>SAD14</td>\n",
       "      <td>7.100</td>\n",
       "      <td>Area045</td>\n",
       "      <td>98.1172</td>\n",
       "      <td>mild</td>\n",
       "      <td>0.144221</td>\n",
       "      <td>Tier 2</td>\n",
       "      <td>Unknown</td>\n",
       "      <td>NaN</td>\n",
       "      <td>test</td>\n",
       "      <td>19</td>\n",
       "      <td>0</td>\n",
       "      <td>0</td>\n",
       "      <td>0</td>\n",
       "      <td>0</td>\n",
       "      <td>0</td>\n",
       "      <td>1</td>\n",
       "      <td>0</td>\n",
       "      <td>0</td>\n",
       "      <td>0</td>\n",
       "      <td>0</td>\n",
       "      <td>0</td>\n",
       "      <td>0</td>\n",
       "      <td>0</td>\n",
       "      <td>0</td>\n",
       "      <td>0</td>\n",
       "      <td>0</td>\n",
       "      <td>1</td>\n",
       "      <td>0</td>\n",
       "    </tr>\n",
       "    <tr>\n",
       "      <th>3</th>\n",
       "      <td>EQV63</td>\n",
       "      <td>18.300</td>\n",
       "      <td>Area010</td>\n",
       "      <td>135.3730</td>\n",
       "      <td>mild</td>\n",
       "      <td>0.100388</td>\n",
       "      <td>Tier 3</td>\n",
       "      <td>Unknown</td>\n",
       "      <td>NaN</td>\n",
       "      <td>test</td>\n",
       "      <td>23</td>\n",
       "      <td>0</td>\n",
       "      <td>0</td>\n",
       "      <td>0</td>\n",
       "      <td>0</td>\n",
       "      <td>0</td>\n",
       "      <td>0</td>\n",
       "      <td>0</td>\n",
       "      <td>0</td>\n",
       "      <td>0</td>\n",
       "      <td>0</td>\n",
       "      <td>0</td>\n",
       "      <td>0</td>\n",
       "      <td>0</td>\n",
       "      <td>0</td>\n",
       "      <td>1</td>\n",
       "      <td>0</td>\n",
       "      <td>0</td>\n",
       "      <td>1</td>\n",
       "    </tr>\n",
       "    <tr>\n",
       "      <th>4</th>\n",
       "      <td>AIR10</td>\n",
       "      <td>14.115</td>\n",
       "      <td>Area019</td>\n",
       "      <td>112.8016</td>\n",
       "      <td>mild</td>\n",
       "      <td>0.022585</td>\n",
       "      <td>Tier 1</td>\n",
       "      <td>Small</td>\n",
       "      <td>NaN</td>\n",
       "      <td>test</td>\n",
       "      <td>36</td>\n",
       "      <td>0</td>\n",
       "      <td>0</td>\n",
       "      <td>0</td>\n",
       "      <td>0</td>\n",
       "      <td>0</td>\n",
       "      <td>0</td>\n",
       "      <td>0</td>\n",
       "      <td>0</td>\n",
       "      <td>0</td>\n",
       "      <td>0</td>\n",
       "      <td>0</td>\n",
       "      <td>1</td>\n",
       "      <td>0</td>\n",
       "      <td>0</td>\n",
       "      <td>0</td>\n",
       "      <td>0</td>\n",
       "      <td>0</td>\n",
       "      <td>1</td>\n",
       "    </tr>\n",
       "  </tbody>\n",
       "</table>\n",
       "</div>"
      ],
      "text/plain": [
       "  medicine_id  counterfeit_weight distarea_id  medicine_mrp sideffect_level  \\\n",
       "0       HLZ81              14.115     Area027       85.5328            mild   \n",
       "1       ECE94              13.450     Area045      257.1460            mild   \n",
       "2       SAD14               7.100     Area045       98.1172            mild   \n",
       "3       EQV63              18.300     Area010      135.3730            mild   \n",
       "4       AIR10              14.115     Area019      112.8016            mild   \n",
       "\n",
       "   availability_rating area_city_type area_dist_level  counterfeit_sales  \\\n",
       "0             0.112747         Tier 3          Medium                NaN   \n",
       "1             0.144446         Tier 2         Unknown                NaN   \n",
       "2             0.144221         Tier 2         Unknown                NaN   \n",
       "3             0.100388         Tier 3         Unknown                NaN   \n",
       "4             0.022585         Tier 1           Small                NaN   \n",
       "\n",
       "   data  period_active  Analgesics  Antacids  Antibiotics  Antifungal  \\\n",
       "0  test             36           0         0            1           0   \n",
       "1  test             19           0         0            0           0   \n",
       "2  test             19           0         0            0           0   \n",
       "3  test             23           0         0            0           0   \n",
       "4  test             36           0         0            0           0   \n",
       "\n",
       "   Antimalarial  Antipyretics  Antiseptics  Cardiac  Hreplacements  \\\n",
       "0             0             0            0        0              0   \n",
       "1             0             0            0        0              0   \n",
       "2             0             1            0        0              0   \n",
       "3             0             0            0        0              0   \n",
       "4             0             0            0        0              0   \n",
       "\n",
       "   Mstablizers  MuscleRelaxants  OralContraceptives  Statins  Stimulants  \\\n",
       "0            0                0                   0        0           0   \n",
       "1            0                0                   1        0           0   \n",
       "2            0                0                   0        0           0   \n",
       "3            0                0                   0        0           0   \n",
       "4            0                0                   1        0           0   \n",
       "\n",
       "   Tranquilizers  CityLimits  DownTown  MidTownResidential  \n",
       "0              0           1         0                   0  \n",
       "1              0           0         1                   0  \n",
       "2              0           0         1                   0  \n",
       "3              1           0         0                   1  \n",
       "4              0           0         0                   1  "
      ]
     },
     "execution_count": 1024,
     "metadata": {},
     "output_type": "execute_result"
    }
   ],
   "source": [
    "pd.set_option('display.max_columns', 50)\n",
    "all_data.head()"
   ]
  },
  {
   "cell_type": "code",
   "execution_count": 1025,
   "metadata": {},
   "outputs": [
    {
     "data": {
      "text/plain": [
       "mild        5517\n",
       "critical    3006\n",
       "Name: sideffect_level, dtype: int64"
      ]
     },
     "execution_count": 1025,
     "metadata": {},
     "output_type": "execute_result"
    }
   ],
   "source": [
    "#create dummy for sideffect level columns of data frame\n",
    "all_data['sideffect_level'].value_counts()"
   ]
  },
  {
   "cell_type": "code",
   "execution_count": 1026,
   "metadata": {
    "collapsed": true
   },
   "outputs": [],
   "source": [
    "#create dummy of sideffect column\n",
    "all_data['sideffect_mc'] = np.where(all_data['sideffect_level'] == 'mild',1,0)\n",
    "all_data = all_data.drop(['sideffect_level'], 1)"
   ]
  },
  {
   "cell_type": "code",
   "execution_count": 1027,
   "metadata": {},
   "outputs": [
    {
     "data": {
      "text/plain": [
       "Tier 3    3350\n",
       "Tier 2    2785\n",
       "Tier 1    2388\n",
       "Name: area_city_type, dtype: int64"
      ]
     },
     "execution_count": 1027,
     "metadata": {},
     "output_type": "execute_result"
    }
   ],
   "source": [
    "all_data['area_city_type'].value_counts()"
   ]
  },
  {
   "cell_type": "code",
   "execution_count": 1028,
   "metadata": {
    "collapsed": true
   },
   "outputs": [],
   "source": [
    "#create dummy for area city type\n",
    "actype_dummy = all_data['area_city_type'].str.get_dummies()\n"
   ]
  },
  {
   "cell_type": "code",
   "execution_count": 1029,
   "metadata": {
    "collapsed": true
   },
   "outputs": [],
   "source": [
    "#concat dummy with data frame and drop Tier one\n",
    "all_data = pd.concat([all_data, actype_dummy],1)\n",
    "all_data = all_data.drop(['Tier 1','area_city_type'], 1)"
   ]
  },
  {
   "cell_type": "code",
   "execution_count": 1030,
   "metadata": {},
   "outputs": [
    {
     "data": {
      "text/plain": [
       "Area027    935\n",
       "Area013    932\n",
       "Area049    930\n",
       "Area046    930\n",
       "Area035    930\n",
       "Area045    929\n",
       "Area018    928\n",
       "Area017    926\n",
       "Area010    555\n",
       "Area019    528\n",
       "Name: distarea_id, dtype: int64"
      ]
     },
     "execution_count": 1030,
     "metadata": {},
     "output_type": "execute_result"
    }
   ],
   "source": [
    "all_data['distarea_id'].value_counts()"
   ]
  },
  {
   "cell_type": "code",
   "execution_count": 1031,
   "metadata": {
    "collapsed": true
   },
   "outputs": [],
   "source": [
    "# create dumy for district area id drop area019 and concatenate with data frame accordingly\n",
    "distarea_dummy =  all_data['distarea_id'].str.get_dummies()\n"
   ]
  },
  {
   "cell_type": "code",
   "execution_count": 1032,
   "metadata": {
    "collapsed": true
   },
   "outputs": [],
   "source": [
    "all_data = pd.concat([all_data, distarea_dummy],1)\n",
    "all_data = all_data.drop(['Area019', 'distarea_id'],1)"
   ]
  },
  {
   "cell_type": "code",
   "execution_count": 1033,
   "metadata": {},
   "outputs": [
    {
     "data": {
      "text/plain": [
       "Medium     2793\n",
       "Unknown    2410\n",
       "Small      2388\n",
       "High        932\n",
       "Name: area_dist_level, dtype: int64"
      ]
     },
     "execution_count": 1033,
     "metadata": {},
     "output_type": "execute_result"
    }
   ],
   "source": [
    "all_data['area_dist_level'].value_counts()"
   ]
  },
  {
   "cell_type": "code",
   "execution_count": 1034,
   "metadata": {
    "collapsed": true
   },
   "outputs": [],
   "source": [
    "#create dummy of area distance level\n",
    "ad_leve_dummy = all_data['area_dist_level'].str.get_dummies()\n"
   ]
  },
  {
   "cell_type": "code",
   "execution_count": 1035,
   "metadata": {
    "collapsed": true
   },
   "outputs": [],
   "source": [
    "#concatenate dummy with data frame and drop high area distance\n",
    "all_data = pd.concat([all_data, ad_leve_dummy],1)\n",
    "all_data = all_data.drop(['High', 'area_dist_level'],1)"
   ]
  },
  {
   "cell_type": "code",
   "execution_count": 1036,
   "metadata": {},
   "outputs": [
    {
     "data": {
      "text/plain": [
       "(8523, 40)"
      ]
     },
     "execution_count": 1036,
     "metadata": {},
     "output_type": "execute_result"
    }
   ],
   "source": [
    "#dimemsion of combined data\n",
    "all_data.shape"
   ]
  },
  {
   "cell_type": "markdown",
   "metadata": {
    "collapsed": true
   },
   "source": [
    "### Separate data into train and  test"
   ]
  },
  {
   "cell_type": "code",
   "execution_count": 1037,
   "metadata": {
    "collapsed": true
   },
   "outputs": [],
   "source": [
    "#separate train data set from data frame and delete useless columns\n",
    "counter_train = all_data[all_data['data'] == 'train']\n",
    "del counter_train['data']\n"
   ]
  },
  {
   "cell_type": "code",
   "execution_count": 1038,
   "metadata": {
    "scrolled": true
   },
   "outputs": [
    {
     "name": "stderr",
     "output_type": "stream",
     "text": [
      "/anaconda/lib/python3.6/site-packages/ipykernel_launcher.py:3: SettingWithCopyWarning: \n",
      "A value is trying to be set on a copy of a slice from a DataFrame\n",
      "\n",
      "See the caveats in the documentation: http://pandas.pydata.org/pandas-docs/stable/indexing.html#indexing-view-versus-copy\n",
      "  This is separate from the ipykernel package so we can avoid doing imports until\n"
     ]
    }
   ],
   "source": [
    "#separate test data from data frame and delete/drop useless columns\n",
    "counter_test = all_data[all_data['data'] == 'test']\n",
    "counter_test.drop(['data', 'counterfeit_sales'],axis = 1, inplace = True )\n",
    "\n"
   ]
  },
  {
   "cell_type": "code",
   "execution_count": 1039,
   "metadata": {},
   "outputs": [
    {
     "name": "stdout",
     "output_type": "stream",
     "text": [
      "Our training data set has 6818 rows and 39 columns\n",
      "Our testing data set has 1705 rows and 38 columns\n"
     ]
    }
   ],
   "source": [
    "#dimension of test and train data set\n",
    "print('Our training data set has {} rows and {} columns'.format(counter_train.shape[0],counter_train.shape[1]))\n",
    "print('Our testing data set has {} rows and {} columns'.format(counter_test.shape[0],counter_test.shape[1]))\n",
    "\n"
   ]
  },
  {
   "cell_type": "code",
   "execution_count": 1040,
   "metadata": {},
   "outputs": [
    {
     "name": "stdout",
     "output_type": "stream",
     "text": [
      "Are there missing values in test data set: False\n",
      "Are there missing values in train data set: False\n"
     ]
    }
   ],
   "source": [
    "#check for missing values in test and train\n",
    "print('Are there missing values in test data set:', counter_test.isnull().any().any())\n",
    "print('Are there missing values in train data set:',counter_train.isnull().any().any())"
   ]
  },
  {
   "cell_type": "markdown",
   "metadata": {},
   "source": [
    "### Feature Scaling and P.C.A\n",
    "In order to train our data on many algorithm as possible and subsequently evaluate performance  we would create three copies of our training and test data set as follows:\n",
    "* Training/testing data set that is scaled only\n",
    "* Training/testing data set that is scaled and P.C.A applied with a cumulative explained ratio of at least 80%\n",
    "* Training/testing data set free from the above operations"
   ]
  },
  {
   "cell_type": "markdown",
   "metadata": {},
   "source": [
    "##### scaled Training and Test data set "
   ]
  },
  {
   "cell_type": "code",
   "execution_count": 1041,
   "metadata": {
    "collapsed": true
   },
   "outputs": [],
   "source": [
    "# before we proceed we would want to drop the medicine id from both data set as it does not have a predictive value\n",
    "#we would also remove the target variable from the train set\n",
    "sales_figures = counter_train[['counterfeit_sales']]\n",
    "train_counter_w_o_spca = counter_train.drop(['medicine_id','counterfeit_sales'],axis =1)\n",
    "test_counter_w_o_spca = counter_test.drop(['medicine_id'],axis =1)"
   ]
  },
  {
   "cell_type": "code",
   "execution_count": 1042,
   "metadata": {},
   "outputs": [
    {
     "data": {
      "text/html": [
       "<div>\n",
       "<style>\n",
       "    .dataframe thead tr:only-child th {\n",
       "        text-align: right;\n",
       "    }\n",
       "\n",
       "    .dataframe thead th {\n",
       "        text-align: left;\n",
       "    }\n",
       "\n",
       "    .dataframe tbody tr th {\n",
       "        vertical-align: top;\n",
       "    }\n",
       "</style>\n",
       "<table border=\"1\" class=\"dataframe\">\n",
       "  <thead>\n",
       "    <tr style=\"text-align: right;\">\n",
       "      <th></th>\n",
       "      <th>counterfeit_weight</th>\n",
       "      <th>medicine_mrp</th>\n",
       "      <th>availability_rating</th>\n",
       "      <th>period_active</th>\n",
       "      <th>Analgesics</th>\n",
       "      <th>Antacids</th>\n",
       "      <th>Antibiotics</th>\n",
       "      <th>Antifungal</th>\n",
       "      <th>Antimalarial</th>\n",
       "      <th>Antipyretics</th>\n",
       "      <th>Antiseptics</th>\n",
       "      <th>Cardiac</th>\n",
       "      <th>Hreplacements</th>\n",
       "      <th>Mstablizers</th>\n",
       "      <th>MuscleRelaxants</th>\n",
       "      <th>OralContraceptives</th>\n",
       "      <th>Statins</th>\n",
       "      <th>Stimulants</th>\n",
       "      <th>Tranquilizers</th>\n",
       "      <th>CityLimits</th>\n",
       "      <th>DownTown</th>\n",
       "      <th>MidTownResidential</th>\n",
       "      <th>sideffect_mc</th>\n",
       "      <th>Tier 2</th>\n",
       "      <th>Tier 3</th>\n",
       "      <th>Area010</th>\n",
       "      <th>Area013</th>\n",
       "      <th>Area017</th>\n",
       "      <th>Area018</th>\n",
       "      <th>Area027</th>\n",
       "      <th>Area035</th>\n",
       "      <th>Area045</th>\n",
       "      <th>Area046</th>\n",
       "      <th>Area049</th>\n",
       "      <th>Medium</th>\n",
       "      <th>Small</th>\n",
       "      <th>Unknown</th>\n",
       "    </tr>\n",
       "  </thead>\n",
       "  <tbody>\n",
       "    <tr>\n",
       "      <th>0</th>\n",
       "      <td>13.100</td>\n",
       "      <td>160.2366</td>\n",
       "      <td>0.070422</td>\n",
       "      <td>24</td>\n",
       "      <td>0</td>\n",
       "      <td>0</td>\n",
       "      <td>0</td>\n",
       "      <td>0</td>\n",
       "      <td>1</td>\n",
       "      <td>0</td>\n",
       "      <td>0</td>\n",
       "      <td>0</td>\n",
       "      <td>0</td>\n",
       "      <td>0</td>\n",
       "      <td>0</td>\n",
       "      <td>0</td>\n",
       "      <td>0</td>\n",
       "      <td>0</td>\n",
       "      <td>0</td>\n",
       "      <td>0</td>\n",
       "      <td>1</td>\n",
       "      <td>0</td>\n",
       "      <td>0</td>\n",
       "      <td>0</td>\n",
       "      <td>0</td>\n",
       "      <td>0</td>\n",
       "      <td>0</td>\n",
       "      <td>0</td>\n",
       "      <td>0</td>\n",
       "      <td>0</td>\n",
       "      <td>0</td>\n",
       "      <td>0</td>\n",
       "      <td>1</td>\n",
       "      <td>0</td>\n",
       "      <td>0</td>\n",
       "      <td>1</td>\n",
       "      <td>0</td>\n",
       "    </tr>\n",
       "    <tr>\n",
       "      <th>1</th>\n",
       "      <td>14.115</td>\n",
       "      <td>110.4384</td>\n",
       "      <td>0.013000</td>\n",
       "      <td>36</td>\n",
       "      <td>0</td>\n",
       "      <td>0</td>\n",
       "      <td>0</td>\n",
       "      <td>0</td>\n",
       "      <td>0</td>\n",
       "      <td>0</td>\n",
       "      <td>0</td>\n",
       "      <td>0</td>\n",
       "      <td>0</td>\n",
       "      <td>1</td>\n",
       "      <td>0</td>\n",
       "      <td>0</td>\n",
       "      <td>0</td>\n",
       "      <td>0</td>\n",
       "      <td>0</td>\n",
       "      <td>1</td>\n",
       "      <td>0</td>\n",
       "      <td>0</td>\n",
       "      <td>1</td>\n",
       "      <td>0</td>\n",
       "      <td>1</td>\n",
       "      <td>0</td>\n",
       "      <td>0</td>\n",
       "      <td>0</td>\n",
       "      <td>0</td>\n",
       "      <td>1</td>\n",
       "      <td>0</td>\n",
       "      <td>0</td>\n",
       "      <td>0</td>\n",
       "      <td>0</td>\n",
       "      <td>1</td>\n",
       "      <td>0</td>\n",
       "      <td>0</td>\n",
       "    </tr>\n",
       "  </tbody>\n",
       "</table>\n",
       "</div>"
      ],
      "text/plain": [
       "   counterfeit_weight  medicine_mrp  availability_rating  period_active  \\\n",
       "0              13.100      160.2366             0.070422             24   \n",
       "1              14.115      110.4384             0.013000             36   \n",
       "\n",
       "   Analgesics  Antacids  Antibiotics  Antifungal  Antimalarial  Antipyretics  \\\n",
       "0           0         0            0           0             1             0   \n",
       "1           0         0            0           0             0             0   \n",
       "\n",
       "   Antiseptics  Cardiac  Hreplacements  Mstablizers  MuscleRelaxants  \\\n",
       "0            0        0              0            0                0   \n",
       "1            0        0              0            1                0   \n",
       "\n",
       "   OralContraceptives  Statins  Stimulants  Tranquilizers  CityLimits  \\\n",
       "0                   0        0           0              0           0   \n",
       "1                   0        0           0              0           1   \n",
       "\n",
       "   DownTown  MidTownResidential  sideffect_mc  Tier 2  Tier 3  Area010  \\\n",
       "0         1                   0             0       0       0        0   \n",
       "1         0                   0             1       0       1        0   \n",
       "\n",
       "   Area013  Area017  Area018  Area027  Area035  Area045  Area046  Area049  \\\n",
       "0        0        0        0        0        0        0        1        0   \n",
       "1        0        0        0        1        0        0        0        0   \n",
       "\n",
       "   Medium  Small  Unknown  \n",
       "0       0      1        0  \n",
       "1       1      0        0  "
      ]
     },
     "execution_count": 1042,
     "metadata": {},
     "output_type": "execute_result"
    }
   ],
   "source": [
    "train_counter_w_o_spca.head(2)"
   ]
  },
  {
   "cell_type": "code",
   "execution_count": 1043,
   "metadata": {},
   "outputs": [
    {
     "data": {
      "text/html": [
       "<div>\n",
       "<style>\n",
       "    .dataframe thead tr:only-child th {\n",
       "        text-align: right;\n",
       "    }\n",
       "\n",
       "    .dataframe thead th {\n",
       "        text-align: left;\n",
       "    }\n",
       "\n",
       "    .dataframe tbody tr th {\n",
       "        vertical-align: top;\n",
       "    }\n",
       "</style>\n",
       "<table border=\"1\" class=\"dataframe\">\n",
       "  <thead>\n",
       "    <tr style=\"text-align: right;\">\n",
       "      <th></th>\n",
       "      <th>counterfeit_weight</th>\n",
       "      <th>medicine_mrp</th>\n",
       "      <th>availability_rating</th>\n",
       "      <th>period_active</th>\n",
       "      <th>Analgesics</th>\n",
       "      <th>Antacids</th>\n",
       "      <th>Antibiotics</th>\n",
       "      <th>Antifungal</th>\n",
       "      <th>Antimalarial</th>\n",
       "      <th>Antipyretics</th>\n",
       "      <th>Antiseptics</th>\n",
       "      <th>Cardiac</th>\n",
       "      <th>Hreplacements</th>\n",
       "      <th>Mstablizers</th>\n",
       "      <th>MuscleRelaxants</th>\n",
       "      <th>OralContraceptives</th>\n",
       "      <th>Statins</th>\n",
       "      <th>Stimulants</th>\n",
       "      <th>Tranquilizers</th>\n",
       "      <th>CityLimits</th>\n",
       "      <th>DownTown</th>\n",
       "      <th>MidTownResidential</th>\n",
       "      <th>sideffect_mc</th>\n",
       "      <th>Tier 2</th>\n",
       "      <th>Tier 3</th>\n",
       "      <th>Area010</th>\n",
       "      <th>Area013</th>\n",
       "      <th>Area017</th>\n",
       "      <th>Area018</th>\n",
       "      <th>Area027</th>\n",
       "      <th>Area035</th>\n",
       "      <th>Area045</th>\n",
       "      <th>Area046</th>\n",
       "      <th>Area049</th>\n",
       "      <th>Medium</th>\n",
       "      <th>Small</th>\n",
       "      <th>Unknown</th>\n",
       "    </tr>\n",
       "  </thead>\n",
       "  <tbody>\n",
       "    <tr>\n",
       "      <th>0</th>\n",
       "      <td>14.115</td>\n",
       "      <td>85.5328</td>\n",
       "      <td>0.112747</td>\n",
       "      <td>36</td>\n",
       "      <td>0</td>\n",
       "      <td>0</td>\n",
       "      <td>1</td>\n",
       "      <td>0</td>\n",
       "      <td>0</td>\n",
       "      <td>0</td>\n",
       "      <td>0</td>\n",
       "      <td>0</td>\n",
       "      <td>0</td>\n",
       "      <td>0</td>\n",
       "      <td>0</td>\n",
       "      <td>0</td>\n",
       "      <td>0</td>\n",
       "      <td>0</td>\n",
       "      <td>0</td>\n",
       "      <td>1</td>\n",
       "      <td>0</td>\n",
       "      <td>0</td>\n",
       "      <td>1</td>\n",
       "      <td>0</td>\n",
       "      <td>1</td>\n",
       "      <td>0</td>\n",
       "      <td>0</td>\n",
       "      <td>0</td>\n",
       "      <td>0</td>\n",
       "      <td>1</td>\n",
       "      <td>0</td>\n",
       "      <td>0</td>\n",
       "      <td>0</td>\n",
       "      <td>0</td>\n",
       "      <td>1</td>\n",
       "      <td>0</td>\n",
       "      <td>0</td>\n",
       "    </tr>\n",
       "    <tr>\n",
       "      <th>1</th>\n",
       "      <td>13.450</td>\n",
       "      <td>257.1460</td>\n",
       "      <td>0.144446</td>\n",
       "      <td>19</td>\n",
       "      <td>0</td>\n",
       "      <td>0</td>\n",
       "      <td>0</td>\n",
       "      <td>0</td>\n",
       "      <td>0</td>\n",
       "      <td>0</td>\n",
       "      <td>0</td>\n",
       "      <td>0</td>\n",
       "      <td>0</td>\n",
       "      <td>0</td>\n",
       "      <td>0</td>\n",
       "      <td>1</td>\n",
       "      <td>0</td>\n",
       "      <td>0</td>\n",
       "      <td>0</td>\n",
       "      <td>0</td>\n",
       "      <td>1</td>\n",
       "      <td>0</td>\n",
       "      <td>1</td>\n",
       "      <td>1</td>\n",
       "      <td>0</td>\n",
       "      <td>0</td>\n",
       "      <td>0</td>\n",
       "      <td>0</td>\n",
       "      <td>0</td>\n",
       "      <td>0</td>\n",
       "      <td>0</td>\n",
       "      <td>1</td>\n",
       "      <td>0</td>\n",
       "      <td>0</td>\n",
       "      <td>0</td>\n",
       "      <td>0</td>\n",
       "      <td>1</td>\n",
       "    </tr>\n",
       "  </tbody>\n",
       "</table>\n",
       "</div>"
      ],
      "text/plain": [
       "   counterfeit_weight  medicine_mrp  availability_rating  period_active  \\\n",
       "0              14.115       85.5328             0.112747             36   \n",
       "1              13.450      257.1460             0.144446             19   \n",
       "\n",
       "   Analgesics  Antacids  Antibiotics  Antifungal  Antimalarial  Antipyretics  \\\n",
       "0           0         0            1           0             0             0   \n",
       "1           0         0            0           0             0             0   \n",
       "\n",
       "   Antiseptics  Cardiac  Hreplacements  Mstablizers  MuscleRelaxants  \\\n",
       "0            0        0              0            0                0   \n",
       "1            0        0              0            0                0   \n",
       "\n",
       "   OralContraceptives  Statins  Stimulants  Tranquilizers  CityLimits  \\\n",
       "0                   0        0           0              0           1   \n",
       "1                   1        0           0              0           0   \n",
       "\n",
       "   DownTown  MidTownResidential  sideffect_mc  Tier 2  Tier 3  Area010  \\\n",
       "0         0                   0             1       0       1        0   \n",
       "1         1                   0             1       1       0        0   \n",
       "\n",
       "   Area013  Area017  Area018  Area027  Area035  Area045  Area046  Area049  \\\n",
       "0        0        0        0        1        0        0        0        0   \n",
       "1        0        0        0        0        0        1        0        0   \n",
       "\n",
       "   Medium  Small  Unknown  \n",
       "0       1      0        0  \n",
       "1       0      0        1  "
      ]
     },
     "execution_count": 1043,
     "metadata": {},
     "output_type": "execute_result"
    }
   ],
   "source": [
    "test_counter_w_o_spca.head(2)"
   ]
  },
  {
   "cell_type": "code",
   "execution_count": 1044,
   "metadata": {},
   "outputs": [
    {
     "data": {
      "text/html": [
       "<div>\n",
       "<style>\n",
       "    .dataframe thead tr:only-child th {\n",
       "        text-align: right;\n",
       "    }\n",
       "\n",
       "    .dataframe thead th {\n",
       "        text-align: left;\n",
       "    }\n",
       "\n",
       "    .dataframe tbody tr th {\n",
       "        vertical-align: top;\n",
       "    }\n",
       "</style>\n",
       "<table border=\"1\" class=\"dataframe\">\n",
       "  <thead>\n",
       "    <tr style=\"text-align: right;\">\n",
       "      <th></th>\n",
       "      <th>counterfeit_sales</th>\n",
       "    </tr>\n",
       "  </thead>\n",
       "  <tbody>\n",
       "    <tr>\n",
       "      <th>0</th>\n",
       "      <td>1775.5026</td>\n",
       "    </tr>\n",
       "    <tr>\n",
       "      <th>1</th>\n",
       "      <td>3069.1520</td>\n",
       "    </tr>\n",
       "  </tbody>\n",
       "</table>\n",
       "</div>"
      ],
      "text/plain": [
       "   counterfeit_sales\n",
       "0          1775.5026\n",
       "1          3069.1520"
      ]
     },
     "execution_count": 1044,
     "metadata": {},
     "output_type": "execute_result"
    }
   ],
   "source": [
    "sales_figures.head(2)"
   ]
  },
  {
   "cell_type": "code",
   "execution_count": 1045,
   "metadata": {},
   "outputs": [
    {
     "data": {
      "text/plain": [
       "((6818, 37), (1705, 37))"
      ]
     },
     "execution_count": 1045,
     "metadata": {},
     "output_type": "execute_result"
    }
   ],
   "source": [
    "train_counter_w_o_spca.shape, test_counter_w_o_spca.shape"
   ]
  },
  {
   "cell_type": "code",
   "execution_count": 1046,
   "metadata": {
    "collapsed": true
   },
   "outputs": [],
   "source": [
    "#scaled train and test data frame\n",
    "scaled_counter_train = pd.DataFrame(StandardScaler().fit_transform(train_counter_w_o_spca), columns=train_counter_w_o_spca.columns)\n",
    "scaled_counter_test = pd.DataFrame(StandardScaler().fit_transform(test_counter_w_o_spca),columns=test_counter_w_o_spca.columns)"
   ]
  },
  {
   "cell_type": "code",
   "execution_count": 1047,
   "metadata": {},
   "outputs": [
    {
     "data": {
      "text/html": [
       "<div>\n",
       "<style>\n",
       "    .dataframe thead tr:only-child th {\n",
       "        text-align: right;\n",
       "    }\n",
       "\n",
       "    .dataframe thead th {\n",
       "        text-align: left;\n",
       "    }\n",
       "\n",
       "    .dataframe tbody tr th {\n",
       "        vertical-align: top;\n",
       "    }\n",
       "</style>\n",
       "<table border=\"1\" class=\"dataframe\">\n",
       "  <thead>\n",
       "    <tr style=\"text-align: right;\">\n",
       "      <th></th>\n",
       "      <th>counterfeit_weight</th>\n",
       "      <th>medicine_mrp</th>\n",
       "      <th>availability_rating</th>\n",
       "      <th>period_active</th>\n",
       "      <th>Analgesics</th>\n",
       "      <th>Antacids</th>\n",
       "      <th>Antibiotics</th>\n",
       "      <th>Antifungal</th>\n",
       "      <th>Antimalarial</th>\n",
       "      <th>Antipyretics</th>\n",
       "      <th>Antiseptics</th>\n",
       "      <th>Cardiac</th>\n",
       "      <th>Hreplacements</th>\n",
       "      <th>Mstablizers</th>\n",
       "      <th>MuscleRelaxants</th>\n",
       "      <th>OralContraceptives</th>\n",
       "      <th>Statins</th>\n",
       "      <th>Stimulants</th>\n",
       "      <th>Tranquilizers</th>\n",
       "      <th>CityLimits</th>\n",
       "      <th>DownTown</th>\n",
       "      <th>MidTownResidential</th>\n",
       "      <th>sideffect_mc</th>\n",
       "      <th>Tier 2</th>\n",
       "      <th>Tier 3</th>\n",
       "      <th>Area010</th>\n",
       "      <th>Area013</th>\n",
       "      <th>Area017</th>\n",
       "      <th>Area018</th>\n",
       "      <th>Area027</th>\n",
       "      <th>Area035</th>\n",
       "      <th>Area045</th>\n",
       "      <th>Area046</th>\n",
       "      <th>Area049</th>\n",
       "      <th>Medium</th>\n",
       "      <th>Small</th>\n",
       "      <th>Unknown</th>\n",
       "    </tr>\n",
       "  </thead>\n",
       "  <tbody>\n",
       "    <tr>\n",
       "      <th>0</th>\n",
       "      <td>-0.239789</td>\n",
       "      <td>0.142044</td>\n",
       "      <td>-0.170030</td>\n",
       "      <td>0.099938</td>\n",
       "      <td>-0.234715</td>\n",
       "      <td>-0.176509</td>\n",
       "      <td>-0.40727</td>\n",
       "      <td>-0.128646</td>\n",
       "      <td>4.371738</td>\n",
       "      <td>-0.292101</td>\n",
       "      <td>-0.344682</td>\n",
       "      <td>-0.287941</td>\n",
       "      <td>-0.408737</td>\n",
       "      <td>-0.285544</td>\n",
       "      <td>-0.144262</td>\n",
       "      <td>-0.336637</td>\n",
       "      <td>-0.158458</td>\n",
       "      <td>-0.118872</td>\n",
       "      <td>-0.256214</td>\n",
       "      <td>-0.347604</td>\n",
       "      <td>0.722174</td>\n",
       "      <td>-0.383205</td>\n",
       "      <td>-1.363781</td>\n",
       "      <td>-0.700428</td>\n",
       "      <td>-0.798600</td>\n",
       "      <td>-0.263292</td>\n",
       "      <td>-0.351303</td>\n",
       "      <td>-0.354195</td>\n",
       "      <td>-0.346012</td>\n",
       "      <td>-0.347604</td>\n",
       "      <td>-0.35104</td>\n",
       "      <td>-0.347869</td>\n",
       "      <td>2.846542</td>\n",
       "      <td>-0.348663</td>\n",
       "      <td>-0.690910</td>\n",
       "      <td>1.592579</td>\n",
       "      <td>-0.630183</td>\n",
       "    </tr>\n",
       "    <tr>\n",
       "      <th>1</th>\n",
       "      <td>-0.000011</td>\n",
       "      <td>-0.658577</td>\n",
       "      <td>-1.285498</td>\n",
       "      <td>1.533910</td>\n",
       "      <td>-0.234715</td>\n",
       "      <td>-0.176509</td>\n",
       "      <td>-0.40727</td>\n",
       "      <td>-0.128646</td>\n",
       "      <td>-0.228742</td>\n",
       "      <td>-0.292101</td>\n",
       "      <td>-0.344682</td>\n",
       "      <td>-0.287941</td>\n",
       "      <td>-0.408737</td>\n",
       "      <td>3.502084</td>\n",
       "      <td>-0.144262</td>\n",
       "      <td>-0.336637</td>\n",
       "      <td>-0.158458</td>\n",
       "      <td>-0.118872</td>\n",
       "      <td>-0.256214</td>\n",
       "      <td>2.876837</td>\n",
       "      <td>-1.384708</td>\n",
       "      <td>-0.383205</td>\n",
       "      <td>0.733255</td>\n",
       "      <td>-0.700428</td>\n",
       "      <td>1.252192</td>\n",
       "      <td>-0.263292</td>\n",
       "      <td>-0.351303</td>\n",
       "      <td>-0.354195</td>\n",
       "      <td>-0.346012</td>\n",
       "      <td>2.876837</td>\n",
       "      <td>-0.35104</td>\n",
       "      <td>-0.347869</td>\n",
       "      <td>-0.351303</td>\n",
       "      <td>-0.348663</td>\n",
       "      <td>1.447367</td>\n",
       "      <td>-0.627912</td>\n",
       "      <td>-0.630183</td>\n",
       "    </tr>\n",
       "    <tr>\n",
       "      <th>2</th>\n",
       "      <td>-1.202446</td>\n",
       "      <td>1.736475</td>\n",
       "      <td>-0.357270</td>\n",
       "      <td>0.099938</td>\n",
       "      <td>-0.234715</td>\n",
       "      <td>-0.176509</td>\n",
       "      <td>-0.40727</td>\n",
       "      <td>-0.128646</td>\n",
       "      <td>-0.228742</td>\n",
       "      <td>-0.292101</td>\n",
       "      <td>-0.344682</td>\n",
       "      <td>3.472939</td>\n",
       "      <td>-0.408737</td>\n",
       "      <td>-0.285544</td>\n",
       "      <td>-0.144262</td>\n",
       "      <td>-0.336637</td>\n",
       "      <td>-0.158458</td>\n",
       "      <td>-0.118872</td>\n",
       "      <td>-0.256214</td>\n",
       "      <td>-0.347604</td>\n",
       "      <td>0.722174</td>\n",
       "      <td>-0.383205</td>\n",
       "      <td>0.733255</td>\n",
       "      <td>-0.700428</td>\n",
       "      <td>-0.798600</td>\n",
       "      <td>-0.263292</td>\n",
       "      <td>-0.351303</td>\n",
       "      <td>-0.354195</td>\n",
       "      <td>-0.346012</td>\n",
       "      <td>-0.347604</td>\n",
       "      <td>-0.35104</td>\n",
       "      <td>-0.347869</td>\n",
       "      <td>2.846542</td>\n",
       "      <td>-0.348663</td>\n",
       "      <td>-0.690910</td>\n",
       "      <td>1.592579</td>\n",
       "      <td>-0.630183</td>\n",
       "    </tr>\n",
       "    <tr>\n",
       "      <th>3</th>\n",
       "      <td>-0.546895</td>\n",
       "      <td>-0.826672</td>\n",
       "      <td>-0.264562</td>\n",
       "      <td>0.099938</td>\n",
       "      <td>-0.234715</td>\n",
       "      <td>-0.176509</td>\n",
       "      <td>-0.40727</td>\n",
       "      <td>-0.128646</td>\n",
       "      <td>-0.228742</td>\n",
       "      <td>-0.292101</td>\n",
       "      <td>-0.344682</td>\n",
       "      <td>-0.287941</td>\n",
       "      <td>-0.408737</td>\n",
       "      <td>-0.285544</td>\n",
       "      <td>-0.144262</td>\n",
       "      <td>2.970557</td>\n",
       "      <td>-0.158458</td>\n",
       "      <td>-0.118872</td>\n",
       "      <td>-0.256214</td>\n",
       "      <td>-0.347604</td>\n",
       "      <td>0.722174</td>\n",
       "      <td>-0.383205</td>\n",
       "      <td>0.733255</td>\n",
       "      <td>-0.700428</td>\n",
       "      <td>-0.798600</td>\n",
       "      <td>-0.263292</td>\n",
       "      <td>-0.351303</td>\n",
       "      <td>-0.354195</td>\n",
       "      <td>-0.346012</td>\n",
       "      <td>-0.347604</td>\n",
       "      <td>-0.35104</td>\n",
       "      <td>-0.347869</td>\n",
       "      <td>2.846542</td>\n",
       "      <td>-0.348663</td>\n",
       "      <td>-0.690910</td>\n",
       "      <td>1.592579</td>\n",
       "      <td>-0.630183</td>\n",
       "    </tr>\n",
       "    <tr>\n",
       "      <th>4</th>\n",
       "      <td>-0.000011</td>\n",
       "      <td>-1.526724</td>\n",
       "      <td>3.296290</td>\n",
       "      <td>1.533910</td>\n",
       "      <td>-0.234715</td>\n",
       "      <td>-0.176509</td>\n",
       "      <td>-0.40727</td>\n",
       "      <td>-0.128646</td>\n",
       "      <td>-0.228742</td>\n",
       "      <td>-0.292101</td>\n",
       "      <td>-0.344682</td>\n",
       "      <td>-0.287941</td>\n",
       "      <td>2.446560</td>\n",
       "      <td>-0.285544</td>\n",
       "      <td>-0.144262</td>\n",
       "      <td>-0.336637</td>\n",
       "      <td>-0.158458</td>\n",
       "      <td>-0.118872</td>\n",
       "      <td>-0.256214</td>\n",
       "      <td>-0.347604</td>\n",
       "      <td>-1.384708</td>\n",
       "      <td>2.609569</td>\n",
       "      <td>-1.363781</td>\n",
       "      <td>-0.700428</td>\n",
       "      <td>-0.798600</td>\n",
       "      <td>-0.263292</td>\n",
       "      <td>-0.351303</td>\n",
       "      <td>-0.354195</td>\n",
       "      <td>-0.346012</td>\n",
       "      <td>-0.347604</td>\n",
       "      <td>-0.35104</td>\n",
       "      <td>-0.347869</td>\n",
       "      <td>-0.351303</td>\n",
       "      <td>-0.348663</td>\n",
       "      <td>-0.690910</td>\n",
       "      <td>1.592579</td>\n",
       "      <td>-0.630183</td>\n",
       "    </tr>\n",
       "  </tbody>\n",
       "</table>\n",
       "</div>"
      ],
      "text/plain": [
       "   counterfeit_weight  medicine_mrp  availability_rating  period_active  \\\n",
       "0           -0.239789      0.142044            -0.170030       0.099938   \n",
       "1           -0.000011     -0.658577            -1.285498       1.533910   \n",
       "2           -1.202446      1.736475            -0.357270       0.099938   \n",
       "3           -0.546895     -0.826672            -0.264562       0.099938   \n",
       "4           -0.000011     -1.526724             3.296290       1.533910   \n",
       "\n",
       "   Analgesics  Antacids  Antibiotics  Antifungal  Antimalarial  Antipyretics  \\\n",
       "0   -0.234715 -0.176509     -0.40727   -0.128646      4.371738     -0.292101   \n",
       "1   -0.234715 -0.176509     -0.40727   -0.128646     -0.228742     -0.292101   \n",
       "2   -0.234715 -0.176509     -0.40727   -0.128646     -0.228742     -0.292101   \n",
       "3   -0.234715 -0.176509     -0.40727   -0.128646     -0.228742     -0.292101   \n",
       "4   -0.234715 -0.176509     -0.40727   -0.128646     -0.228742     -0.292101   \n",
       "\n",
       "   Antiseptics   Cardiac  Hreplacements  Mstablizers  MuscleRelaxants  \\\n",
       "0    -0.344682 -0.287941      -0.408737    -0.285544        -0.144262   \n",
       "1    -0.344682 -0.287941      -0.408737     3.502084        -0.144262   \n",
       "2    -0.344682  3.472939      -0.408737    -0.285544        -0.144262   \n",
       "3    -0.344682 -0.287941      -0.408737    -0.285544        -0.144262   \n",
       "4    -0.344682 -0.287941       2.446560    -0.285544        -0.144262   \n",
       "\n",
       "   OralContraceptives   Statins  Stimulants  Tranquilizers  CityLimits  \\\n",
       "0           -0.336637 -0.158458   -0.118872      -0.256214   -0.347604   \n",
       "1           -0.336637 -0.158458   -0.118872      -0.256214    2.876837   \n",
       "2           -0.336637 -0.158458   -0.118872      -0.256214   -0.347604   \n",
       "3            2.970557 -0.158458   -0.118872      -0.256214   -0.347604   \n",
       "4           -0.336637 -0.158458   -0.118872      -0.256214   -0.347604   \n",
       "\n",
       "   DownTown  MidTownResidential  sideffect_mc    Tier 2    Tier 3   Area010  \\\n",
       "0  0.722174           -0.383205     -1.363781 -0.700428 -0.798600 -0.263292   \n",
       "1 -1.384708           -0.383205      0.733255 -0.700428  1.252192 -0.263292   \n",
       "2  0.722174           -0.383205      0.733255 -0.700428 -0.798600 -0.263292   \n",
       "3  0.722174           -0.383205      0.733255 -0.700428 -0.798600 -0.263292   \n",
       "4 -1.384708            2.609569     -1.363781 -0.700428 -0.798600 -0.263292   \n",
       "\n",
       "    Area013   Area017   Area018   Area027  Area035   Area045   Area046  \\\n",
       "0 -0.351303 -0.354195 -0.346012 -0.347604 -0.35104 -0.347869  2.846542   \n",
       "1 -0.351303 -0.354195 -0.346012  2.876837 -0.35104 -0.347869 -0.351303   \n",
       "2 -0.351303 -0.354195 -0.346012 -0.347604 -0.35104 -0.347869  2.846542   \n",
       "3 -0.351303 -0.354195 -0.346012 -0.347604 -0.35104 -0.347869  2.846542   \n",
       "4 -0.351303 -0.354195 -0.346012 -0.347604 -0.35104 -0.347869 -0.351303   \n",
       "\n",
       "    Area049    Medium     Small   Unknown  \n",
       "0 -0.348663 -0.690910  1.592579 -0.630183  \n",
       "1 -0.348663  1.447367 -0.627912 -0.630183  \n",
       "2 -0.348663 -0.690910  1.592579 -0.630183  \n",
       "3 -0.348663 -0.690910  1.592579 -0.630183  \n",
       "4 -0.348663 -0.690910  1.592579 -0.630183  "
      ]
     },
     "execution_count": 1047,
     "metadata": {},
     "output_type": "execute_result"
    }
   ],
   "source": [
    "#lets have a peak of our scled data frame\n",
    "scaled_counter_train.head()"
   ]
  },
  {
   "cell_type": "code",
   "execution_count": 1048,
   "metadata": {},
   "outputs": [
    {
     "data": {
      "text/html": [
       "<div>\n",
       "<style>\n",
       "    .dataframe thead tr:only-child th {\n",
       "        text-align: right;\n",
       "    }\n",
       "\n",
       "    .dataframe thead th {\n",
       "        text-align: left;\n",
       "    }\n",
       "\n",
       "    .dataframe tbody tr th {\n",
       "        vertical-align: top;\n",
       "    }\n",
       "</style>\n",
       "<table border=\"1\" class=\"dataframe\">\n",
       "  <thead>\n",
       "    <tr style=\"text-align: right;\">\n",
       "      <th></th>\n",
       "      <th>count</th>\n",
       "      <th>mean</th>\n",
       "      <th>std</th>\n",
       "      <th>min</th>\n",
       "      <th>25%</th>\n",
       "      <th>50%</th>\n",
       "      <th>75%</th>\n",
       "      <th>max</th>\n",
       "    </tr>\n",
       "  </thead>\n",
       "  <tbody>\n",
       "    <tr>\n",
       "      <th>counterfeit_weight</th>\n",
       "      <td>6818.0</td>\n",
       "      <td>-6.475378e-16</td>\n",
       "      <td>1.000073</td>\n",
       "      <td>-1.951311</td>\n",
       "      <td>-0.830377</td>\n",
       "      <td>-0.000011</td>\n",
       "      <td>0.752397</td>\n",
       "      <td>2.016253</td>\n",
       "    </tr>\n",
       "    <tr>\n",
       "      <th>medicine_mrp</th>\n",
       "      <td>6818.0</td>\n",
       "      <td>-8.445544e-17</td>\n",
       "      <td>1.000073</td>\n",
       "      <td>-1.762260</td>\n",
       "      <td>-0.753900</td>\n",
       "      <td>0.028846</td>\n",
       "      <td>0.719409</td>\n",
       "      <td>2.022317</td>\n",
       "    </tr>\n",
       "    <tr>\n",
       "      <th>availability_rating</th>\n",
       "      <td>6818.0</td>\n",
       "      <td>-2.551819e-16</td>\n",
       "      <td>1.000073</td>\n",
       "      <td>-1.285498</td>\n",
       "      <td>-0.759864</td>\n",
       "      <td>-0.237364</td>\n",
       "      <td>0.554070</td>\n",
       "      <td>5.093801</td>\n",
       "    </tr>\n",
       "    <tr>\n",
       "      <th>period_active</th>\n",
       "      <td>6818.0</td>\n",
       "      <td>-1.054207e-16</td>\n",
       "      <td>1.000073</td>\n",
       "      <td>-1.334034</td>\n",
       "      <td>-0.736546</td>\n",
       "      <td>-0.139058</td>\n",
       "      <td>1.294914</td>\n",
       "      <td>1.533910</td>\n",
       "    </tr>\n",
       "    <tr>\n",
       "      <th>Analgesics</th>\n",
       "      <td>6818.0</td>\n",
       "      <td>2.963227e-16</td>\n",
       "      <td>1.000073</td>\n",
       "      <td>-0.234715</td>\n",
       "      <td>-0.234715</td>\n",
       "      <td>-0.234715</td>\n",
       "      <td>-0.234715</td>\n",
       "      <td>4.260479</td>\n",
       "    </tr>\n",
       "    <tr>\n",
       "      <th>Antacids</th>\n",
       "      <td>6818.0</td>\n",
       "      <td>-7.310488e-16</td>\n",
       "      <td>1.000073</td>\n",
       "      <td>-0.176509</td>\n",
       "      <td>-0.176509</td>\n",
       "      <td>-0.176509</td>\n",
       "      <td>-0.176509</td>\n",
       "      <td>5.665429</td>\n",
       "    </tr>\n",
       "    <tr>\n",
       "      <th>Antibiotics</th>\n",
       "      <td>6818.0</td>\n",
       "      <td>-6.700745e-17</td>\n",
       "      <td>1.000073</td>\n",
       "      <td>-0.407270</td>\n",
       "      <td>-0.407270</td>\n",
       "      <td>-0.407270</td>\n",
       "      <td>-0.407270</td>\n",
       "      <td>2.455375</td>\n",
       "    </tr>\n",
       "    <tr>\n",
       "      <th>Antifungal</th>\n",
       "      <td>6818.0</td>\n",
       "      <td>2.370826e-16</td>\n",
       "      <td>1.000073</td>\n",
       "      <td>-0.128646</td>\n",
       "      <td>-0.128646</td>\n",
       "      <td>-0.128646</td>\n",
       "      <td>-0.128646</td>\n",
       "      <td>7.773251</td>\n",
       "    </tr>\n",
       "    <tr>\n",
       "      <th>Antimalarial</th>\n",
       "      <td>6818.0</td>\n",
       "      <td>-4.174898e-16</td>\n",
       "      <td>1.000073</td>\n",
       "      <td>-0.228742</td>\n",
       "      <td>-0.228742</td>\n",
       "      <td>-0.228742</td>\n",
       "      <td>-0.228742</td>\n",
       "      <td>4.371738</td>\n",
       "    </tr>\n",
       "    <tr>\n",
       "      <th>Antipyretics</th>\n",
       "      <td>6818.0</td>\n",
       "      <td>5.317118e-16</td>\n",
       "      <td>1.000073</td>\n",
       "      <td>-0.292101</td>\n",
       "      <td>-0.292101</td>\n",
       "      <td>-0.292101</td>\n",
       "      <td>-0.292101</td>\n",
       "      <td>3.423470</td>\n",
       "    </tr>\n",
       "    <tr>\n",
       "      <th>Antiseptics</th>\n",
       "      <td>6818.0</td>\n",
       "      <td>-7.202120e-16</td>\n",
       "      <td>1.000073</td>\n",
       "      <td>-0.344682</td>\n",
       "      <td>-0.344682</td>\n",
       "      <td>-0.344682</td>\n",
       "      <td>-0.344682</td>\n",
       "      <td>2.901229</td>\n",
       "    </tr>\n",
       "    <tr>\n",
       "      <th>Cardiac</th>\n",
       "      <td>6818.0</td>\n",
       "      <td>1.430035e-15</td>\n",
       "      <td>1.000073</td>\n",
       "      <td>-0.287941</td>\n",
       "      <td>-0.287941</td>\n",
       "      <td>-0.287941</td>\n",
       "      <td>-0.287941</td>\n",
       "      <td>3.472939</td>\n",
       "    </tr>\n",
       "    <tr>\n",
       "      <th>Hreplacements</th>\n",
       "      <td>6818.0</td>\n",
       "      <td>5.996149e-16</td>\n",
       "      <td>1.000073</td>\n",
       "      <td>-0.408737</td>\n",
       "      <td>-0.408737</td>\n",
       "      <td>-0.408737</td>\n",
       "      <td>-0.408737</td>\n",
       "      <td>2.446560</td>\n",
       "    </tr>\n",
       "    <tr>\n",
       "      <th>Mstablizers</th>\n",
       "      <td>6818.0</td>\n",
       "      <td>-3.507510e-16</td>\n",
       "      <td>1.000073</td>\n",
       "      <td>-0.285544</td>\n",
       "      <td>-0.285544</td>\n",
       "      <td>-0.285544</td>\n",
       "      <td>-0.285544</td>\n",
       "      <td>3.502084</td>\n",
       "    </tr>\n",
       "    <tr>\n",
       "      <th>MuscleRelaxants</th>\n",
       "      <td>6818.0</td>\n",
       "      <td>1.951114e-16</td>\n",
       "      <td>1.000073</td>\n",
       "      <td>-0.144262</td>\n",
       "      <td>-0.144262</td>\n",
       "      <td>-0.144262</td>\n",
       "      <td>-0.144262</td>\n",
       "      <td>6.931837</td>\n",
       "    </tr>\n",
       "    <tr>\n",
       "      <th>OralContraceptives</th>\n",
       "      <td>6818.0</td>\n",
       "      <td>-3.665136e-16</td>\n",
       "      <td>1.000073</td>\n",
       "      <td>-0.336637</td>\n",
       "      <td>-0.336637</td>\n",
       "      <td>-0.336637</td>\n",
       "      <td>-0.336637</td>\n",
       "      <td>2.970557</td>\n",
       "    </tr>\n",
       "    <tr>\n",
       "      <th>Statins</th>\n",
       "      <td>6818.0</td>\n",
       "      <td>-5.227110e-16</td>\n",
       "      <td>1.000073</td>\n",
       "      <td>-0.158458</td>\n",
       "      <td>-0.158458</td>\n",
       "      <td>-0.158458</td>\n",
       "      <td>-0.158458</td>\n",
       "      <td>6.310812</td>\n",
       "    </tr>\n",
       "    <tr>\n",
       "      <th>Stimulants</th>\n",
       "      <td>6818.0</td>\n",
       "      <td>-2.662345e-16</td>\n",
       "      <td>1.000073</td>\n",
       "      <td>-0.118872</td>\n",
       "      <td>-0.118872</td>\n",
       "      <td>-0.118872</td>\n",
       "      <td>-0.118872</td>\n",
       "      <td>8.412397</td>\n",
       "    </tr>\n",
       "    <tr>\n",
       "      <th>Tranquilizers</th>\n",
       "      <td>6818.0</td>\n",
       "      <td>3.934795e-16</td>\n",
       "      <td>1.000073</td>\n",
       "      <td>-0.256214</td>\n",
       "      <td>-0.256214</td>\n",
       "      <td>-0.256214</td>\n",
       "      <td>-0.256214</td>\n",
       "      <td>3.902990</td>\n",
       "    </tr>\n",
       "    <tr>\n",
       "      <th>CityLimits</th>\n",
       "      <td>6818.0</td>\n",
       "      <td>3.416321e-16</td>\n",
       "      <td>1.000073</td>\n",
       "      <td>-0.347604</td>\n",
       "      <td>-0.347604</td>\n",
       "      <td>-0.347604</td>\n",
       "      <td>-0.347604</td>\n",
       "      <td>2.876837</td>\n",
       "    </tr>\n",
       "    <tr>\n",
       "      <th>DownTown</th>\n",
       "      <td>6818.0</td>\n",
       "      <td>-6.888659e-16</td>\n",
       "      <td>1.000073</td>\n",
       "      <td>-1.384708</td>\n",
       "      <td>-1.384708</td>\n",
       "      <td>0.722174</td>\n",
       "      <td>0.722174</td>\n",
       "      <td>0.722174</td>\n",
       "    </tr>\n",
       "    <tr>\n",
       "      <th>MidTownResidential</th>\n",
       "      <td>6818.0</td>\n",
       "      <td>-1.629201e-15</td>\n",
       "      <td>1.000073</td>\n",
       "      <td>-0.383205</td>\n",
       "      <td>-0.383205</td>\n",
       "      <td>-0.383205</td>\n",
       "      <td>-0.383205</td>\n",
       "      <td>2.609569</td>\n",
       "    </tr>\n",
       "    <tr>\n",
       "      <th>sideffect_mc</th>\n",
       "      <td>6818.0</td>\n",
       "      <td>-1.090683e-16</td>\n",
       "      <td>1.000073</td>\n",
       "      <td>-1.363781</td>\n",
       "      <td>-1.363781</td>\n",
       "      <td>0.733255</td>\n",
       "      <td>0.733255</td>\n",
       "      <td>0.733255</td>\n",
       "    </tr>\n",
       "    <tr>\n",
       "      <th>Tier 2</th>\n",
       "      <td>6818.0</td>\n",
       "      <td>-4.670492e-16</td>\n",
       "      <td>1.000073</td>\n",
       "      <td>-0.700428</td>\n",
       "      <td>-0.700428</td>\n",
       "      <td>-0.700428</td>\n",
       "      <td>1.427699</td>\n",
       "      <td>1.427699</td>\n",
       "    </tr>\n",
       "    <tr>\n",
       "      <th>Tier 3</th>\n",
       "      <td>6818.0</td>\n",
       "      <td>-1.744636e-16</td>\n",
       "      <td>1.000073</td>\n",
       "      <td>-0.798600</td>\n",
       "      <td>-0.798600</td>\n",
       "      <td>-0.798600</td>\n",
       "      <td>1.252192</td>\n",
       "      <td>1.252192</td>\n",
       "    </tr>\n",
       "    <tr>\n",
       "      <th>Area010</th>\n",
       "      <td>6818.0</td>\n",
       "      <td>-8.532499e-16</td>\n",
       "      <td>1.000073</td>\n",
       "      <td>-0.263292</td>\n",
       "      <td>-0.263292</td>\n",
       "      <td>-0.263292</td>\n",
       "      <td>-0.263292</td>\n",
       "      <td>3.798070</td>\n",
       "    </tr>\n",
       "    <tr>\n",
       "      <th>Area013</th>\n",
       "      <td>6818.0</td>\n",
       "      <td>-4.719018e-16</td>\n",
       "      <td>1.000073</td>\n",
       "      <td>-0.351303</td>\n",
       "      <td>-0.351303</td>\n",
       "      <td>-0.351303</td>\n",
       "      <td>-0.351303</td>\n",
       "      <td>2.846542</td>\n",
       "    </tr>\n",
       "    <tr>\n",
       "      <th>Area017</th>\n",
       "      <td>6818.0</td>\n",
       "      <td>1.296346e-16</td>\n",
       "      <td>1.000073</td>\n",
       "      <td>-0.354195</td>\n",
       "      <td>-0.354195</td>\n",
       "      <td>-0.354195</td>\n",
       "      <td>-0.354195</td>\n",
       "      <td>2.823305</td>\n",
       "    </tr>\n",
       "    <tr>\n",
       "      <th>Area018</th>\n",
       "      <td>6818.0</td>\n",
       "      <td>7.851351e-16</td>\n",
       "      <td>1.000073</td>\n",
       "      <td>-0.346012</td>\n",
       "      <td>-0.346012</td>\n",
       "      <td>-0.346012</td>\n",
       "      <td>-0.346012</td>\n",
       "      <td>2.890076</td>\n",
       "    </tr>\n",
       "    <tr>\n",
       "      <th>Area027</th>\n",
       "      <td>6818.0</td>\n",
       "      <td>3.416321e-16</td>\n",
       "      <td>1.000073</td>\n",
       "      <td>-0.347604</td>\n",
       "      <td>-0.347604</td>\n",
       "      <td>-0.347604</td>\n",
       "      <td>-0.347604</td>\n",
       "      <td>2.876837</td>\n",
       "    </tr>\n",
       "    <tr>\n",
       "      <th>Area035</th>\n",
       "      <td>6818.0</td>\n",
       "      <td>-1.958930e-17</td>\n",
       "      <td>1.000073</td>\n",
       "      <td>-0.351040</td>\n",
       "      <td>-0.351040</td>\n",
       "      <td>-0.351040</td>\n",
       "      <td>-0.351040</td>\n",
       "      <td>2.848679</td>\n",
       "    </tr>\n",
       "    <tr>\n",
       "      <th>Area045</th>\n",
       "      <td>6818.0</td>\n",
       "      <td>4.805159e-16</td>\n",
       "      <td>1.000073</td>\n",
       "      <td>-0.347869</td>\n",
       "      <td>-0.347869</td>\n",
       "      <td>-0.347869</td>\n",
       "      <td>-0.347869</td>\n",
       "      <td>2.874646</td>\n",
       "    </tr>\n",
       "    <tr>\n",
       "      <th>Area046</th>\n",
       "      <td>6818.0</td>\n",
       "      <td>-6.479286e-16</td>\n",
       "      <td>1.000073</td>\n",
       "      <td>-0.351303</td>\n",
       "      <td>-0.351303</td>\n",
       "      <td>-0.351303</td>\n",
       "      <td>-0.351303</td>\n",
       "      <td>2.846542</td>\n",
       "    </tr>\n",
       "    <tr>\n",
       "      <th>Area049</th>\n",
       "      <td>6818.0</td>\n",
       "      <td>1.343731e-16</td>\n",
       "      <td>1.000073</td>\n",
       "      <td>-0.348663</td>\n",
       "      <td>-0.348663</td>\n",
       "      <td>-0.348663</td>\n",
       "      <td>-0.348663</td>\n",
       "      <td>2.868097</td>\n",
       "    </tr>\n",
       "    <tr>\n",
       "      <th>Medium</th>\n",
       "      <td>6818.0</td>\n",
       "      <td>-2.581293e-16</td>\n",
       "      <td>1.000073</td>\n",
       "      <td>-0.690910</td>\n",
       "      <td>-0.690910</td>\n",
       "      <td>-0.690910</td>\n",
       "      <td>1.447367</td>\n",
       "      <td>1.447367</td>\n",
       "    </tr>\n",
       "    <tr>\n",
       "      <th>Small</th>\n",
       "      <td>6818.0</td>\n",
       "      <td>1.063977e-16</td>\n",
       "      <td>1.000073</td>\n",
       "      <td>-0.627912</td>\n",
       "      <td>-0.627912</td>\n",
       "      <td>-0.627912</td>\n",
       "      <td>1.592579</td>\n",
       "      <td>1.592579</td>\n",
       "    </tr>\n",
       "    <tr>\n",
       "      <th>Unknown</th>\n",
       "      <td>6818.0</td>\n",
       "      <td>-4.030543e-16</td>\n",
       "      <td>1.000073</td>\n",
       "      <td>-0.630183</td>\n",
       "      <td>-0.630183</td>\n",
       "      <td>-0.630183</td>\n",
       "      <td>1.586840</td>\n",
       "      <td>1.586840</td>\n",
       "    </tr>\n",
       "  </tbody>\n",
       "</table>\n",
       "</div>"
      ],
      "text/plain": [
       "                      count          mean       std       min       25%  \\\n",
       "counterfeit_weight   6818.0 -6.475378e-16  1.000073 -1.951311 -0.830377   \n",
       "medicine_mrp         6818.0 -8.445544e-17  1.000073 -1.762260 -0.753900   \n",
       "availability_rating  6818.0 -2.551819e-16  1.000073 -1.285498 -0.759864   \n",
       "period_active        6818.0 -1.054207e-16  1.000073 -1.334034 -0.736546   \n",
       "Analgesics           6818.0  2.963227e-16  1.000073 -0.234715 -0.234715   \n",
       "Antacids             6818.0 -7.310488e-16  1.000073 -0.176509 -0.176509   \n",
       "Antibiotics          6818.0 -6.700745e-17  1.000073 -0.407270 -0.407270   \n",
       "Antifungal           6818.0  2.370826e-16  1.000073 -0.128646 -0.128646   \n",
       "Antimalarial         6818.0 -4.174898e-16  1.000073 -0.228742 -0.228742   \n",
       "Antipyretics         6818.0  5.317118e-16  1.000073 -0.292101 -0.292101   \n",
       "Antiseptics          6818.0 -7.202120e-16  1.000073 -0.344682 -0.344682   \n",
       "Cardiac              6818.0  1.430035e-15  1.000073 -0.287941 -0.287941   \n",
       "Hreplacements        6818.0  5.996149e-16  1.000073 -0.408737 -0.408737   \n",
       "Mstablizers          6818.0 -3.507510e-16  1.000073 -0.285544 -0.285544   \n",
       "MuscleRelaxants      6818.0  1.951114e-16  1.000073 -0.144262 -0.144262   \n",
       "OralContraceptives   6818.0 -3.665136e-16  1.000073 -0.336637 -0.336637   \n",
       "Statins              6818.0 -5.227110e-16  1.000073 -0.158458 -0.158458   \n",
       "Stimulants           6818.0 -2.662345e-16  1.000073 -0.118872 -0.118872   \n",
       "Tranquilizers        6818.0  3.934795e-16  1.000073 -0.256214 -0.256214   \n",
       "CityLimits           6818.0  3.416321e-16  1.000073 -0.347604 -0.347604   \n",
       "DownTown             6818.0 -6.888659e-16  1.000073 -1.384708 -1.384708   \n",
       "MidTownResidential   6818.0 -1.629201e-15  1.000073 -0.383205 -0.383205   \n",
       "sideffect_mc         6818.0 -1.090683e-16  1.000073 -1.363781 -1.363781   \n",
       "Tier 2               6818.0 -4.670492e-16  1.000073 -0.700428 -0.700428   \n",
       "Tier 3               6818.0 -1.744636e-16  1.000073 -0.798600 -0.798600   \n",
       "Area010              6818.0 -8.532499e-16  1.000073 -0.263292 -0.263292   \n",
       "Area013              6818.0 -4.719018e-16  1.000073 -0.351303 -0.351303   \n",
       "Area017              6818.0  1.296346e-16  1.000073 -0.354195 -0.354195   \n",
       "Area018              6818.0  7.851351e-16  1.000073 -0.346012 -0.346012   \n",
       "Area027              6818.0  3.416321e-16  1.000073 -0.347604 -0.347604   \n",
       "Area035              6818.0 -1.958930e-17  1.000073 -0.351040 -0.351040   \n",
       "Area045              6818.0  4.805159e-16  1.000073 -0.347869 -0.347869   \n",
       "Area046              6818.0 -6.479286e-16  1.000073 -0.351303 -0.351303   \n",
       "Area049              6818.0  1.343731e-16  1.000073 -0.348663 -0.348663   \n",
       "Medium               6818.0 -2.581293e-16  1.000073 -0.690910 -0.690910   \n",
       "Small                6818.0  1.063977e-16  1.000073 -0.627912 -0.627912   \n",
       "Unknown              6818.0 -4.030543e-16  1.000073 -0.630183 -0.630183   \n",
       "\n",
       "                          50%       75%       max  \n",
       "counterfeit_weight  -0.000011  0.752397  2.016253  \n",
       "medicine_mrp         0.028846  0.719409  2.022317  \n",
       "availability_rating -0.237364  0.554070  5.093801  \n",
       "period_active       -0.139058  1.294914  1.533910  \n",
       "Analgesics          -0.234715 -0.234715  4.260479  \n",
       "Antacids            -0.176509 -0.176509  5.665429  \n",
       "Antibiotics         -0.407270 -0.407270  2.455375  \n",
       "Antifungal          -0.128646 -0.128646  7.773251  \n",
       "Antimalarial        -0.228742 -0.228742  4.371738  \n",
       "Antipyretics        -0.292101 -0.292101  3.423470  \n",
       "Antiseptics         -0.344682 -0.344682  2.901229  \n",
       "Cardiac             -0.287941 -0.287941  3.472939  \n",
       "Hreplacements       -0.408737 -0.408737  2.446560  \n",
       "Mstablizers         -0.285544 -0.285544  3.502084  \n",
       "MuscleRelaxants     -0.144262 -0.144262  6.931837  \n",
       "OralContraceptives  -0.336637 -0.336637  2.970557  \n",
       "Statins             -0.158458 -0.158458  6.310812  \n",
       "Stimulants          -0.118872 -0.118872  8.412397  \n",
       "Tranquilizers       -0.256214 -0.256214  3.902990  \n",
       "CityLimits          -0.347604 -0.347604  2.876837  \n",
       "DownTown             0.722174  0.722174  0.722174  \n",
       "MidTownResidential  -0.383205 -0.383205  2.609569  \n",
       "sideffect_mc         0.733255  0.733255  0.733255  \n",
       "Tier 2              -0.700428  1.427699  1.427699  \n",
       "Tier 3              -0.798600  1.252192  1.252192  \n",
       "Area010             -0.263292 -0.263292  3.798070  \n",
       "Area013             -0.351303 -0.351303  2.846542  \n",
       "Area017             -0.354195 -0.354195  2.823305  \n",
       "Area018             -0.346012 -0.346012  2.890076  \n",
       "Area027             -0.347604 -0.347604  2.876837  \n",
       "Area035             -0.351040 -0.351040  2.848679  \n",
       "Area045             -0.347869 -0.347869  2.874646  \n",
       "Area046             -0.351303 -0.351303  2.846542  \n",
       "Area049             -0.348663 -0.348663  2.868097  \n",
       "Medium              -0.690910  1.447367  1.447367  \n",
       "Small               -0.627912  1.592579  1.592579  \n",
       "Unknown             -0.630183  1.586840  1.586840  "
      ]
     },
     "execution_count": 1048,
     "metadata": {},
     "output_type": "execute_result"
    }
   ],
   "source": [
    "# the evidence of a scaled data set is that the mean must 0 and the stardard diviation must be 1\n",
    "scaled_counter_train.describe().T"
   ]
  },
  {
   "cell_type": "code",
   "execution_count": 1049,
   "metadata": {
    "collapsed": true
   },
   "outputs": [],
   "source": [
    "#pca and sclaed version of test and train set; Apply Principal Component Analysis, \n",
    "#a fancy name for reducing the number colums without loosing data. PCA uses scaled data only\n",
    "pca = PCA(n_components=37)\n",
    "pca_scaled_counter_test = pd.DataFrame(pca.fit_transform(scaled_counter_test), columns=scaled_counter_test.columns)\n",
    "pca_scaled_counter_train = pd.DataFrame(pca.fit_transform(scaled_counter_train), columns=scaled_counter_train.columns)\n"
   ]
  },
  {
   "cell_type": "code",
   "execution_count": 1050,
   "metadata": {},
   "outputs": [
    {
     "data": {
      "text/plain": [
       "array([  4.62842070e+00,   2.69429262e+00,   2.50236571e+00,\n",
       "         2.04599888e+00,   1.80303578e+00,   1.51203529e+00,\n",
       "         1.48461548e+00,   1.24112277e+00,   1.19552005e+00,\n",
       "         1.16486022e+00,   1.14120627e+00,   1.11979915e+00,\n",
       "         1.10411052e+00,   1.09895762e+00,   1.08575281e+00,\n",
       "         1.07907636e+00,   1.06347519e+00,   1.04768642e+00,\n",
       "         1.03287156e+00,   1.02417374e+00,   1.01867817e+00,\n",
       "         1.01598045e+00,   9.30274285e-01,   9.03200401e-01,\n",
       "         8.60713379e-01,   6.05751155e-01,   5.88116739e-01,\n",
       "         7.90828362e-03,   2.66902322e-30,   1.36607350e-30,\n",
       "         9.95455267e-31,   8.01571955e-31,   4.81904648e-31,\n",
       "         1.98435786e-31,   1.62580615e-31,   5.67862329e-32,\n",
       "         3.07955980e-32])"
      ]
     },
     "execution_count": 1050,
     "metadata": {},
     "output_type": "execute_result"
    }
   ],
   "source": [
    "#Let see the critical attributes of PCA: Explained Variance & Explained variance ratio\n",
    "#expalined variance\n",
    "pca.explained_variance_"
   ]
  },
  {
   "cell_type": "code",
   "execution_count": 1051,
   "metadata": {},
   "outputs": [
    {
     "data": {
      "text/plain": [
       "array([  1.25092451e-01,   7.28187196e-02,   6.76315058e-02,\n",
       "         5.52972670e-02,   4.87306966e-02,   4.08658186e-02,\n",
       "         4.01247428e-02,   3.35438586e-02,   3.23113527e-02,\n",
       "         3.14827087e-02,   3.08434126e-02,   3.02648419e-02,\n",
       "         2.98408249e-02,   2.97015573e-02,   2.93446706e-02,\n",
       "         2.91642259e-02,   2.87425727e-02,   2.83158493e-02,\n",
       "         2.79154474e-02,   2.76803714e-02,   2.75318424e-02,\n",
       "         2.74589312e-02,   2.51425483e-02,   2.44108217e-02,\n",
       "         2.32625238e-02,   1.63716528e-02,   1.58950470e-02,\n",
       "         2.13737395e-04,   7.21357628e-32,   3.69209054e-32,\n",
       "         2.69041964e-32,   2.16641069e-32,   1.30244500e-32,\n",
       "         5.36312934e-33,   4.39407067e-33,   1.53476305e-33,\n",
       "         8.32313460e-34])"
      ]
     },
     "execution_count": 1051,
     "metadata": {},
     "output_type": "execute_result"
    }
   ],
   "source": [
    "#explaned variance ratio\n",
    "pca.explained_variance_ratio_"
   ]
  },
  {
   "cell_type": "markdown",
   "metadata": {},
   "source": [
    "#### P.C.A  Variance Report"
   ]
  },
  {
   "cell_type": "code",
   "execution_count": 1052,
   "metadata": {},
   "outputs": [
    {
     "name": "stdout",
     "output_type": "stream",
     "text": [
      "Number of obervation n = 6818\n"
     ]
    },
    {
     "data": {
      "text/html": [
       "<div>\n",
       "<style>\n",
       "    .dataframe thead tr:only-child th {\n",
       "        text-align: right;\n",
       "    }\n",
       "\n",
       "    .dataframe thead th {\n",
       "        text-align: left;\n",
       "    }\n",
       "\n",
       "    .dataframe tbody tr th {\n",
       "        vertical-align: top;\n",
       "    }\n",
       "</style>\n",
       "<table border=\"1\" class=\"dataframe\">\n",
       "  <thead>\n",
       "    <tr style=\"text-align: right;\">\n",
       "      <th></th>\n",
       "      <th>%Variance_ratio</th>\n",
       "      <th>Variance</th>\n",
       "      <th>CumSum</th>\n",
       "    </tr>\n",
       "  </thead>\n",
       "  <tbody>\n",
       "    <tr>\n",
       "      <th>0</th>\n",
       "      <td>1.250925e+01</td>\n",
       "      <td>4.628421e+00</td>\n",
       "      <td>12.509245</td>\n",
       "    </tr>\n",
       "    <tr>\n",
       "      <th>1</th>\n",
       "      <td>7.281872e+00</td>\n",
       "      <td>2.694293e+00</td>\n",
       "      <td>19.791117</td>\n",
       "    </tr>\n",
       "    <tr>\n",
       "      <th>2</th>\n",
       "      <td>6.763151e+00</td>\n",
       "      <td>2.502366e+00</td>\n",
       "      <td>26.554268</td>\n",
       "    </tr>\n",
       "    <tr>\n",
       "      <th>3</th>\n",
       "      <td>5.529727e+00</td>\n",
       "      <td>2.045999e+00</td>\n",
       "      <td>32.083994</td>\n",
       "    </tr>\n",
       "    <tr>\n",
       "      <th>4</th>\n",
       "      <td>4.873070e+00</td>\n",
       "      <td>1.803036e+00</td>\n",
       "      <td>36.957064</td>\n",
       "    </tr>\n",
       "    <tr>\n",
       "      <th>5</th>\n",
       "      <td>4.086582e+00</td>\n",
       "      <td>1.512035e+00</td>\n",
       "      <td>41.043646</td>\n",
       "    </tr>\n",
       "    <tr>\n",
       "      <th>6</th>\n",
       "      <td>4.012474e+00</td>\n",
       "      <td>1.484615e+00</td>\n",
       "      <td>45.056120</td>\n",
       "    </tr>\n",
       "    <tr>\n",
       "      <th>7</th>\n",
       "      <td>3.354386e+00</td>\n",
       "      <td>1.241123e+00</td>\n",
       "      <td>48.410506</td>\n",
       "    </tr>\n",
       "    <tr>\n",
       "      <th>8</th>\n",
       "      <td>3.231135e+00</td>\n",
       "      <td>1.195520e+00</td>\n",
       "      <td>51.641641</td>\n",
       "    </tr>\n",
       "    <tr>\n",
       "      <th>9</th>\n",
       "      <td>3.148271e+00</td>\n",
       "      <td>1.164860e+00</td>\n",
       "      <td>54.789912</td>\n",
       "    </tr>\n",
       "    <tr>\n",
       "      <th>10</th>\n",
       "      <td>3.084341e+00</td>\n",
       "      <td>1.141206e+00</td>\n",
       "      <td>57.874253</td>\n",
       "    </tr>\n",
       "    <tr>\n",
       "      <th>11</th>\n",
       "      <td>3.026484e+00</td>\n",
       "      <td>1.119799e+00</td>\n",
       "      <td>60.900738</td>\n",
       "    </tr>\n",
       "    <tr>\n",
       "      <th>12</th>\n",
       "      <td>2.984082e+00</td>\n",
       "      <td>1.104111e+00</td>\n",
       "      <td>63.884820</td>\n",
       "    </tr>\n",
       "    <tr>\n",
       "      <th>13</th>\n",
       "      <td>2.970156e+00</td>\n",
       "      <td>1.098958e+00</td>\n",
       "      <td>66.854976</td>\n",
       "    </tr>\n",
       "    <tr>\n",
       "      <th>14</th>\n",
       "      <td>2.934467e+00</td>\n",
       "      <td>1.085753e+00</td>\n",
       "      <td>69.789443</td>\n",
       "    </tr>\n",
       "    <tr>\n",
       "      <th>15</th>\n",
       "      <td>2.916423e+00</td>\n",
       "      <td>1.079076e+00</td>\n",
       "      <td>72.705865</td>\n",
       "    </tr>\n",
       "    <tr>\n",
       "      <th>16</th>\n",
       "      <td>2.874257e+00</td>\n",
       "      <td>1.063475e+00</td>\n",
       "      <td>75.580123</td>\n",
       "    </tr>\n",
       "    <tr>\n",
       "      <th>17</th>\n",
       "      <td>2.831585e+00</td>\n",
       "      <td>1.047686e+00</td>\n",
       "      <td>78.411708</td>\n",
       "    </tr>\n",
       "    <tr>\n",
       "      <th>18</th>\n",
       "      <td>2.791545e+00</td>\n",
       "      <td>1.032872e+00</td>\n",
       "      <td>81.203252</td>\n",
       "    </tr>\n",
       "    <tr>\n",
       "      <th>19</th>\n",
       "      <td>2.768037e+00</td>\n",
       "      <td>1.024174e+00</td>\n",
       "      <td>83.971290</td>\n",
       "    </tr>\n",
       "    <tr>\n",
       "      <th>20</th>\n",
       "      <td>2.753184e+00</td>\n",
       "      <td>1.018678e+00</td>\n",
       "      <td>86.724474</td>\n",
       "    </tr>\n",
       "    <tr>\n",
       "      <th>21</th>\n",
       "      <td>2.745893e+00</td>\n",
       "      <td>1.015980e+00</td>\n",
       "      <td>89.470367</td>\n",
       "    </tr>\n",
       "    <tr>\n",
       "      <th>22</th>\n",
       "      <td>2.514255e+00</td>\n",
       "      <td>9.302743e-01</td>\n",
       "      <td>91.984622</td>\n",
       "    </tr>\n",
       "    <tr>\n",
       "      <th>23</th>\n",
       "      <td>2.441082e+00</td>\n",
       "      <td>9.032004e-01</td>\n",
       "      <td>94.425704</td>\n",
       "    </tr>\n",
       "    <tr>\n",
       "      <th>24</th>\n",
       "      <td>2.326252e+00</td>\n",
       "      <td>8.607134e-01</td>\n",
       "      <td>96.751956</td>\n",
       "    </tr>\n",
       "    <tr>\n",
       "      <th>25</th>\n",
       "      <td>1.637165e+00</td>\n",
       "      <td>6.057512e-01</td>\n",
       "      <td>98.389122</td>\n",
       "    </tr>\n",
       "    <tr>\n",
       "      <th>26</th>\n",
       "      <td>1.589505e+00</td>\n",
       "      <td>5.881167e-01</td>\n",
       "      <td>99.978626</td>\n",
       "    </tr>\n",
       "    <tr>\n",
       "      <th>27</th>\n",
       "      <td>2.137374e-02</td>\n",
       "      <td>7.908284e-03</td>\n",
       "      <td>100.000000</td>\n",
       "    </tr>\n",
       "    <tr>\n",
       "      <th>28</th>\n",
       "      <td>7.213576e-30</td>\n",
       "      <td>2.669023e-30</td>\n",
       "      <td>100.000000</td>\n",
       "    </tr>\n",
       "    <tr>\n",
       "      <th>29</th>\n",
       "      <td>3.692091e-30</td>\n",
       "      <td>1.366074e-30</td>\n",
       "      <td>100.000000</td>\n",
       "    </tr>\n",
       "    <tr>\n",
       "      <th>30</th>\n",
       "      <td>2.690420e-30</td>\n",
       "      <td>9.954553e-31</td>\n",
       "      <td>100.000000</td>\n",
       "    </tr>\n",
       "    <tr>\n",
       "      <th>31</th>\n",
       "      <td>2.166411e-30</td>\n",
       "      <td>8.015720e-31</td>\n",
       "      <td>100.000000</td>\n",
       "    </tr>\n",
       "    <tr>\n",
       "      <th>32</th>\n",
       "      <td>1.302445e-30</td>\n",
       "      <td>4.819046e-31</td>\n",
       "      <td>100.000000</td>\n",
       "    </tr>\n",
       "    <tr>\n",
       "      <th>33</th>\n",
       "      <td>5.363129e-31</td>\n",
       "      <td>1.984358e-31</td>\n",
       "      <td>100.000000</td>\n",
       "    </tr>\n",
       "    <tr>\n",
       "      <th>34</th>\n",
       "      <td>4.394071e-31</td>\n",
       "      <td>1.625806e-31</td>\n",
       "      <td>100.000000</td>\n",
       "    </tr>\n",
       "    <tr>\n",
       "      <th>35</th>\n",
       "      <td>1.534763e-31</td>\n",
       "      <td>5.678623e-32</td>\n",
       "      <td>100.000000</td>\n",
       "    </tr>\n",
       "    <tr>\n",
       "      <th>36</th>\n",
       "      <td>8.323135e-32</td>\n",
       "      <td>3.079560e-32</td>\n",
       "      <td>100.000000</td>\n",
       "    </tr>\n",
       "  </tbody>\n",
       "</table>\n",
       "</div>"
      ],
      "text/plain": [
       "    %Variance_ratio      Variance      CumSum\n",
       "0      1.250925e+01  4.628421e+00   12.509245\n",
       "1      7.281872e+00  2.694293e+00   19.791117\n",
       "2      6.763151e+00  2.502366e+00   26.554268\n",
       "3      5.529727e+00  2.045999e+00   32.083994\n",
       "4      4.873070e+00  1.803036e+00   36.957064\n",
       "5      4.086582e+00  1.512035e+00   41.043646\n",
       "6      4.012474e+00  1.484615e+00   45.056120\n",
       "7      3.354386e+00  1.241123e+00   48.410506\n",
       "8      3.231135e+00  1.195520e+00   51.641641\n",
       "9      3.148271e+00  1.164860e+00   54.789912\n",
       "10     3.084341e+00  1.141206e+00   57.874253\n",
       "11     3.026484e+00  1.119799e+00   60.900738\n",
       "12     2.984082e+00  1.104111e+00   63.884820\n",
       "13     2.970156e+00  1.098958e+00   66.854976\n",
       "14     2.934467e+00  1.085753e+00   69.789443\n",
       "15     2.916423e+00  1.079076e+00   72.705865\n",
       "16     2.874257e+00  1.063475e+00   75.580123\n",
       "17     2.831585e+00  1.047686e+00   78.411708\n",
       "18     2.791545e+00  1.032872e+00   81.203252\n",
       "19     2.768037e+00  1.024174e+00   83.971290\n",
       "20     2.753184e+00  1.018678e+00   86.724474\n",
       "21     2.745893e+00  1.015980e+00   89.470367\n",
       "22     2.514255e+00  9.302743e-01   91.984622\n",
       "23     2.441082e+00  9.032004e-01   94.425704\n",
       "24     2.326252e+00  8.607134e-01   96.751956\n",
       "25     1.637165e+00  6.057512e-01   98.389122\n",
       "26     1.589505e+00  5.881167e-01   99.978626\n",
       "27     2.137374e-02  7.908284e-03  100.000000\n",
       "28     7.213576e-30  2.669023e-30  100.000000\n",
       "29     3.692091e-30  1.366074e-30  100.000000\n",
       "30     2.690420e-30  9.954553e-31  100.000000\n",
       "31     2.166411e-30  8.015720e-31  100.000000\n",
       "32     1.302445e-30  4.819046e-31  100.000000\n",
       "33     5.363129e-31  1.984358e-31  100.000000\n",
       "34     4.394071e-31  1.625806e-31  100.000000\n",
       "35     1.534763e-31  5.678623e-32  100.000000\n",
       "36     8.323135e-32  3.079560e-32  100.000000"
      ]
     },
     "execution_count": 1052,
     "metadata": {},
     "output_type": "execute_result"
    }
   ],
   "source": [
    "#To make sense of of this bunch of numbers we would create a data frame that depict the cummulated explained variance ratio\n",
    "data = {'Variance': pca.explained_variance_, '%Variance_ratio':pca.explained_variance_ratio_*100}\n",
    "var_report = pd.DataFrame(data)\n",
    "var_report['CumSum'] = var_report['%Variance_ratio'].cumsum()\n",
    "print('Number of obervation n = {}'.format(pca.n_samples_))\n",
    "var_report"
   ]
  },
  {
   "cell_type": "markdown",
   "metadata": {},
   "source": [
    "#### decision time:how many component should we settle for?\n",
    "from the scree diagram, we may settle for 26 components with 99% of  \n"
   ]
  },
  {
   "cell_type": "code",
   "execution_count": 1053,
   "metadata": {},
   "outputs": [
    {
     "data": {
      "image/png": "[encoded data removed]",
      "text/plain": [
       "<matplotlib.figure.Figure at 0x1b6f9b7b8>"
      ]
     },
     "metadata": {},
     "output_type": "display_data"
    }
   ],
   "source": [
    "plt.plot(var_report['CumSum']);"
   ]
  },
  {
   "cell_type": "code",
   "execution_count": 1054,
   "metadata": {},
   "outputs": [
    {
     "data": {
      "text/plain": [
       "[<matplotlib.lines.Line2D at 0x1af3d8978>]"
      ]
     },
     "execution_count": 1054,
     "metadata": {},
     "output_type": "execute_result"
    },
    {
     "data": {
      "image/png": "[encoded data removed]",
      "text/plain": [
       "<matplotlib.figure.Figure at 0x1b6b3dba8>"
      ]
     },
     "metadata": {},
     "output_type": "display_data"
    }
   ],
   "source": [
    "# let see it from another perspective\n",
    "plt.plot(pca.explained_variance_ratio_)"
   ]
  },
  {
   "cell_type": "code",
   "execution_count": 1055,
   "metadata": {
    "collapsed": true
   },
   "outputs": [],
   "source": [
    "#keep 21 components\n",
    "pca_scaled_train = pca_scaled_counter_train.iloc[:,0:22]\n",
    "pca_scaled_test = pca_scaled_counter_test.iloc[:,0:22]"
   ]
  },
  {
   "cell_type": "code",
   "execution_count": 1056,
   "metadata": {},
   "outputs": [
    {
     "data": {
      "text/plain": [
       "((1705, 22), (6818, 22))"
      ]
     },
     "execution_count": 1056,
     "metadata": {},
     "output_type": "execute_result"
    }
   ],
   "source": [
    "pca_scaled_test.shape, pca_scaled_train.shape"
   ]
  },
  {
   "cell_type": "markdown",
   "metadata": {},
   "source": [
    "### Some exploration of train data set after standardizing data"
   ]
  },
  {
   "cell_type": "code",
   "execution_count": 1058,
   "metadata": {},
   "outputs": [
    {
     "ename": "IndexError",
     "evalue": "index 8 is out of bounds for axis 0 with size 8",
     "output_type": "error",
     "traceback": [
      "\u001b[0;31m---------------------------------------------------------------------------\u001b[0m",
      "\u001b[0;31mIndexError\u001b[0m                                Traceback (most recent call last)",
      "\u001b[0;32m<ipython-input-1058-7a5a77c430e0>\u001b[0m in \u001b[0;36m<module>\u001b[0;34m()\u001b[0m\n\u001b[1;32m      4\u001b[0m     \u001b[0mp0\u001b[0m \u001b[0;34m=\u001b[0m \u001b[0mix\u001b[0m \u001b[0;34m//\u001b[0m \u001b[0;36m4\u001b[0m\u001b[0;34m\u001b[0m\u001b[0m\n\u001b[1;32m      5\u001b[0m     \u001b[0mp1\u001b[0m \u001b[0;34m=\u001b[0m \u001b[0mix\u001b[0m \u001b[0;34m%\u001b[0m \u001b[0;36m4\u001b[0m\u001b[0;34m\u001b[0m\u001b[0m\n\u001b[0;32m----> 6\u001b[0;31m     \u001b[0msns\u001b[0m\u001b[0;34m.\u001b[0m\u001b[0mdistplot\u001b[0m\u001b[0;34m(\u001b[0m\u001b[0mscaled_counter_train\u001b[0m\u001b[0;34m[\u001b[0m\u001b[0mcol\u001b[0m\u001b[0;34m]\u001b[0m\u001b[0;34m,\u001b[0m \u001b[0max\u001b[0m \u001b[0;34m=\u001b[0m \u001b[0maxs\u001b[0m\u001b[0;34m[\u001b[0m\u001b[0mp0\u001b[0m\u001b[0;34m,\u001b[0m \u001b[0mp1\u001b[0m\u001b[0;34m]\u001b[0m\u001b[0;34m)\u001b[0m\u001b[0;34m\u001b[0m\u001b[0m\n\u001b[0m\u001b[1;32m      7\u001b[0m     \u001b[0maxs\u001b[0m\u001b[0;34m[\u001b[0m\u001b[0mp0\u001b[0m\u001b[0;34m,\u001b[0m \u001b[0mp1\u001b[0m\u001b[0;34m]\u001b[0m\u001b[0;34m.\u001b[0m\u001b[0mset\u001b[0m\u001b[0;34m(\u001b[0m\u001b[0mxlabel\u001b[0m\u001b[0;34m=\u001b[0m\u001b[0mcol\u001b[0m\u001b[0;34m)\u001b[0m\u001b[0;34m\u001b[0m\u001b[0m\n",
      "\u001b[0;31mIndexError\u001b[0m: index 8 is out of bounds for axis 0 with size 8"
     ]
    },
    {
     "data": {
      "image/png": "[encoded data removed]",
      "text/plain": [
       "<matplotlib.figure.Figure at 0x197866128>"
      ]
     },
     "metadata": {},
     "output_type": "display_data"
    }
   ],
   "source": [
    "#Distribution of training data\n",
    "fig, axs = plt.subplots(8, 4, figsize=(24,24))\n",
    "for ix, col in enumerate(scaled_counter_train.columns):\n",
    "    p0 = ix // 4\n",
    "    p1 = ix % 4\n",
    "    sns.distplot(scaled_counter_train[col], ax = axs[p0, p1])\n",
    "    axs[p0, p1].set(xlabel=col)"
   ]
  },
  {
   "cell_type": "code",
   "execution_count": 1059,
   "metadata": {},
   "outputs": [
    {
     "ename": "IndexError",
     "evalue": "index 4 is out of bounds for axis 0 with size 4",
     "output_type": "error",
     "traceback": [
      "\u001b[0;31m---------------------------------------------------------------------------\u001b[0m",
      "\u001b[0;31mIndexError\u001b[0m                                Traceback (most recent call last)",
      "\u001b[0;32m<ipython-input-1059-5f4ec5819a14>\u001b[0m in \u001b[0;36m<module>\u001b[0;34m()\u001b[0m\n\u001b[1;32m      5\u001b[0m     \u001b[0mp0\u001b[0m \u001b[0;34m=\u001b[0m \u001b[0mix\u001b[0m \u001b[0;34m//\u001b[0m \u001b[0;36m8\u001b[0m\u001b[0;34m\u001b[0m\u001b[0m\n\u001b[1;32m      6\u001b[0m     \u001b[0mp1\u001b[0m \u001b[0;34m=\u001b[0m \u001b[0mix\u001b[0m \u001b[0;34m%\u001b[0m \u001b[0;36m8\u001b[0m\u001b[0;34m\u001b[0m\u001b[0m\n\u001b[0;32m----> 7\u001b[0;31m     \u001b[0maxs\u001b[0m\u001b[0;34m[\u001b[0m\u001b[0mp0\u001b[0m\u001b[0;34m,\u001b[0m \u001b[0mp1\u001b[0m\u001b[0;34m]\u001b[0m\u001b[0;34m.\u001b[0m\u001b[0mscatter\u001b[0m\u001b[0;34m(\u001b[0m\u001b[0mscaled_counter_train\u001b[0m\u001b[0;34m[\u001b[0m\u001b[0mfeature\u001b[0m\u001b[0;34m]\u001b[0m\u001b[0;34m,\u001b[0m \u001b[0msales_figures\u001b[0m\u001b[0;34m)\u001b[0m\u001b[0;34m\u001b[0m\u001b[0m\n\u001b[0m\u001b[1;32m      8\u001b[0m     \u001b[0maxs\u001b[0m\u001b[0;34m[\u001b[0m\u001b[0mp0\u001b[0m\u001b[0;34m,\u001b[0m \u001b[0mp1\u001b[0m\u001b[0;34m]\u001b[0m\u001b[0;34m.\u001b[0m\u001b[0mset\u001b[0m\u001b[0;34m(\u001b[0m\u001b[0mxlabel\u001b[0m\u001b[0;34m=\u001b[0m\u001b[0mfeature\u001b[0m \u001b[0;34m)\u001b[0m\u001b[0;34m\u001b[0m\u001b[0m\n",
      "\u001b[0;31mIndexError\u001b[0m: index 4 is out of bounds for axis 0 with size 4"
     ]
    },
    {
     "data": {
      "image/png": "[encoded data removed]",
      "text/plain": [
       "<matplotlib.figure.Figure at 0x1ad2c9780>"
      ]
     },
     "metadata": {},
     "output_type": "display_data"
    }
   ],
   "source": [
    "#features relationship with target: counterfeit sales figures\n",
    "#\n",
    "fig, axs = plt.subplots(4, 8, figsize=(20, 20))\n",
    "for ix, feature in enumerate(scaled_counter_train.columns):\n",
    "    p0 = ix // 8\n",
    "    p1 = ix % 8\n",
    "    axs[p0, p1].scatter(scaled_counter_train[feature], sales_figures)\n",
    "    axs[p0, p1].set(xlabel=feature )\n"
   ]
  },
  {
   "cell_type": "markdown",
   "metadata": {},
   "source": [
    "There is not much features relationship with the sales figure other than medicine_mrp which is somewhat positive. That is the rise in medicine mrp leads to increase in sales figures of counterfeit drugs. This should be further investigated"
   ]
  },
  {
   "cell_type": "markdown",
   "metadata": {},
   "source": [
    "## Modeling\n",
    "Under model building, we would adopt the iterative approach. We would build a basic model with a simple algorithm and evaluate performance therefrom accordingly. Then we would build a couple of 'out of the box models',evaluate the performance of these model and subsequently pick the two models with highest performance  metrics. We would then carryout hyper-parameter tuning of the two models to improve performance to satisfaction. This is further broken down below:\n",
    "\n",
    "Basic  Model:\n",
    "* Linear Regression\n",
    "\n",
    "Out of the box model:\n",
    "* Support Vector Machine\n",
    "* Naive Bayes\n",
    "* KN-Neighbor\n",
    "* Decision Tree\n",
    "* Random Forest\n",
    "\n",
    "* Xgboost\n"
   ]
  },
  {
   "cell_type": "markdown",
   "metadata": {},
   "source": [
    "#### Basic Model\n",
    "**Linear Regression**\n",
    "* Linear regression, simply put is about extracting a mathematical equation from the data,which explains how the variable of interest, in our current case, the counterfeit sales figure, is affected by other variables in the data.\n",
    "\n",
    "Mathematical foundation\n",
    "* Multiple Linear regression: \n",
    "$\\displaystyle Y = \\beta_0 + \\beta_1 X_1 + \\beta_2 X_2 + \\cdots + \\beta_n X_n$\n",
    "\n",
    "$\\displaystyle\\beta_1 = \\frac {\\Sigma( x - \\bar{x})(y - \\bar{y})}{\\Sigma( x  -\\bar{x})^2}$ $\\to$ $\\displaystyle\\beta_1 = \n",
    "\\frac{\\Sigma xy -\\frac{\\Sigma x\\Sigma y}{n}}{\\Sigma x^2 - \\frac{(\\Sigma x)^2}{n}}$  \n",
    "$\\beta_0 = \\bar{y}-\\beta_1\\bar{x}$\n",
    "\n",
    "The ultimate goal is to minimize the error : $\\displaystyle\\sum_{i = 0}^n(Y - \\beta_0 - \\beta_1 X)^2$"
   ]
  },
  {
   "cell_type": "code",
   "execution_count": 1069,
   "metadata": {},
   "outputs": [
    {
     "name": "stdout",
     "output_type": "stream",
     "text": [
      "MAE score - Linear Regression: -828.234777427\n",
      "Customise score(1-MAE/1660) - Linear Regression: [ 1.50761815  1.50562401  1.48935551  1.49895664  1.49312876]\n"
     ]
    }
   ],
   "source": [
    "# we would be using a unique scoring metric which is 1-(mean absolute error/1660)\n",
    "kf = KFold(n_splits=5, random_state=42, shuffle=True)\n",
    "X = train_counter_w_o_spca.as_matrix()\n",
    "Y = sales_figures.values.ravel()\n",
    "X_test = test_counter_w_o_spca\n",
    "model = LinearRegression()\n",
    "scores = cross_val_score(model, X, Y, cv=kf, scoring= 'neg_mean_absolute_error')\n",
    "print('MAE score - Linear Regression:', scores.mean())\n",
    "print('Customise score(1-MAE/1660) - Linear Regression:',1-(scores/1660))\n"
   ]
  },
  {
   "cell_type": "code",
   "execution_count": 1061,
   "metadata": {},
   "outputs": [
    {
     "name": "stdout",
     "output_type": "stream",
     "text": [
      "Running for fold: 0\n",
      "mae 820.04766423\n",
      "r2: 0.565975234093\n",
      "val mae: 842.646130885\n",
      "val R2: 0.565975234093\n",
      "Running for fold: 1\n",
      "mae 820.768424921\n",
      "r2: 0.568738326942\n",
      "val mae: 839.335854495\n",
      "val R2: 0.568738326942\n",
      "Running for fold: 2\n",
      "mae 828.575593546\n",
      "r2: 0.567825716086\n",
      "val mae: 812.330142966\n",
      "val R2: 0.567825716086\n",
      "Running for fold: 3\n",
      "mae 824.187237143\n",
      "r2: 0.567820699136\n",
      "val mae: 828.268023605\n",
      "val R2: 0.567820699136\n",
      "Running for fold: 4\n",
      "mae 828.305140083\n",
      "r2: 0.572733944434\n",
      "val mae: 818.593735182\n",
      "val R2: 0.572733944434\n"
     ]
    }
   ],
   "source": [
    "# manual cross validation procedure- with same Mean Absolute Error results\n",
    "from sklearn.model_selection import KFold\n",
    "counter = 0\n",
    "for trainIdx, valIdx in KFold(n_splits = 5, random_state = 42, shuffle=True).split(X,Y):\n",
    "    print('Running for fold:', counter)\n",
    "    X_train, y_train, X_val, y_val = X[trainIdx, :], Y[trainIdx], X[valIdx, :], Y[valIdx]\n",
    "    \n",
    "    model = LinearRegression(fit_intercept=True, normalize=False)\n",
    "    model.fit(X_train, y_train)\n",
    "    predy_train = model.predict(X_train)\n",
    "    mae = mean_absolute_error(y_train, predy_train)\n",
    "    r2 = r2_score(y_train,predy_train)\n",
    "    print('mae',mae)\n",
    "    print('r2:', r2)\n",
    "    predy_val = model.predict(X_val)\n",
    "    mae = mean_absolute_error(y_val,predy_val)\n",
    "    print('val mae:', mae)\n",
    "    print('val R2:', r2)\n",
    "    \n",
    "    counter += 1\n"
   ]
  },
  {
   "cell_type": "markdown",
   "metadata": {},
   "source": [
    "### Out-of-the-box Models\n",
    "As we earlier said we would build our model using the other versions of our data with five other algorithms and subsequently pick the two best in terms of performance for further tuning and processing.\n"
   ]
  },
  {
   "cell_type": "code",
   "execution_count": 1066,
   "metadata": {},
   "outputs": [],
   "source": [
    "scaled_train = scaled_counter_train.as_matrix()\n",
    "pca_scaled_train = pca_scaled_counter_train.as_matrix()\n",
    "kf = KFold(n_splits=5, shuffle=True, random_state=42)"
   ]
  },
  {
   "cell_type": "code",
   "execution_count": 1068,
   "metadata": {},
   "outputs": [
    {
     "name": "stdout",
     "output_type": "stream",
     "text": [
      "Data: X with scaling only\n",
      "Mean MAE Score - Decision Trees: -1078.44815842\n",
      "Mean MAE Score - Random Forest: -820.747184014\n",
      "Mean MAE Score - KNN: -899.378664665\n",
      "Data: X with pca\n",
      "Mean MAE Score - Decision Trees: -1102.38385808\n",
      "Mean MAE Score - Random Forest: -831.889554647\n",
      "Mean MAE Score - KNN: -899.378664665\n"
     ]
    }
   ],
   "source": [
    "X_variants = [scaled_train, pca_scaled_train]\n",
    "X_names = ['X with scaling only', 'X with pca']\n",
    "for train_X, X_name in zip(X_variants, X_names):\n",
    "    print('Data:', X_name)\n",
    "    \n",
    "    decision_tree = DecisionTreeRegressor()\n",
    "    decision_tree_score = cross_val_score(decision_tree, train_X, Y, cv=kf, scoring='neg_mean_absolute_error')\n",
    "    print('Mean MAE Score - Decision Trees:', decision_tree_score.mean())\n",
    "    \n",
    "    random_forest = RandomForestRegressor()\n",
    "    random_forest_score = cross_val_score(random_forest, train_X, Y, cv=kf, scoring='neg_mean_absolute_error')\n",
    "    print('Mean MAE Score - Random Forest:', random_forest_score.mean())\n",
    "    \n",
    "    #naive_bayes = GaussianNB()\n",
    "    #naive_bayes_score = cross_val_score(naive_bayes, train_X, Y, cv=5, scoring='neg_mean_absolute_error')\n",
    "    #print('Mean MEA Score- Naive Bayes:', naive_bayes_score.mean())\n",
    "    \n",
    "    knn = KNeighborsRegressor()\n",
    "    knn_score = cross_val_score(knn, train_X, Y, cv=kf, scoring='neg_mean_absolute_error')\n",
    "    print('Mean MAE Score - KNN:', knn_score.mean())"
   ]
  },
  {
   "cell_type": "markdown",
   "metadata": {
    "collapsed": true
   },
   "source": [
    "### Evaluation\n",
    "From the results above, since our metric is mean absolute error, the lower would be the better. To this end we can see that only Random Forest using the scaled version of our data has the lowest score of 820.74 which is an  improvement on our base model of Linear regression with a score of 828.23.\n",
    "\n",
    "We would channel our effort to improve on these scores by fine tunning the hyper-parameters of the Linear regression and Random forest algorithms alternatively we may take a critical look at our features for possible re-engineering. We would have verified our performance on the test portion of the data if we had the target variable therein.Meanwhile we can rely on the performance from our validation portion of data through cross validation.\n",
    "\n",
    "It is common knowledge that building models and applying algorithms is not a one size fit all scenario. This is the logic behind trying different model and the aim is really to see which model is better at this particular data at hand. To this end we would have to reconsider our earlier decision of picking two of the the best performing-in this case, the algorithm that reduces our Mean Absolute error the most- out of the bag models algorithms. From the result thus far we shall go ahead and fine tune the hyper-parameters of  the Linear regression and the Random Forest because the models built using these algorithms appears to produce results that are close to our objective of reducing the mean absolute error.\n"
   ]
  },
  {
   "cell_type": "code",
   "execution_count": null,
   "metadata": {
    "collapsed": true
   },
   "outputs": [],
   "source": []
  }
 ],
 "metadata": {
  "kernelspec": {
   "display_name": "Python 3",
   "language": "python",
   "name": "python3"
  },
  "language_info": {
   "codemirror_mode": {
    "name": "ipython",
    "version": 3
   },
   "file_extension": ".py",
   "mimetype": "text/x-python",
   "name": "python",
   "nbconvert_exporter": "python",
   "pygments_lexer": "ipython3",
   "version": "3.6.1"
  }
 },
 "nbformat": 4,
 "nbformat_minor": 2
}
