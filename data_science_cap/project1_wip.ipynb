{
 "cells": [
  {
   "cell_type": "markdown",
   "metadata": {
    "collapsed": true
   },
   "source": [
    "# Counterfeit Medicine Sales Prediction"
   ]
  },
  {
   "cell_type": "markdown",
   "metadata": {},
   "source": [
    "## Introduction\n",
    "\n",
    "Counterfeit medicines are fake medicines which are either contaminated or contain wrong or no active ingredient. They could have the right active ingredient but at the wrong dose. Counterfeit drugs are illegal and are harmful to health. `10%` of the world's medicine is counterfeit and the problem is even worse in developing countries. Up to `30%` of medicines in developing countries are counterfeit.\n",
    "\n",
    "Millions of pills, bottles and sachets of counterfeit and illegal medicines are being traded across the world. The World Health Organization (WHO) is working with International Criminal Police Organization (Interpol) to dislodge the criminal networks raking in billions of dollars from this cynical trade.\n",
    "\n",
    "Despite all these efforts, counterfeit medicine selling rackets don’t seem to stop popping here and there. It has become a challenge to deploy resources to counter these; without spreading them too thin and eventually rendering them ineffective. Government has decided that they should focus on illegal operations of high networth first instead of trying to control all of them. In order to do that they have collected data which will help them to predict sales figures given an illegal operation's characteristics\n"
   ]
  },
  {
   "cell_type": "markdown",
   "metadata": {},
   "source": [
    "## Formal Problem Statement\n",
    "\n",
    "We would like to make example out a few of these counterfeiters but the challenge is what yardstick can we employ to determine the 'big fish(es)' that we can use as scape goat to send a strong message to these clandestine communities and equally serve as deterrent. After considering numerous features and attributes of these counterfeiters, we resolved to zero in on their sales figures. To this end we shall put to use the power of machine learning to scientifically predict current and future counterfeiters and stop them in their tracks for good!\n",
    "\n",
    "We would train a model on  data we have collected secretly over the years on their operations. The data dictionary of the data is as follows:\n",
    "\n",
    "| Variable                   |        Values                                                              |\n",
    "|----------------------------|----------------------------------------------------------------------------|\n",
    "|Medicine_ID                 |Alphanumeric identification number;Norminal Integer                         |\n",
    "|Counterfeit_weight          |weighted percentage attached to each medicine;continuous                    |\n",
    "|District_ID                 |District identification number; alphanumeric                                |\n",
    "|Active since                |year monitoring started;Integer                                             |\n",
    "|Medicine MRP                |Medicine price list;continuous                                              |  \n",
    "|Medicine type               |the form of the medicine;categorical                                        |\n",
    "|Side effect level           |the severity of the side effect associated with the medicine,categorical    |\n",
    "|Availability rating         |the rate at which the medicine is available,continuous                      |\n",
    "|Area type                   |the level of development of an area,                                        |\n",
    "|Area city type              |the rating of the city;categorical                                          |\n",
    "|Area district level         |the level of the area district;categorical                                  |\n",
    "|Counterfeit sales           |value of sales,continuous                                                   |\n",
    "                           \n",
    "                           \n",
    "\n",
    "\n",
    "\n"
   ]
  },
  {
   "cell_type": "code",
   "execution_count": null,
   "metadata": {
    "collapsed": true
   },
   "outputs": [],
   "source": []
  },
  {
   "cell_type": "code",
   "execution_count": null,
   "metadata": {
    "collapsed": true
   },
   "outputs": [],
   "source": []
  }
 ],
 "metadata": {
  "kernelspec": {
   "display_name": "Python 3",
   "language": "python",
   "name": "python3"
  },
  "language_info": {
   "codemirror_mode": {
    "name": "ipython",
    "version": 3
   },
   "file_extension": ".py",
   "mimetype": "text/x-python",
   "name": "python",
   "nbconvert_exporter": "python",
   "pygments_lexer": "ipython3",
   "version": "3.6.1"
  }
 },
 "nbformat": 4,
 "nbformat_minor": 2
}
